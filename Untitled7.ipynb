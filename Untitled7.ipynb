{
  "nbformat": 4,
  "nbformat_minor": 0,
  "metadata": {
    "colab": {
      "name": "Untitled7.ipynb",
      "provenance": [],
      "collapsed_sections": [],
      "include_colab_link": true
    },
    "kernelspec": {
      "name": "python3",
      "display_name": "Python 3"
    }
  },
  "cells": [
    {
      "cell_type": "markdown",
      "metadata": {
        "id": "view-in-github",
        "colab_type": "text"
      },
      "source": [
        "<a href=\"https://colab.research.google.com/github/chacha-chaudhary/another-one/blob/master/Untitled7.ipynb\" target=\"_parent\"><img src=\"https://colab.research.google.com/assets/colab-badge.svg\" alt=\"Open In Colab\"/></a>"
      ]
    },
    {
      "cell_type": "code",
      "metadata": {
        "id": "ULuT6uNRDNO3",
        "outputId": "0afa5de9-c67b-43c9-cc97-f5839117c1e5",
        "colab": {
          "base_uri": "https://localhost:8080/",
          "height": 71
        }
      },
      "source": [
        "#importing standard libraries\n",
        "import pandas as pd\n",
        "import numpy as np\n",
        "import matplotlib.pyplot as plt\n",
        "import seaborn as sns\n",
        "import plotly as px"
      ],
      "execution_count": null,
      "outputs": [
        {
          "output_type": "stream",
          "text": [
            "/usr/local/lib/python3.6/dist-packages/statsmodels/tools/_testing.py:19: FutureWarning: pandas.util.testing is deprecated. Use the functions in the public API at pandas.testing instead.\n",
            "  import pandas.util.testing as tm\n"
          ],
          "name": "stderr"
        }
      ]
    },
    {
      "cell_type": "code",
      "metadata": {
        "id": "LwprvPNtDcTh"
      },
      "source": [
        "#reading the dataset\n",
        "df=pd.read_excel(r'/content/Superstore.xls')"
      ],
      "execution_count": null,
      "outputs": []
    },
    {
      "cell_type": "code",
      "metadata": {
        "id": "hzDWh7UBEDzT",
        "outputId": "c7974d8a-f4f7-435b-e0a2-71ed5a747e5f",
        "colab": {
          "base_uri": "https://localhost:8080/",
          "height": 547
        }
      },
      "source": [
        "#looking at the first 5 data entries\n",
        "df.head(5)"
      ],
      "execution_count": null,
      "outputs": [
        {
          "output_type": "execute_result",
          "data": {
            "text/html": [
              "<div>\n",
              "<style scoped>\n",
              "    .dataframe tbody tr th:only-of-type {\n",
              "        vertical-align: middle;\n",
              "    }\n",
              "\n",
              "    .dataframe tbody tr th {\n",
              "        vertical-align: top;\n",
              "    }\n",
              "\n",
              "    .dataframe thead th {\n",
              "        text-align: right;\n",
              "    }\n",
              "</style>\n",
              "<table border=\"1\" class=\"dataframe\">\n",
              "  <thead>\n",
              "    <tr style=\"text-align: right;\">\n",
              "      <th></th>\n",
              "      <th>Row ID</th>\n",
              "      <th>Order ID</th>\n",
              "      <th>Order Date</th>\n",
              "      <th>Ship Date</th>\n",
              "      <th>Ship Mode</th>\n",
              "      <th>Customer ID</th>\n",
              "      <th>Customer Name</th>\n",
              "      <th>Segment</th>\n",
              "      <th>Country</th>\n",
              "      <th>City</th>\n",
              "      <th>State</th>\n",
              "      <th>Postal Code</th>\n",
              "      <th>Region</th>\n",
              "      <th>Product ID</th>\n",
              "      <th>Category</th>\n",
              "      <th>Sub-Category</th>\n",
              "      <th>Product Name</th>\n",
              "      <th>Sales</th>\n",
              "      <th>Quantity</th>\n",
              "      <th>Discount</th>\n",
              "      <th>Profit</th>\n",
              "    </tr>\n",
              "  </thead>\n",
              "  <tbody>\n",
              "    <tr>\n",
              "      <th>0</th>\n",
              "      <td>1</td>\n",
              "      <td>CA-2016-152156</td>\n",
              "      <td>2016-11-08</td>\n",
              "      <td>2016-11-11</td>\n",
              "      <td>Second Class</td>\n",
              "      <td>CG-12520</td>\n",
              "      <td>Claire Gute</td>\n",
              "      <td>Consumer</td>\n",
              "      <td>United States</td>\n",
              "      <td>Henderson</td>\n",
              "      <td>Kentucky</td>\n",
              "      <td>42420</td>\n",
              "      <td>South</td>\n",
              "      <td>FUR-BO-10001798</td>\n",
              "      <td>Furniture</td>\n",
              "      <td>Bookcases</td>\n",
              "      <td>Bush Somerset Collection Bookcase</td>\n",
              "      <td>261.9600</td>\n",
              "      <td>2</td>\n",
              "      <td>0.00</td>\n",
              "      <td>41.9136</td>\n",
              "    </tr>\n",
              "    <tr>\n",
              "      <th>1</th>\n",
              "      <td>2</td>\n",
              "      <td>CA-2016-152156</td>\n",
              "      <td>2016-11-08</td>\n",
              "      <td>2016-11-11</td>\n",
              "      <td>Second Class</td>\n",
              "      <td>CG-12520</td>\n",
              "      <td>Claire Gute</td>\n",
              "      <td>Consumer</td>\n",
              "      <td>United States</td>\n",
              "      <td>Henderson</td>\n",
              "      <td>Kentucky</td>\n",
              "      <td>42420</td>\n",
              "      <td>South</td>\n",
              "      <td>FUR-CH-10000454</td>\n",
              "      <td>Furniture</td>\n",
              "      <td>Chairs</td>\n",
              "      <td>Hon Deluxe Fabric Upholstered Stacking Chairs,...</td>\n",
              "      <td>731.9400</td>\n",
              "      <td>3</td>\n",
              "      <td>0.00</td>\n",
              "      <td>219.5820</td>\n",
              "    </tr>\n",
              "    <tr>\n",
              "      <th>2</th>\n",
              "      <td>3</td>\n",
              "      <td>CA-2016-138688</td>\n",
              "      <td>2016-06-12</td>\n",
              "      <td>2016-06-16</td>\n",
              "      <td>Second Class</td>\n",
              "      <td>DV-13045</td>\n",
              "      <td>Darrin Van Huff</td>\n",
              "      <td>Corporate</td>\n",
              "      <td>United States</td>\n",
              "      <td>Los Angeles</td>\n",
              "      <td>California</td>\n",
              "      <td>90036</td>\n",
              "      <td>West</td>\n",
              "      <td>OFF-LA-10000240</td>\n",
              "      <td>Office Supplies</td>\n",
              "      <td>Labels</td>\n",
              "      <td>Self-Adhesive Address Labels for Typewriters b...</td>\n",
              "      <td>14.6200</td>\n",
              "      <td>2</td>\n",
              "      <td>0.00</td>\n",
              "      <td>6.8714</td>\n",
              "    </tr>\n",
              "    <tr>\n",
              "      <th>3</th>\n",
              "      <td>4</td>\n",
              "      <td>US-2015-108966</td>\n",
              "      <td>2015-10-11</td>\n",
              "      <td>2015-10-18</td>\n",
              "      <td>Standard Class</td>\n",
              "      <td>SO-20335</td>\n",
              "      <td>Sean O'Donnell</td>\n",
              "      <td>Consumer</td>\n",
              "      <td>United States</td>\n",
              "      <td>Fort Lauderdale</td>\n",
              "      <td>Florida</td>\n",
              "      <td>33311</td>\n",
              "      <td>South</td>\n",
              "      <td>FUR-TA-10000577</td>\n",
              "      <td>Furniture</td>\n",
              "      <td>Tables</td>\n",
              "      <td>Bretford CR4500 Series Slim Rectangular Table</td>\n",
              "      <td>957.5775</td>\n",
              "      <td>5</td>\n",
              "      <td>0.45</td>\n",
              "      <td>-383.0310</td>\n",
              "    </tr>\n",
              "    <tr>\n",
              "      <th>4</th>\n",
              "      <td>5</td>\n",
              "      <td>US-2015-108966</td>\n",
              "      <td>2015-10-11</td>\n",
              "      <td>2015-10-18</td>\n",
              "      <td>Standard Class</td>\n",
              "      <td>SO-20335</td>\n",
              "      <td>Sean O'Donnell</td>\n",
              "      <td>Consumer</td>\n",
              "      <td>United States</td>\n",
              "      <td>Fort Lauderdale</td>\n",
              "      <td>Florida</td>\n",
              "      <td>33311</td>\n",
              "      <td>South</td>\n",
              "      <td>OFF-ST-10000760</td>\n",
              "      <td>Office Supplies</td>\n",
              "      <td>Storage</td>\n",
              "      <td>Eldon Fold 'N Roll Cart System</td>\n",
              "      <td>22.3680</td>\n",
              "      <td>2</td>\n",
              "      <td>0.20</td>\n",
              "      <td>2.5164</td>\n",
              "    </tr>\n",
              "  </tbody>\n",
              "</table>\n",
              "</div>"
            ],
            "text/plain": [
              "   Row ID        Order ID Order Date  ... Quantity Discount    Profit\n",
              "0       1  CA-2016-152156 2016-11-08  ...        2     0.00   41.9136\n",
              "1       2  CA-2016-152156 2016-11-08  ...        3     0.00  219.5820\n",
              "2       3  CA-2016-138688 2016-06-12  ...        2     0.00    6.8714\n",
              "3       4  US-2015-108966 2015-10-11  ...        5     0.45 -383.0310\n",
              "4       5  US-2015-108966 2015-10-11  ...        2     0.20    2.5164\n",
              "\n",
              "[5 rows x 21 columns]"
            ]
          },
          "metadata": {
            "tags": []
          },
          "execution_count": 3
        }
      ]
    },
    {
      "cell_type": "code",
      "metadata": {
        "id": "Cb7j8ivoEs5v",
        "outputId": "d13b41ec-c4d1-49b3-8eb7-bd2fb53aaca4",
        "colab": {
          "base_uri": "https://localhost:8080/",
          "height": 102
        }
      },
      "source": [
        "#Printing the columns\n",
        "print(df.columns)"
      ],
      "execution_count": null,
      "outputs": [
        {
          "output_type": "stream",
          "text": [
            "Index(['Row ID', 'Order ID', 'Order Date', 'Ship Date', 'Ship Mode',\n",
            "       'Customer ID', 'Customer Name', 'Segment', 'Country', 'City', 'State',\n",
            "       'Postal Code', 'Region', 'Product ID', 'Category', 'Sub-Category',\n",
            "       'Product Name', 'Sales', 'Quantity', 'Discount', 'Profit'],\n",
            "      dtype='object')\n"
          ],
          "name": "stdout"
        }
      ]
    },
    {
      "cell_type": "code",
      "metadata": {
        "id": "JJF4zyIAEzS5",
        "outputId": "c54a9360-4a28-4ba3-ead4-2b46d67fa2f7",
        "colab": {
          "base_uri": "https://localhost:8080/",
          "height": 297
        }
      },
      "source": [
        "#To gain info such as  count , mean , max , min, standard deviation, we can call the describe method\n",
        "df.describe()"
      ],
      "execution_count": null,
      "outputs": [
        {
          "output_type": "execute_result",
          "data": {
            "text/html": [
              "<div>\n",
              "<style scoped>\n",
              "    .dataframe tbody tr th:only-of-type {\n",
              "        vertical-align: middle;\n",
              "    }\n",
              "\n",
              "    .dataframe tbody tr th {\n",
              "        vertical-align: top;\n",
              "    }\n",
              "\n",
              "    .dataframe thead th {\n",
              "        text-align: right;\n",
              "    }\n",
              "</style>\n",
              "<table border=\"1\" class=\"dataframe\">\n",
              "  <thead>\n",
              "    <tr style=\"text-align: right;\">\n",
              "      <th></th>\n",
              "      <th>Row ID</th>\n",
              "      <th>Postal Code</th>\n",
              "      <th>Sales</th>\n",
              "      <th>Quantity</th>\n",
              "      <th>Discount</th>\n",
              "      <th>Profit</th>\n",
              "    </tr>\n",
              "  </thead>\n",
              "  <tbody>\n",
              "    <tr>\n",
              "      <th>count</th>\n",
              "      <td>9994.000000</td>\n",
              "      <td>9994.000000</td>\n",
              "      <td>9994.000000</td>\n",
              "      <td>9994.000000</td>\n",
              "      <td>9994.000000</td>\n",
              "      <td>9994.000000</td>\n",
              "    </tr>\n",
              "    <tr>\n",
              "      <th>mean</th>\n",
              "      <td>4997.500000</td>\n",
              "      <td>55190.379428</td>\n",
              "      <td>229.858001</td>\n",
              "      <td>3.789574</td>\n",
              "      <td>0.156203</td>\n",
              "      <td>28.656896</td>\n",
              "    </tr>\n",
              "    <tr>\n",
              "      <th>std</th>\n",
              "      <td>2885.163629</td>\n",
              "      <td>32063.693350</td>\n",
              "      <td>623.245101</td>\n",
              "      <td>2.225110</td>\n",
              "      <td>0.206452</td>\n",
              "      <td>234.260108</td>\n",
              "    </tr>\n",
              "    <tr>\n",
              "      <th>min</th>\n",
              "      <td>1.000000</td>\n",
              "      <td>1040.000000</td>\n",
              "      <td>0.444000</td>\n",
              "      <td>1.000000</td>\n",
              "      <td>0.000000</td>\n",
              "      <td>-6599.978000</td>\n",
              "    </tr>\n",
              "    <tr>\n",
              "      <th>25%</th>\n",
              "      <td>2499.250000</td>\n",
              "      <td>23223.000000</td>\n",
              "      <td>17.280000</td>\n",
              "      <td>2.000000</td>\n",
              "      <td>0.000000</td>\n",
              "      <td>1.728750</td>\n",
              "    </tr>\n",
              "    <tr>\n",
              "      <th>50%</th>\n",
              "      <td>4997.500000</td>\n",
              "      <td>56430.500000</td>\n",
              "      <td>54.490000</td>\n",
              "      <td>3.000000</td>\n",
              "      <td>0.200000</td>\n",
              "      <td>8.666500</td>\n",
              "    </tr>\n",
              "    <tr>\n",
              "      <th>75%</th>\n",
              "      <td>7495.750000</td>\n",
              "      <td>90008.000000</td>\n",
              "      <td>209.940000</td>\n",
              "      <td>5.000000</td>\n",
              "      <td>0.200000</td>\n",
              "      <td>29.364000</td>\n",
              "    </tr>\n",
              "    <tr>\n",
              "      <th>max</th>\n",
              "      <td>9994.000000</td>\n",
              "      <td>99301.000000</td>\n",
              "      <td>22638.480000</td>\n",
              "      <td>14.000000</td>\n",
              "      <td>0.800000</td>\n",
              "      <td>8399.976000</td>\n",
              "    </tr>\n",
              "  </tbody>\n",
              "</table>\n",
              "</div>"
            ],
            "text/plain": [
              "            Row ID   Postal Code  ...     Discount       Profit\n",
              "count  9994.000000   9994.000000  ...  9994.000000  9994.000000\n",
              "mean   4997.500000  55190.379428  ...     0.156203    28.656896\n",
              "std    2885.163629  32063.693350  ...     0.206452   234.260108\n",
              "min       1.000000   1040.000000  ...     0.000000 -6599.978000\n",
              "25%    2499.250000  23223.000000  ...     0.000000     1.728750\n",
              "50%    4997.500000  56430.500000  ...     0.200000     8.666500\n",
              "75%    7495.750000  90008.000000  ...     0.200000    29.364000\n",
              "max    9994.000000  99301.000000  ...     0.800000  8399.976000\n",
              "\n",
              "[8 rows x 6 columns]"
            ]
          },
          "metadata": {
            "tags": []
          },
          "execution_count": 5
        }
      ]
    },
    {
      "cell_type": "code",
      "metadata": {
        "id": "WWpVrTKuFCH9",
        "outputId": "a55818e5-624c-476c-b7c4-d5eff574d43b",
        "colab": {
          "base_uri": "https://localhost:8080/",
          "height": 357
        }
      },
      "source": [
        "#check for missing values\n",
        "df.sum().isna()"
      ],
      "execution_count": null,
      "outputs": [
        {
          "output_type": "execute_result",
          "data": {
            "text/plain": [
              "Row ID           False\n",
              "Order ID         False\n",
              "Ship Mode        False\n",
              "Customer ID      False\n",
              "Customer Name    False\n",
              "Segment          False\n",
              "Country          False\n",
              "City             False\n",
              "State            False\n",
              "Postal Code      False\n",
              "Region           False\n",
              "Product ID       False\n",
              "Category         False\n",
              "Sub-Category     False\n",
              "Product Name     False\n",
              "Sales            False\n",
              "Quantity         False\n",
              "Discount         False\n",
              "Profit           False\n",
              "dtype: bool"
            ]
          },
          "metadata": {
            "tags": []
          },
          "execution_count": 6
        }
      ]
    },
    {
      "cell_type": "markdown",
      "metadata": {
        "id": "_yeVTiFyFTVc"
      },
      "source": [
        "as we can see, the dataset does not have any missing values"
      ]
    },
    {
      "cell_type": "markdown",
      "metadata": {
        "id": "-HJ8clNxFbbR"
      },
      "source": [
        "In the dataset, we notice 'Order Date' and 'Ship Date'. These are temporal valuesa and we will use the datetime pkg to convert them to meaningful features\n"
      ]
    },
    {
      "cell_type": "code",
      "metadata": {
        "id": "M5A9ER45FQtO"
      },
      "source": [
        "#importing datetime library\n",
        "import datetime as dt"
      ],
      "execution_count": null,
      "outputs": []
    },
    {
      "cell_type": "markdown",
      "metadata": {
        "id": "wR1pdhytGNNs"
      },
      "source": [
        "Before making changes to the dataset, it is always advisable to create a copy of the original dataset. This way, if we perform any unwanted operation/transformation, we can always go back to the original dataset\n"
      ]
    },
    {
      "cell_type": "code",
      "metadata": {
        "id": "6mEx7S80Fx8y"
      },
      "source": [
        "#creating a copy\n",
        "df_temp=df.copy()"
      ],
      "execution_count": null,
      "outputs": []
    },
    {
      "cell_type": "code",
      "metadata": {
        "id": "ohhWASHbGefA",
        "outputId": "424e20e5-9514-4ac7-94ba-fed9377c3124",
        "colab": {
          "base_uri": "https://localhost:8080/",
          "height": 267
        }
      },
      "source": [
        "df_temp.head(2)"
      ],
      "execution_count": null,
      "outputs": [
        {
          "output_type": "execute_result",
          "data": {
            "text/html": [
              "<div>\n",
              "<style scoped>\n",
              "    .dataframe tbody tr th:only-of-type {\n",
              "        vertical-align: middle;\n",
              "    }\n",
              "\n",
              "    .dataframe tbody tr th {\n",
              "        vertical-align: top;\n",
              "    }\n",
              "\n",
              "    .dataframe thead th {\n",
              "        text-align: right;\n",
              "    }\n",
              "</style>\n",
              "<table border=\"1\" class=\"dataframe\">\n",
              "  <thead>\n",
              "    <tr style=\"text-align: right;\">\n",
              "      <th></th>\n",
              "      <th>Row ID</th>\n",
              "      <th>Order ID</th>\n",
              "      <th>Order Date</th>\n",
              "      <th>Ship Date</th>\n",
              "      <th>Ship Mode</th>\n",
              "      <th>Customer ID</th>\n",
              "      <th>Customer Name</th>\n",
              "      <th>Segment</th>\n",
              "      <th>Country</th>\n",
              "      <th>City</th>\n",
              "      <th>State</th>\n",
              "      <th>Postal Code</th>\n",
              "      <th>Region</th>\n",
              "      <th>Product ID</th>\n",
              "      <th>Category</th>\n",
              "      <th>Sub-Category</th>\n",
              "      <th>Product Name</th>\n",
              "      <th>Sales</th>\n",
              "      <th>Quantity</th>\n",
              "      <th>Discount</th>\n",
              "      <th>Profit</th>\n",
              "    </tr>\n",
              "  </thead>\n",
              "  <tbody>\n",
              "    <tr>\n",
              "      <th>0</th>\n",
              "      <td>1</td>\n",
              "      <td>CA-2016-152156</td>\n",
              "      <td>2016-11-08</td>\n",
              "      <td>2016-11-11</td>\n",
              "      <td>Second Class</td>\n",
              "      <td>CG-12520</td>\n",
              "      <td>Claire Gute</td>\n",
              "      <td>Consumer</td>\n",
              "      <td>United States</td>\n",
              "      <td>Henderson</td>\n",
              "      <td>Kentucky</td>\n",
              "      <td>42420</td>\n",
              "      <td>South</td>\n",
              "      <td>FUR-BO-10001798</td>\n",
              "      <td>Furniture</td>\n",
              "      <td>Bookcases</td>\n",
              "      <td>Bush Somerset Collection Bookcase</td>\n",
              "      <td>261.96</td>\n",
              "      <td>2</td>\n",
              "      <td>0.0</td>\n",
              "      <td>41.9136</td>\n",
              "    </tr>\n",
              "    <tr>\n",
              "      <th>1</th>\n",
              "      <td>2</td>\n",
              "      <td>CA-2016-152156</td>\n",
              "      <td>2016-11-08</td>\n",
              "      <td>2016-11-11</td>\n",
              "      <td>Second Class</td>\n",
              "      <td>CG-12520</td>\n",
              "      <td>Claire Gute</td>\n",
              "      <td>Consumer</td>\n",
              "      <td>United States</td>\n",
              "      <td>Henderson</td>\n",
              "      <td>Kentucky</td>\n",
              "      <td>42420</td>\n",
              "      <td>South</td>\n",
              "      <td>FUR-CH-10000454</td>\n",
              "      <td>Furniture</td>\n",
              "      <td>Chairs</td>\n",
              "      <td>Hon Deluxe Fabric Upholstered Stacking Chairs,...</td>\n",
              "      <td>731.94</td>\n",
              "      <td>3</td>\n",
              "      <td>0.0</td>\n",
              "      <td>219.5820</td>\n",
              "    </tr>\n",
              "  </tbody>\n",
              "</table>\n",
              "</div>"
            ],
            "text/plain": [
              "   Row ID        Order ID Order Date  ... Quantity Discount    Profit\n",
              "0       1  CA-2016-152156 2016-11-08  ...        2      0.0   41.9136\n",
              "1       2  CA-2016-152156 2016-11-08  ...        3      0.0  219.5820\n",
              "\n",
              "[2 rows x 21 columns]"
            ]
          },
          "metadata": {
            "tags": []
          },
          "execution_count": 9
        }
      ]
    },
    {
      "cell_type": "code",
      "metadata": {
        "id": "gt0_qL1vGhue"
      },
      "source": [
        "#as 'Order Date' and 'Ship Date' have whitespaces, we will rename to more convenient variables\n",
        "df_temp = df.rename({'Order Date': 'Order_date', 'Ship Date': 'Ship_Date'}, axis=1) "
      ],
      "execution_count": null,
      "outputs": []
    },
    {
      "cell_type": "code",
      "metadata": {
        "id": "uMGBsdpmHLna",
        "outputId": "47815062-b08d-4424-ba80-8dcc7027df4e",
        "colab": {
          "base_uri": "https://localhost:8080/",
          "height": 168
        }
      },
      "source": [
        "df_temp.head(1)"
      ],
      "execution_count": null,
      "outputs": [
        {
          "output_type": "execute_result",
          "data": {
            "text/html": [
              "<div>\n",
              "<style scoped>\n",
              "    .dataframe tbody tr th:only-of-type {\n",
              "        vertical-align: middle;\n",
              "    }\n",
              "\n",
              "    .dataframe tbody tr th {\n",
              "        vertical-align: top;\n",
              "    }\n",
              "\n",
              "    .dataframe thead th {\n",
              "        text-align: right;\n",
              "    }\n",
              "</style>\n",
              "<table border=\"1\" class=\"dataframe\">\n",
              "  <thead>\n",
              "    <tr style=\"text-align: right;\">\n",
              "      <th></th>\n",
              "      <th>Row ID</th>\n",
              "      <th>Order ID</th>\n",
              "      <th>Order_date</th>\n",
              "      <th>Ship_Date</th>\n",
              "      <th>Ship Mode</th>\n",
              "      <th>Customer ID</th>\n",
              "      <th>Customer Name</th>\n",
              "      <th>Segment</th>\n",
              "      <th>Country</th>\n",
              "      <th>City</th>\n",
              "      <th>State</th>\n",
              "      <th>Postal Code</th>\n",
              "      <th>Region</th>\n",
              "      <th>Product ID</th>\n",
              "      <th>Category</th>\n",
              "      <th>Sub-Category</th>\n",
              "      <th>Product Name</th>\n",
              "      <th>Sales</th>\n",
              "      <th>Quantity</th>\n",
              "      <th>Discount</th>\n",
              "      <th>Profit</th>\n",
              "    </tr>\n",
              "  </thead>\n",
              "  <tbody>\n",
              "    <tr>\n",
              "      <th>0</th>\n",
              "      <td>1</td>\n",
              "      <td>CA-2016-152156</td>\n",
              "      <td>2016-11-08</td>\n",
              "      <td>2016-11-11</td>\n",
              "      <td>Second Class</td>\n",
              "      <td>CG-12520</td>\n",
              "      <td>Claire Gute</td>\n",
              "      <td>Consumer</td>\n",
              "      <td>United States</td>\n",
              "      <td>Henderson</td>\n",
              "      <td>Kentucky</td>\n",
              "      <td>42420</td>\n",
              "      <td>South</td>\n",
              "      <td>FUR-BO-10001798</td>\n",
              "      <td>Furniture</td>\n",
              "      <td>Bookcases</td>\n",
              "      <td>Bush Somerset Collection Bookcase</td>\n",
              "      <td>261.96</td>\n",
              "      <td>2</td>\n",
              "      <td>0.0</td>\n",
              "      <td>41.9136</td>\n",
              "    </tr>\n",
              "  </tbody>\n",
              "</table>\n",
              "</div>"
            ],
            "text/plain": [
              "   Row ID        Order ID Order_date  ... Quantity Discount   Profit\n",
              "0       1  CA-2016-152156 2016-11-08  ...        2      0.0  41.9136\n",
              "\n",
              "[1 rows x 21 columns]"
            ]
          },
          "metadata": {
            "tags": []
          },
          "execution_count": 11
        }
      ]
    },
    {
      "cell_type": "code",
      "metadata": {
        "id": "0Yp587R7JFzZ"
      },
      "source": [
        "#applying temporal transformation\n",
        "df_temp[\"Order_year\"] = df_temp.Order_date.dt.year\n",
        "df_temp[\"Order_month\"] = df_temp.Order_date.dt.month\n",
        "df_temp[\"Order_day\"] = df_temp.Order_date.dt.day\n",
        "df_temp[\"Ship_year\"] = df_temp.Ship_Date.dt.year\n",
        "df_temp[\"Ship_month\"] = df_temp.Ship_Date.dt.month\n",
        "df_temp[\"Ship_day\"] = df_temp.Ship_Date.dt.day\n"
      ],
      "execution_count": null,
      "outputs": []
    },
    {
      "cell_type": "code",
      "metadata": {
        "id": "B0wcqTMzJvuE",
        "outputId": "dc3dfc7d-9979-4c73-f34f-94fb0bdd67d9",
        "colab": {
          "base_uri": "https://localhost:8080/",
          "height": 119
        }
      },
      "source": [
        "df_temp.columns"
      ],
      "execution_count": null,
      "outputs": [
        {
          "output_type": "execute_result",
          "data": {
            "text/plain": [
              "Index(['Row ID', 'Order ID', 'Order_date', 'Ship_Date', 'Ship Mode',\n",
              "       'Customer ID', 'Customer Name', 'Segment', 'Country', 'City', 'State',\n",
              "       'Postal Code', 'Region', 'Product ID', 'Category', 'Sub-Category',\n",
              "       'Product Name', 'Sales', 'Quantity', 'Discount', 'Profit', 'Order_year',\n",
              "       'Order_month', 'Order_day', 'Ship_year', 'Ship_month', 'Ship_day'],\n",
              "      dtype='object')"
            ]
          },
          "metadata": {
            "tags": []
          },
          "execution_count": 13
        }
      ]
    },
    {
      "cell_type": "code",
      "metadata": {
        "id": "EuIaKhwGJx8Q",
        "outputId": "2c46a09d-3dd2-49cb-8996-936d2a77b46d",
        "colab": {
          "base_uri": "https://localhost:8080/",
          "height": 547
        }
      },
      "source": [
        "#lookin at the new dataset\n",
        "df_temp.head(5)"
      ],
      "execution_count": null,
      "outputs": [
        {
          "output_type": "execute_result",
          "data": {
            "text/html": [
              "<div>\n",
              "<style scoped>\n",
              "    .dataframe tbody tr th:only-of-type {\n",
              "        vertical-align: middle;\n",
              "    }\n",
              "\n",
              "    .dataframe tbody tr th {\n",
              "        vertical-align: top;\n",
              "    }\n",
              "\n",
              "    .dataframe thead th {\n",
              "        text-align: right;\n",
              "    }\n",
              "</style>\n",
              "<table border=\"1\" class=\"dataframe\">\n",
              "  <thead>\n",
              "    <tr style=\"text-align: right;\">\n",
              "      <th></th>\n",
              "      <th>Row ID</th>\n",
              "      <th>Order ID</th>\n",
              "      <th>Order_date</th>\n",
              "      <th>Ship_Date</th>\n",
              "      <th>Ship Mode</th>\n",
              "      <th>Customer ID</th>\n",
              "      <th>Customer Name</th>\n",
              "      <th>Segment</th>\n",
              "      <th>Country</th>\n",
              "      <th>City</th>\n",
              "      <th>State</th>\n",
              "      <th>Postal Code</th>\n",
              "      <th>Region</th>\n",
              "      <th>Product ID</th>\n",
              "      <th>Category</th>\n",
              "      <th>Sub-Category</th>\n",
              "      <th>Product Name</th>\n",
              "      <th>Sales</th>\n",
              "      <th>Quantity</th>\n",
              "      <th>Discount</th>\n",
              "      <th>Profit</th>\n",
              "      <th>Order_year</th>\n",
              "      <th>Order_month</th>\n",
              "      <th>Order_day</th>\n",
              "      <th>Ship_year</th>\n",
              "      <th>Ship_month</th>\n",
              "      <th>Ship_day</th>\n",
              "    </tr>\n",
              "  </thead>\n",
              "  <tbody>\n",
              "    <tr>\n",
              "      <th>0</th>\n",
              "      <td>1</td>\n",
              "      <td>CA-2016-152156</td>\n",
              "      <td>2016-11-08</td>\n",
              "      <td>2016-11-11</td>\n",
              "      <td>Second Class</td>\n",
              "      <td>CG-12520</td>\n",
              "      <td>Claire Gute</td>\n",
              "      <td>Consumer</td>\n",
              "      <td>United States</td>\n",
              "      <td>Henderson</td>\n",
              "      <td>Kentucky</td>\n",
              "      <td>42420</td>\n",
              "      <td>South</td>\n",
              "      <td>FUR-BO-10001798</td>\n",
              "      <td>Furniture</td>\n",
              "      <td>Bookcases</td>\n",
              "      <td>Bush Somerset Collection Bookcase</td>\n",
              "      <td>261.9600</td>\n",
              "      <td>2</td>\n",
              "      <td>0.00</td>\n",
              "      <td>41.9136</td>\n",
              "      <td>2016</td>\n",
              "      <td>11</td>\n",
              "      <td>8</td>\n",
              "      <td>2016</td>\n",
              "      <td>11</td>\n",
              "      <td>11</td>\n",
              "    </tr>\n",
              "    <tr>\n",
              "      <th>1</th>\n",
              "      <td>2</td>\n",
              "      <td>CA-2016-152156</td>\n",
              "      <td>2016-11-08</td>\n",
              "      <td>2016-11-11</td>\n",
              "      <td>Second Class</td>\n",
              "      <td>CG-12520</td>\n",
              "      <td>Claire Gute</td>\n",
              "      <td>Consumer</td>\n",
              "      <td>United States</td>\n",
              "      <td>Henderson</td>\n",
              "      <td>Kentucky</td>\n",
              "      <td>42420</td>\n",
              "      <td>South</td>\n",
              "      <td>FUR-CH-10000454</td>\n",
              "      <td>Furniture</td>\n",
              "      <td>Chairs</td>\n",
              "      <td>Hon Deluxe Fabric Upholstered Stacking Chairs,...</td>\n",
              "      <td>731.9400</td>\n",
              "      <td>3</td>\n",
              "      <td>0.00</td>\n",
              "      <td>219.5820</td>\n",
              "      <td>2016</td>\n",
              "      <td>11</td>\n",
              "      <td>8</td>\n",
              "      <td>2016</td>\n",
              "      <td>11</td>\n",
              "      <td>11</td>\n",
              "    </tr>\n",
              "    <tr>\n",
              "      <th>2</th>\n",
              "      <td>3</td>\n",
              "      <td>CA-2016-138688</td>\n",
              "      <td>2016-06-12</td>\n",
              "      <td>2016-06-16</td>\n",
              "      <td>Second Class</td>\n",
              "      <td>DV-13045</td>\n",
              "      <td>Darrin Van Huff</td>\n",
              "      <td>Corporate</td>\n",
              "      <td>United States</td>\n",
              "      <td>Los Angeles</td>\n",
              "      <td>California</td>\n",
              "      <td>90036</td>\n",
              "      <td>West</td>\n",
              "      <td>OFF-LA-10000240</td>\n",
              "      <td>Office Supplies</td>\n",
              "      <td>Labels</td>\n",
              "      <td>Self-Adhesive Address Labels for Typewriters b...</td>\n",
              "      <td>14.6200</td>\n",
              "      <td>2</td>\n",
              "      <td>0.00</td>\n",
              "      <td>6.8714</td>\n",
              "      <td>2016</td>\n",
              "      <td>6</td>\n",
              "      <td>12</td>\n",
              "      <td>2016</td>\n",
              "      <td>6</td>\n",
              "      <td>16</td>\n",
              "    </tr>\n",
              "    <tr>\n",
              "      <th>3</th>\n",
              "      <td>4</td>\n",
              "      <td>US-2015-108966</td>\n",
              "      <td>2015-10-11</td>\n",
              "      <td>2015-10-18</td>\n",
              "      <td>Standard Class</td>\n",
              "      <td>SO-20335</td>\n",
              "      <td>Sean O'Donnell</td>\n",
              "      <td>Consumer</td>\n",
              "      <td>United States</td>\n",
              "      <td>Fort Lauderdale</td>\n",
              "      <td>Florida</td>\n",
              "      <td>33311</td>\n",
              "      <td>South</td>\n",
              "      <td>FUR-TA-10000577</td>\n",
              "      <td>Furniture</td>\n",
              "      <td>Tables</td>\n",
              "      <td>Bretford CR4500 Series Slim Rectangular Table</td>\n",
              "      <td>957.5775</td>\n",
              "      <td>5</td>\n",
              "      <td>0.45</td>\n",
              "      <td>-383.0310</td>\n",
              "      <td>2015</td>\n",
              "      <td>10</td>\n",
              "      <td>11</td>\n",
              "      <td>2015</td>\n",
              "      <td>10</td>\n",
              "      <td>18</td>\n",
              "    </tr>\n",
              "    <tr>\n",
              "      <th>4</th>\n",
              "      <td>5</td>\n",
              "      <td>US-2015-108966</td>\n",
              "      <td>2015-10-11</td>\n",
              "      <td>2015-10-18</td>\n",
              "      <td>Standard Class</td>\n",
              "      <td>SO-20335</td>\n",
              "      <td>Sean O'Donnell</td>\n",
              "      <td>Consumer</td>\n",
              "      <td>United States</td>\n",
              "      <td>Fort Lauderdale</td>\n",
              "      <td>Florida</td>\n",
              "      <td>33311</td>\n",
              "      <td>South</td>\n",
              "      <td>OFF-ST-10000760</td>\n",
              "      <td>Office Supplies</td>\n",
              "      <td>Storage</td>\n",
              "      <td>Eldon Fold 'N Roll Cart System</td>\n",
              "      <td>22.3680</td>\n",
              "      <td>2</td>\n",
              "      <td>0.20</td>\n",
              "      <td>2.5164</td>\n",
              "      <td>2015</td>\n",
              "      <td>10</td>\n",
              "      <td>11</td>\n",
              "      <td>2015</td>\n",
              "      <td>10</td>\n",
              "      <td>18</td>\n",
              "    </tr>\n",
              "  </tbody>\n",
              "</table>\n",
              "</div>"
            ],
            "text/plain": [
              "   Row ID        Order ID Order_date  ... Ship_year Ship_month Ship_day\n",
              "0       1  CA-2016-152156 2016-11-08  ...      2016         11       11\n",
              "1       2  CA-2016-152156 2016-11-08  ...      2016         11       11\n",
              "2       3  CA-2016-138688 2016-06-12  ...      2016          6       16\n",
              "3       4  US-2015-108966 2015-10-11  ...      2015         10       18\n",
              "4       5  US-2015-108966 2015-10-11  ...      2015         10       18\n",
              "\n",
              "[5 rows x 27 columns]"
            ]
          },
          "metadata": {
            "tags": []
          },
          "execution_count": 14
        }
      ]
    },
    {
      "cell_type": "markdown",
      "metadata": {
        "id": "LCFUWb59KXlE"
      },
      "source": [
        "To find the per unit price, we can apply a simple mathematical logic of dividing the total sales by the qty sold\n"
      ]
    },
    {
      "cell_type": "code",
      "metadata": {
        "id": "8ZOxOe8TKMP7"
      },
      "source": [
        "#finding the per unit price and storing it in a new feature\n",
        "df_temp['Per_unit_price']=df_temp['Sales']/df_temp['Quantity']"
      ],
      "execution_count": null,
      "outputs": []
    },
    {
      "cell_type": "code",
      "metadata": {
        "id": "PADH-QdrK1bu",
        "outputId": "dce57c5e-f3cd-48bf-ca30-af810968b3c0",
        "colab": {
          "base_uri": "https://localhost:8080/",
          "height": 547
        }
      },
      "source": [
        "df_temp.head()"
      ],
      "execution_count": null,
      "outputs": [
        {
          "output_type": "execute_result",
          "data": {
            "text/html": [
              "<div>\n",
              "<style scoped>\n",
              "    .dataframe tbody tr th:only-of-type {\n",
              "        vertical-align: middle;\n",
              "    }\n",
              "\n",
              "    .dataframe tbody tr th {\n",
              "        vertical-align: top;\n",
              "    }\n",
              "\n",
              "    .dataframe thead th {\n",
              "        text-align: right;\n",
              "    }\n",
              "</style>\n",
              "<table border=\"1\" class=\"dataframe\">\n",
              "  <thead>\n",
              "    <tr style=\"text-align: right;\">\n",
              "      <th></th>\n",
              "      <th>Row ID</th>\n",
              "      <th>Order ID</th>\n",
              "      <th>Order_date</th>\n",
              "      <th>Ship_Date</th>\n",
              "      <th>Ship Mode</th>\n",
              "      <th>Customer ID</th>\n",
              "      <th>Customer Name</th>\n",
              "      <th>Segment</th>\n",
              "      <th>Country</th>\n",
              "      <th>City</th>\n",
              "      <th>State</th>\n",
              "      <th>Postal Code</th>\n",
              "      <th>Region</th>\n",
              "      <th>Product ID</th>\n",
              "      <th>Category</th>\n",
              "      <th>Sub-Category</th>\n",
              "      <th>Product Name</th>\n",
              "      <th>Sales</th>\n",
              "      <th>Quantity</th>\n",
              "      <th>Discount</th>\n",
              "      <th>Profit</th>\n",
              "      <th>Order_year</th>\n",
              "      <th>Order_month</th>\n",
              "      <th>Order_day</th>\n",
              "      <th>Ship_year</th>\n",
              "      <th>Ship_month</th>\n",
              "      <th>Ship_day</th>\n",
              "      <th>Per_unit_price</th>\n",
              "    </tr>\n",
              "  </thead>\n",
              "  <tbody>\n",
              "    <tr>\n",
              "      <th>0</th>\n",
              "      <td>1</td>\n",
              "      <td>CA-2016-152156</td>\n",
              "      <td>2016-11-08</td>\n",
              "      <td>2016-11-11</td>\n",
              "      <td>Second Class</td>\n",
              "      <td>CG-12520</td>\n",
              "      <td>Claire Gute</td>\n",
              "      <td>Consumer</td>\n",
              "      <td>United States</td>\n",
              "      <td>Henderson</td>\n",
              "      <td>Kentucky</td>\n",
              "      <td>42420</td>\n",
              "      <td>South</td>\n",
              "      <td>FUR-BO-10001798</td>\n",
              "      <td>Furniture</td>\n",
              "      <td>Bookcases</td>\n",
              "      <td>Bush Somerset Collection Bookcase</td>\n",
              "      <td>261.9600</td>\n",
              "      <td>2</td>\n",
              "      <td>0.00</td>\n",
              "      <td>41.9136</td>\n",
              "      <td>2016</td>\n",
              "      <td>11</td>\n",
              "      <td>8</td>\n",
              "      <td>2016</td>\n",
              "      <td>11</td>\n",
              "      <td>11</td>\n",
              "      <td>130.9800</td>\n",
              "    </tr>\n",
              "    <tr>\n",
              "      <th>1</th>\n",
              "      <td>2</td>\n",
              "      <td>CA-2016-152156</td>\n",
              "      <td>2016-11-08</td>\n",
              "      <td>2016-11-11</td>\n",
              "      <td>Second Class</td>\n",
              "      <td>CG-12520</td>\n",
              "      <td>Claire Gute</td>\n",
              "      <td>Consumer</td>\n",
              "      <td>United States</td>\n",
              "      <td>Henderson</td>\n",
              "      <td>Kentucky</td>\n",
              "      <td>42420</td>\n",
              "      <td>South</td>\n",
              "      <td>FUR-CH-10000454</td>\n",
              "      <td>Furniture</td>\n",
              "      <td>Chairs</td>\n",
              "      <td>Hon Deluxe Fabric Upholstered Stacking Chairs,...</td>\n",
              "      <td>731.9400</td>\n",
              "      <td>3</td>\n",
              "      <td>0.00</td>\n",
              "      <td>219.5820</td>\n",
              "      <td>2016</td>\n",
              "      <td>11</td>\n",
              "      <td>8</td>\n",
              "      <td>2016</td>\n",
              "      <td>11</td>\n",
              "      <td>11</td>\n",
              "      <td>243.9800</td>\n",
              "    </tr>\n",
              "    <tr>\n",
              "      <th>2</th>\n",
              "      <td>3</td>\n",
              "      <td>CA-2016-138688</td>\n",
              "      <td>2016-06-12</td>\n",
              "      <td>2016-06-16</td>\n",
              "      <td>Second Class</td>\n",
              "      <td>DV-13045</td>\n",
              "      <td>Darrin Van Huff</td>\n",
              "      <td>Corporate</td>\n",
              "      <td>United States</td>\n",
              "      <td>Los Angeles</td>\n",
              "      <td>California</td>\n",
              "      <td>90036</td>\n",
              "      <td>West</td>\n",
              "      <td>OFF-LA-10000240</td>\n",
              "      <td>Office Supplies</td>\n",
              "      <td>Labels</td>\n",
              "      <td>Self-Adhesive Address Labels for Typewriters b...</td>\n",
              "      <td>14.6200</td>\n",
              "      <td>2</td>\n",
              "      <td>0.00</td>\n",
              "      <td>6.8714</td>\n",
              "      <td>2016</td>\n",
              "      <td>6</td>\n",
              "      <td>12</td>\n",
              "      <td>2016</td>\n",
              "      <td>6</td>\n",
              "      <td>16</td>\n",
              "      <td>7.3100</td>\n",
              "    </tr>\n",
              "    <tr>\n",
              "      <th>3</th>\n",
              "      <td>4</td>\n",
              "      <td>US-2015-108966</td>\n",
              "      <td>2015-10-11</td>\n",
              "      <td>2015-10-18</td>\n",
              "      <td>Standard Class</td>\n",
              "      <td>SO-20335</td>\n",
              "      <td>Sean O'Donnell</td>\n",
              "      <td>Consumer</td>\n",
              "      <td>United States</td>\n",
              "      <td>Fort Lauderdale</td>\n",
              "      <td>Florida</td>\n",
              "      <td>33311</td>\n",
              "      <td>South</td>\n",
              "      <td>FUR-TA-10000577</td>\n",
              "      <td>Furniture</td>\n",
              "      <td>Tables</td>\n",
              "      <td>Bretford CR4500 Series Slim Rectangular Table</td>\n",
              "      <td>957.5775</td>\n",
              "      <td>5</td>\n",
              "      <td>0.45</td>\n",
              "      <td>-383.0310</td>\n",
              "      <td>2015</td>\n",
              "      <td>10</td>\n",
              "      <td>11</td>\n",
              "      <td>2015</td>\n",
              "      <td>10</td>\n",
              "      <td>18</td>\n",
              "      <td>191.5155</td>\n",
              "    </tr>\n",
              "    <tr>\n",
              "      <th>4</th>\n",
              "      <td>5</td>\n",
              "      <td>US-2015-108966</td>\n",
              "      <td>2015-10-11</td>\n",
              "      <td>2015-10-18</td>\n",
              "      <td>Standard Class</td>\n",
              "      <td>SO-20335</td>\n",
              "      <td>Sean O'Donnell</td>\n",
              "      <td>Consumer</td>\n",
              "      <td>United States</td>\n",
              "      <td>Fort Lauderdale</td>\n",
              "      <td>Florida</td>\n",
              "      <td>33311</td>\n",
              "      <td>South</td>\n",
              "      <td>OFF-ST-10000760</td>\n",
              "      <td>Office Supplies</td>\n",
              "      <td>Storage</td>\n",
              "      <td>Eldon Fold 'N Roll Cart System</td>\n",
              "      <td>22.3680</td>\n",
              "      <td>2</td>\n",
              "      <td>0.20</td>\n",
              "      <td>2.5164</td>\n",
              "      <td>2015</td>\n",
              "      <td>10</td>\n",
              "      <td>11</td>\n",
              "      <td>2015</td>\n",
              "      <td>10</td>\n",
              "      <td>18</td>\n",
              "      <td>11.1840</td>\n",
              "    </tr>\n",
              "  </tbody>\n",
              "</table>\n",
              "</div>"
            ],
            "text/plain": [
              "   Row ID        Order ID Order_date  ... Ship_month Ship_day Per_unit_price\n",
              "0       1  CA-2016-152156 2016-11-08  ...         11       11       130.9800\n",
              "1       2  CA-2016-152156 2016-11-08  ...         11       11       243.9800\n",
              "2       3  CA-2016-138688 2016-06-12  ...          6       16         7.3100\n",
              "3       4  US-2015-108966 2015-10-11  ...         10       18       191.5155\n",
              "4       5  US-2015-108966 2015-10-11  ...         10       18        11.1840\n",
              "\n",
              "[5 rows x 28 columns]"
            ]
          },
          "metadata": {
            "tags": []
          },
          "execution_count": 16
        }
      ]
    },
    {
      "cell_type": "code",
      "metadata": {
        "id": "0eW-ub6yK7QJ",
        "outputId": "e6ab19a9-1d1f-4757-d6b4-eb4fa6894c00",
        "colab": {
          "base_uri": "https://localhost:8080/",
          "height": 297
        }
      },
      "source": [
        "#exploring sales by year\n",
        "df_temp.groupby('Ship_year')['Sales'].count().plot()"
      ],
      "execution_count": null,
      "outputs": [
        {
          "output_type": "execute_result",
          "data": {
            "text/plain": [
              "<matplotlib.axes._subplots.AxesSubplot at 0x7f1c63e016a0>"
            ]
          },
          "metadata": {
            "tags": []
          },
          "execution_count": 19
        },
        {
          "output_type": "display_data",
          "data": {
            "image/png": "[encoded data removed]",
            "text/plain": [
              "<Figure size 432x288 with 1 Axes>"
            ]
          },
          "metadata": {
            "tags": [],
            "needs_background": "light"
          }
        }
      ]
    },
    {
      "cell_type": "markdown",
      "metadata": {
        "id": "RQTaQ_JT5_T5"
      },
      "source": [
        "We can see that the revenue generated constantly increased form 2014 to 2017 before suddenly falling off. This seems to be suspicious and doesnt tell the whole story.\n",
        "\n",
        "To gain further insight, we can plot the same data and consider the aggregate metric as mean."
      ]
    },
    {
      "cell_type": "code",
      "metadata": {
        "id": "ZlEn9s4N6hNI",
        "outputId": "8cbcd493-0e5f-4abf-de2c-78b2bda74c1d",
        "colab": {
          "base_uri": "https://localhost:8080/",
          "height": 297
        }
      },
      "source": [
        "df_temp.groupby('Ship_year')['Sales'].mean().plot()"
      ],
      "execution_count": null,
      "outputs": [
        {
          "output_type": "execute_result",
          "data": {
            "text/plain": [
              "<matplotlib.axes._subplots.AxesSubplot at 0x7f1c62fb3eb8>"
            ]
          },
          "metadata": {
            "tags": []
          },
          "execution_count": 20
        },
        {
          "output_type": "display_data",
          "data": {
            "image/png": "[encoded data removed]",
            "text/plain": [
              "<Figure size 432x288 with 1 Axes>"
            ]
          },
          "metadata": {
            "tags": [],
            "needs_background": "light"
          }
        }
      ]
    },
    {
      "cell_type": "markdown",
      "metadata": {
        "id": "it0xCUTR292R"
      },
      "source": [
        "We can notice that mean sales dipped from 2014 to 2015 post which they recovered uptill 2016 only to drop off again till 2017 and then descend into a seep decline till 2018\n",
        "\n",
        "The above could be due to multiple factors. It could be possible that the seller couldn't fulfill offert or drove up the marked prices to cover up for two previous negative trends. It is also possible that a new, better and cheaper comtetitior arrived in the market and took away customers\n"
      ]
    },
    {
      "cell_type": "code",
      "metadata": {
        "id": "q1DnTTxw4oFP",
        "outputId": "c1fec202-a019-4e7a-9ae9-9133247e140e",
        "colab": {
          "base_uri": "https://localhost:8080/",
          "height": 313
        }
      },
      "source": [
        "#bar plot for sales vs sale year\n",
        "df_temp.groupby('Order_year')['Sales'].agg(['sum']).plot.bar()"
      ],
      "execution_count": null,
      "outputs": [
        {
          "output_type": "execute_result",
          "data": {
            "text/plain": [
              "<matplotlib.axes._subplots.AxesSubplot at 0x7f1c5b11d2e8>"
            ]
          },
          "metadata": {
            "tags": []
          },
          "execution_count": 26
        },
        {
          "output_type": "display_data",
          "data": {
            "image/png": "[encoded data removed]",
            "text/plain": [
              "<Figure size 432x288 with 1 Axes>"
            ]
          },
          "metadata": {
            "tags": [],
            "needs_background": "light"
          }
        }
      ]
    },
    {
      "cell_type": "markdown",
      "metadata": {
        "id": "LoFBk_Kz8z3X"
      },
      "source": [
        "The bar plot seems to be consistent with our 'Order_year' vs 'Sales' plot"
      ]
    },
    {
      "cell_type": "code",
      "metadata": {
        "id": "f18iWevM8xO1",
        "outputId": "89d56bc7-899b-4581-ee56-8c21b9ea1ec5",
        "colab": {
          "base_uri": "https://localhost:8080/",
          "height": 300
        }
      },
      "source": [
        "#let us look at the monthly data\n",
        "df_temp.groupby('Order_month')['Sales'].agg(['sum']).plot.bar()"
      ],
      "execution_count": null,
      "outputs": [
        {
          "output_type": "execute_result",
          "data": {
            "text/plain": [
              "<matplotlib.axes._subplots.AxesSubplot at 0x7f1c5b105400>"
            ]
          },
          "metadata": {
            "tags": []
          },
          "execution_count": 27
        },
        {
          "output_type": "display_data",
          "data": {
            "image/png": "[encoded data removed]",
            "text/plain": [
              "<Figure size 432x288 with 1 Axes>"
            ]
          },
          "metadata": {
            "tags": [],
            "needs_background": "light"
          }
        }
      ]
    },
    {
      "cell_type": "markdown",
      "metadata": {
        "id": "3M8gA0bX-JFW"
      },
      "source": [
        "Too gain a better numeric intuition, we can use the plotly package\n"
      ]
    },
    {
      "cell_type": "code",
      "metadata": {
        "id": "2IFTF5eY9PyJ",
        "outputId": "554d94f6-7a33-4d4e-e583-a4f3f00b4ac2",
        "colab": {
          "base_uri": "https://localhost:8080/",
          "height": 542
        }
      },
      "source": [
        "import plotly.express as px\n",
        "fig=px.histogram(df_temp,x='Ship_month',y='Sales')\n",
        "fig.show()"
      ],
      "execution_count": null,
      "outputs": [
        {
          "output_type": "display_data",
          "data": {
            "text/html": [
              "<html>\n",
              "<head><meta charset=\"utf-8\" /></head>\n",
              "<body>\n",
              "    <div>\n",
              "            <script src=\"https://cdnjs.cloudflare.com/ajax/libs/mathjax/2.7.5/MathJax.js?config=TeX-AMS-MML_SVG\"></script><script type=\"text/javascript\">if (window.MathJax) {MathJax.Hub.Config({SVG: {font: \"STIX-Web\"}});}</script>\n",
              "                <script type=\"text/javascript\">window.PlotlyConfig = {MathJaxConfig: 'local'};</script>\n",
              "        <script src=\"https://cdn.plot.ly/plotly-latest.min.js\"></script>    \n",
              "            <div id=\"f6b23436-4449-402a-b701-65878474cef8\" class=\"plotly-graph-div\" style=\"height:525px; width:100%;\"></div>\n",
              "            <script type=\"text/javascript\">\n",
              "                \n",
              "                    window.PLOTLYENV=window.PLOTLYENV || {};\n",
              "                    \n",
              "                if (document.getElementById(\"f6b23436-4449-402a-b701-65878474cef8\")) {\n",
              "                    Plotly.newPlot(\n",
              "                        'f6b23436-4449-402a-b701-65878474cef8',\n",
              "                        [{\"alignmentgroup\": \"True\", \"bingroup\": \"x\", \"hoverlabel\": {\"namelength\": 0}, \"hovertemplate\": \"Ship_month=%{x}<br>count of Sales=%{y}\", \"legendgroup\": \"\", \"marker\": {\"color\": \"#636efa\"}, \"name\": \"\", \"offsetgroup\": \"\", \"orientation\": \"v\", \"showlegend\": false, \"type\": \"histogram\", \"x\": [11, 11, 6, 10, 10, 6, 6, 6, 6, 6, 6, 6, 4, 12, 11, 11, 11, 5, 9, 9, 9, 12, 12, 7, 9, 1, 1, 9, 9, 9, 9, 9, 9, 9, 10, 12, 12, 12, 12, 12, 12, 9, 7, 9, 3, 3, 10, 6, 6, 4, 4, 4, 4, 12, 12, 6, 6, 6, 6, 6, 6, 6, 11, 11, 11, 11, 5, 12, 12, 6, 9, 9, 5, 5, 5, 12, 12, 12, 12, 6, 6, 10, 10, 9, 11, 5, 11, 11, 4, 9, 9, 9, 2, 2, 2, 11, 11, 6, 9, 9, 9, 9, 12, 11, 11, 11, 11, 11, 11, 10, 12, 11, 11, 8, 8, 8, 8, 3, 4, 6, 6, 6, 6, 6, 12, 9, 11, 11, 11, 11, 2, 2, 2, 10, 10, 10, 10, 10, 10, 10, 9, 9, 9, 9, 12, 9, 10, 12, 12, 12, 12, 3, 3, 6, 6, 6, 6, 3, 11, 11, 5, 12, 11, 11, 9, 9, 9, 9, 9, 9, 9, 8, 8, 8, 9, 9, 4, 11, 11, 12, 12, 12, 11, 11, 11, 12, 8, 7, 7, 10, 10, 10, 10, 10, 11, 3, 3, 11, 7, 7, 6, 8, 8, 12, 6, 12, 12, 12, 12, 12, 12, 2, 1, 1, 1, 1, 1, 11, 11, 12, 12, 12, 12, 12, 12, 8, 8, 8, 3, 3, 9, 4, 4, 4, 4, 4, 11, 6, 6, 6, 6, 6, 6, 6, 6, 6, 6, 6, 6, 12, 9, 9, 12, 12, 12, 12, 12, 12, 12, 12, 12, 6, 9, 9, 6, 11, 6, 1, 12, 12, 1, 7, 7, 7, 9, 9, 10, 10, 10, 10, 9, 9, 11, 10, 10, 10, 12, 12, 12, 11, 11, 11, 11, 12, 12, 12, 12, 12, 11, 11, 11, 11, 11, 11, 5, 1, 6, 6, 4, 9, 9, 9, 9, 10, 8, 8, 12, 11, 11, 11, 11, 11, 9, 4, 4, 11, 9, 9, 9, 9, 9, 4, 4, 4, 9, 9, 9, 7, 7, 6, 4, 4, 4, 4, 12, 6, 7, 7, 7, 9, 9, 9, 9, 9, 4, 4, 4, 4, 4, 3, 3, 10, 10, 10, 10, 9, 10, 10, 10, 10, 6, 6, 7, 7, 7, 7, 10, 9, 5, 5, 5, 10, 10, 6, 12, 12, 12, 12, 11, 12, 12, 9, 9, 6, 7, 10, 10, 11, 9, 9, 9, 9, 12, 4, 12, 12, 12, 12, 12, 12, 12, 12, 12, 12, 11, 11, 6, 4, 11, 3, 3, 6, 10, 10, 8, 11, 11, 9, 10, 4, 4, 4, 4, 6, 12, 12, 6, 6, 9, 1, 9, 9, 9, 9, 9, 9, 3, 4, 4, 4, 4, 4, 4, 10, 10, 12, 2, 10, 10, 12, 12, 12, 4, 4, 4, 4, 4, 1, 4, 12, 12, 11, 11, 11, 11, 11, 11, 7, 11, 7, 7, 10, 7, 7, 6, 6, 6, 10, 6, 6, 6, 9, 9, 5, 3, 12, 7, 7, 7, 7, 6, 6, 6, 6, 6, 11, 3, 3, 3, 3, 11, 11, 10, 12, 12, 1, 1, 1, 1, 3, 3, 3, 1, 5, 5, 1, 10, 10, 9, 9, 9, 11, 9, 6, 6, 7, 9, 12, 12, 12, 2, 7, 12, 5, 5, 5, 11, 11, 11, 11, 11, 4, 9, 11, 7, 3, 6, 6, 6, 11, 11, 9, 9, 12, 12, 12, 10, 10, 10, 10, 1, 1, 1, 1, 11, 9, 9, 9, 7, 7, 9, 12, 12, 12, 12, 12, 7, 7, 3, 3, 3, 3, 1, 1, 8, 8, 8, 8, 7, 7, 7, 7, 3, 3, 3, 3, 3, 5, 5, 5, 5, 5, 9, 9, 11, 11, 8, 8, 8, 8, 8, 12, 12, 12, 12, 12, 9, 5, 12, 12, 12, 12, 12, 9, 9, 10, 8, 8, 5, 5, 12, 8, 8, 6, 7, 1, 4, 4, 12, 12, 12, 10, 6, 6, 8, 8, 8, 9, 9, 8, 8, 8, 8, 3, 11, 6, 6, 6, 12, 6, 6, 6, 6, 12, 12, 12, 3, 3, 3, 3, 11, 11, 11, 11, 11, 7, 7, 7, 12, 6, 6, 6, 4, 4, 5, 5, 5, 5, 5, 5, 5, 9, 11, 4, 9, 9, 9, 12, 12, 12, 4, 9, 5, 5, 5, 7, 1, 9, 6, 6, 2, 12, 12, 10, 7, 9, 9, 12, 12, 12, 12, 12, 1, 1, 1, 1, 1, 1, 9, 1, 1, 1, 9, 9, 9, 9, 5, 5, 3, 10, 10, 10, 10, 4, 12, 9, 1, 1, 7, 9, 9, 11, 2, 1, 1, 1, 1, 1, 5, 5, 2, 2, 2, 2, 2, 2, 7, 8, 8, 8, 8, 10, 10, 10, 10, 5, 3, 12, 6, 6, 6, 6, 5, 9, 9, 9, 12, 12, 12, 12, 2, 2, 8, 3, 4, 11, 11, 2, 2, 10, 10, 10, 10, 5, 5, 3, 9, 7, 7, 7, 7, 7, 6, 6, 5, 5, 8, 8, 8, 6, 6, 6, 6, 7, 7, 7, 9, 11, 3, 11, 11, 11, 11, 11, 11, 11, 10, 10, 1, 2, 6, 6, 6, 2, 2, 8, 8, 8, 4, 4, 6, 6, 1, 1, 1, 1, 1, 10, 4, 9, 9, 10, 12, 12, 8, 1, 1, 1, 9, 12, 12, 10, 12, 10, 5, 4, 7, 10, 12, 6, 6, 6, 6, 6, 11, 11, 10, 9, 10, 4, 11, 11, 9, 4, 4, 4, 1, 1, 1, 9, 9, 9, 6, 11, 11, 6, 6, 6, 3, 3, 12, 4, 4, 4, 9, 9, 9, 10, 10, 4, 4, 4, 9, 6, 6, 6, 6, 11, 12, 12, 6, 12, 12, 6, 6, 6, 7, 12, 12, 12, 12, 12, 4, 1, 1, 12, 5, 5, 5, 9, 11, 12, 9, 9, 4, 4, 4, 4, 4, 4, 1, 1, 1, 1, 10, 10, 7, 1, 5, 12, 10, 11, 11, 11, 10, 10, 10, 3, 5, 5, 3, 9, 8, 8, 5, 5, 11, 11, 11, 11, 11, 7, 7, 7, 8, 11, 11, 11, 1, 8, 11, 6, 6, 12, 12, 9, 7, 7, 7, 7, 5, 5, 5, 6, 12, 1, 1, 1, 7, 7, 7, 7, 7, 11, 11, 11, 4, 6, 11, 11, 3, 9, 9, 7, 7, 10, 3, 3, 6, 6, 7, 7, 7, 4, 4, 4, 4, 12, 12, 12, 3, 4, 4, 4, 4, 4, 4, 10, 9, 7, 11, 5, 11, 11, 11, 11, 9, 9, 9, 9, 12, 12, 3, 3, 3, 3, 8, 8, 8, 6, 6, 12, 12, 12, 12, 1, 1, 6, 6, 6, 6, 6, 4, 4, 10, 11, 11, 11, 11, 11, 11, 11, 11, 12, 12, 12, 7, 9, 9, 9, 9, 1, 1, 1, 1, 1, 1, 3, 3, 4, 4, 4, 12, 6, 6, 12, 11, 11, 11, 11, 11, 10, 10, 10, 10, 10, 4, 4, 4, 4, 4, 5, 1, 1, 12, 12, 12, 12, 7, 7, 7, 9, 3, 3, 3, 5, 11, 12, 12, 12, 12, 3, 4, 10, 8, 9, 12, 12, 12, 4, 6, 6, 1, 1, 11, 11, 11, 11, 2, 2, 2, 2, 2, 9, 9, 9, 9, 4, 4, 4, 7, 7, 7, 7, 7, 8, 7, 7, 7, 7, 7, 7, 9, 9, 9, 9, 9, 9, 9, 9, 7, 7, 12, 12, 12, 12, 12, 12, 11, 11, 11, 11, 11, 6, 10, 10, 10, 10, 8, 8, 8, 9, 2, 2, 5, 12, 12, 12, 12, 12, 12, 12, 7, 3, 3, 3, 3, 12, 12, 12, 10, 11, 7, 10, 10, 9, 12, 12, 9, 6, 4, 4, 4, 5, 5, 5, 5, 5, 9, 9, 9, 4, 4, 4, 12, 7, 7, 11, 11, 11, 11, 11, 9, 9, 9, 5, 1, 1, 12, 10, 12, 12, 9, 7, 7, 7, 6, 6, 6, 6, 6, 12, 12, 10, 12, 12, 12, 12, 7, 7, 2, 2, 3, 10, 10, 5, 6, 4, 10, 5, 6, 6, 2, 2, 5, 5, 4, 4, 4, 4, 1, 1, 1, 6, 6, 3, 3, 3, 3, 3, 10, 3, 5, 5, 5, 7, 7, 5, 4, 10, 10, 10, 10, 11, 11, 11, 11, 11, 7, 12, 12, 3, 4, 4, 9, 8, 8, 8, 8, 8, 8, 9, 2, 2, 2, 2, 2, 2, 2, 2, 2, 2, 2, 7, 10, 10, 11, 11, 11, 11, 11, 11, 4, 4, 4, 4, 4, 9, 9, 9, 11, 7, 7, 7, 1, 1, 9, 9, 9, 9, 9, 9, 9, 9, 9, 9, 11, 11, 11, 11, 11, 12, 12, 12, 12, 6, 6, 10, 10, 4, 4, 12, 8, 10, 5, 6, 6, 6, 4, 5, 7, 11, 11, 11, 11, 6, 6, 8, 10, 5, 12, 3, 8, 8, 12, 8, 8, 5, 12, 12, 12, 9, 7, 12, 11, 11, 3, 11, 11, 12, 12, 12, 8, 8, 10, 12, 11, 11, 11, 12, 5, 11, 11, 11, 12, 9, 9, 9, 10, 11, 11, 11, 12, 12, 8, 8, 12, 9, 12, 9, 7, 7, 8, 8, 8, 12, 12, 2, 2, 2, 4, 12, 12, 12, 12, 12, 7, 7, 11, 11, 3, 9, 9, 12, 2, 11, 11, 9, 9, 9, 9, 3, 3, 2, 2, 1, 11, 11, 11, 7, 11, 6, 5, 10, 2, 9, 5, 5, 3, 4, 4, 9, 6, 11, 3, 3, 11, 11, 6, 11, 11, 11, 11, 11, 12, 12, 4, 5, 3, 8, 8, 8, 8, 8, 8, 8, 8, 8, 8, 5, 4, 4, 6, 10, 3, 5, 10, 11, 11, 11, 11, 5, 12, 12, 4, 4, 4, 4, 4, 4, 5, 5, 5, 12, 3, 8, 8, 8, 9, 9, 7, 7, 7, 7, 12, 12, 11, 9, 6, 6, 5, 5, 5, 5, 5, 12, 12, 12, 6, 6, 6, 6, 12, 3, 3, 3, 11, 11, 9, 9, 8, 8, 11, 11, 11, 11, 11, 5, 1, 11, 11, 5, 5, 11, 11, 11, 11, 11, 11, 1, 10, 3, 7, 12, 9, 9, 5, 5, 9, 9, 9, 9, 10, 11, 4, 4, 4, 12, 12, 8, 12, 12, 3, 6, 9, 9, 9, 12, 12, 6, 7, 7, 7, 2, 3, 11, 11, 11, 11, 11, 11, 11, 2, 9, 10, 5, 5, 5, 5, 5, 5, 12, 12, 12, 12, 12, 12, 5, 2, 2, 10, 10, 7, 7, 8, 8, 8, 9, 9, 9, 8, 11, 11, 11, 11, 6, 8, 8, 4, 4, 11, 10, 12, 12, 12, 12, 12, 7, 5, 1, 9, 9, 9, 8, 8, 8, 8, 3, 3, 3, 3, 11, 11, 5, 5, 5, 5, 11, 11, 11, 11, 7, 7, 9, 9, 9, 9, 2, 2, 2, 10, 12, 12, 12, 9, 8, 8, 8, 7, 8, 8, 11, 9, 9, 9, 12, 12, 12, 2, 10, 10, 6, 11, 11, 9, 6, 6, 12, 5, 5, 2, 2, 2, 2, 12, 12, 12, 2, 7, 5, 10, 10, 11, 8, 8, 6, 2, 8, 8, 8, 8, 7, 2, 2, 8, 1, 1, 9, 9, 7, 7, 7, 7, 7, 7, 6, 5, 5, 9, 9, 3, 3, 11, 10, 10, 11, 4, 7, 7, 8, 7, 7, 7, 11, 6, 3, 3, 1, 1, 4, 3, 3, 3, 11, 1, 4, 5, 5, 10, 10, 3, 3, 12, 11, 12, 1, 10, 9, 9, 9, 7, 8, 10, 10, 10, 10, 5, 5, 2, 12, 11, 7, 7, 1, 5, 5, 5, 11, 11, 8, 8, 10, 7, 7, 12, 3, 6, 12, 3, 3, 3, 11, 8, 8, 12, 12, 5, 7, 7, 7, 7, 9, 9, 9, 6, 6, 9, 9, 9, 9, 9, 9, 9, 9, 9, 9, 9, 9, 9, 9, 9, 9, 9, 9, 9, 9, 12, 12, 12, 9, 5, 5, 12, 12, 12, 10, 10, 10, 5, 4, 4, 12, 12, 11, 11, 11, 7, 11, 11, 11, 11, 2, 7, 7, 7, 12, 12, 2, 2, 2, 4, 4, 12, 12, 4, 1, 1, 8, 11, 11, 11, 12, 12, 9, 9, 9, 3, 3, 3, 3, 9, 9, 9, 9, 8, 3, 9, 9, 11, 11, 11, 11, 12, 12, 9, 9, 1, 1, 6, 6, 6, 6, 10, 11, 8, 7, 7, 7, 7, 7, 7, 7, 7, 7, 12, 12, 12, 12, 12, 11, 11, 11, 11, 11, 11, 11, 11, 11, 4, 4, 7, 11, 12, 11, 11, 12, 9, 9, 9, 12, 12, 12, 3, 11, 6, 6, 6, 6, 6, 10, 7, 7, 11, 4, 11, 5, 5, 5, 9, 9, 3, 3, 7, 3, 3, 10, 9, 10, 10, 10, 10, 10, 10, 10, 10, 10, 10, 9, 4, 4, 1, 11, 9, 9, 12, 12, 6, 10, 10, 5, 5, 5, 11, 12, 12, 12, 1, 1, 11, 6, 6, 6, 9, 9, 9, 6, 6, 6, 12, 4, 11, 11, 11, 7, 5, 7, 6, 6, 10, 9, 5, 1, 3, 10, 10, 10, 10, 10, 1, 1, 1, 11, 8, 8, 8, 10, 10, 10, 10, 5, 5, 5, 5, 5, 5, 8, 7, 8, 8, 8, 6, 12, 12, 12, 12, 12, 12, 12, 4, 4, 6, 6, 9, 9, 7, 9, 7, 7, 8, 11, 11, 11, 11, 10, 10, 10, 10, 9, 8, 8, 8, 12, 12, 12, 8, 3, 8, 8, 10, 4, 4, 7, 7, 12, 12, 9, 9, 7, 4, 11, 11, 12, 11, 11, 11, 11, 11, 2, 2, 2, 2, 2, 4, 10, 10, 9, 9, 6, 6, 11, 11, 12, 2, 11, 11, 11, 10, 9, 12, 12, 12, 9, 3, 3, 10, 10, 7, 7, 7, 11, 11, 11, 9, 3, 3, 5, 11, 6, 6, 1, 4, 4, 4, 11, 12, 11, 11, 11, 11, 11, 11, 11, 1, 9, 9, 12, 8, 11, 6, 6, 6, 6, 6, 7, 7, 7, 7, 7, 7, 12, 3, 1, 1, 1, 1, 9, 9, 9, 9, 12, 9, 9, 3, 3, 10, 12, 12, 8, 8, 8, 11, 1, 1, 7, 2, 3, 3, 3, 12, 12, 12, 12, 12, 9, 9, 9, 9, 3, 3, 3, 3, 3, 4, 3, 3, 3, 11, 2, 9, 9, 7, 7, 7, 7, 7, 1, 8, 8, 12, 5, 5, 5, 3, 3, 3, 3, 3, 12, 12, 12, 12, 12, 12, 3, 11, 11, 11, 8, 8, 9, 9, 4, 4, 10, 10, 10, 10, 1, 1, 3, 8, 6, 11, 11, 1, 7, 10, 10, 5, 11, 11, 4, 4, 12, 12, 12, 12, 6, 6, 6, 5, 1, 4, 6, 11, 11, 7, 11, 11, 7, 5, 5, 5, 5, 5, 5, 10, 11, 9, 11, 3, 3, 3, 3, 3, 3, 3, 3, 3, 8, 7, 7, 12, 12, 12, 12, 5, 5, 5, 5, 1, 1, 1, 11, 11, 11, 11, 9, 9, 6, 6, 12, 9, 9, 9, 9, 1, 1, 1, 10, 10, 12, 11, 9, 9, 6, 10, 10, 5, 6, 6, 6, 6, 11, 7, 7, 7, 7, 3, 3, 11, 4, 12, 11, 11, 9, 11, 5, 10, 10, 10, 10, 10, 10, 4, 4, 4, 4, 4, 10, 8, 8, 8, 8, 8, 9, 1, 1, 1, 7, 7, 5, 10, 9, 9, 4, 4, 8, 8, 8, 8, 11, 11, 9, 8, 9, 10, 3, 6, 6, 6, 12, 12, 3, 3, 12, 11, 11, 9, 12, 12, 7, 8, 7, 11, 11, 11, 11, 1, 1, 1, 1, 1, 1, 1, 11, 7, 7, 5, 5, 9, 9, 11, 11, 5, 5, 5, 5, 5, 4, 4, 6, 6, 6, 6, 12, 3, 11, 11, 11, 11, 11, 11, 5, 5, 5, 4, 4, 12, 12, 12, 12, 12, 10, 10, 10, 10, 11, 11, 11, 9, 5, 5, 5, 7, 7, 8, 6, 6, 6, 6, 2, 12, 4, 4, 9, 9, 9, 9, 9, 10, 9, 9, 9, 9, 9, 9, 9, 8, 12, 12, 12, 4, 5, 5, 5, 10, 10, 8, 8, 9, 9, 9, 9, 12, 12, 12, 6, 6, 1, 1, 1, 1, 1, 7, 9, 9, 8, 11, 7, 12, 9, 9, 1, 10, 2, 3, 3, 3, 3, 3, 3, 3, 5, 7, 6, 6, 6, 2, 2, 12, 10, 8, 4, 12, 12, 9, 9, 12, 12, 11, 11, 4, 10, 10, 11, 11, 12, 12, 2, 2, 2, 7, 7, 2, 11, 11, 11, 11, 4, 4, 2, 11, 6, 6, 8, 5, 11, 12, 6, 8, 5, 4, 4, 4, 4, 4, 6, 3, 3, 5, 10, 10, 6, 6, 6, 1, 1, 4, 4, 4, 9, 12, 11, 11, 10, 12, 7, 5, 5, 5, 11, 11, 11, 10, 9, 9, 12, 12, 12, 9, 9, 9, 4, 4, 4, 4, 10, 10, 10, 10, 11, 11, 5, 5, 9, 7, 7, 7, 7, 11, 11, 11, 11, 11, 9, 9, 9, 9, 5, 5, 1, 9, 9, 9, 9, 9, 9, 4, 4, 4, 11, 11, 1, 1, 11, 11, 11, 6, 9, 3, 9, 3, 5, 12, 11, 9, 4, 4, 12, 6, 12, 3, 3, 8, 7, 8, 8, 5, 5, 5, 5, 8, 8, 8, 8, 8, 11, 11, 6, 3, 3, 6, 11, 12, 1, 1, 1, 1, 1, 9, 9, 2, 11, 2, 10, 12, 12, 12, 11, 5, 5, 10, 10, 10, 10, 4, 1, 4, 9, 9, 9, 6, 7, 7, 9, 11, 11, 11, 2, 11, 6, 6, 6, 10, 10, 10, 8, 11, 11, 11, 1, 12, 7, 9, 9, 7, 6, 10, 11, 8, 8, 8, 12, 12, 12, 12, 12, 12, 12, 3, 3, 3, 11, 11, 11, 12, 12, 12, 11, 11, 11, 11, 11, 11, 8, 7, 5, 12, 12, 5, 5, 12, 12, 12, 12, 12, 12, 11, 11, 11, 11, 11, 12, 5, 5, 12, 10, 1, 6, 6, 7, 7, 12, 12, 5, 5, 5, 2, 2, 2, 2, 10, 3, 9, 7, 6, 6, 6, 6, 6, 6, 7, 12, 9, 5, 10, 10, 12, 7, 4, 4, 4, 4, 4, 9, 8, 8, 8, 11, 11, 11, 11, 11, 11, 11, 4, 8, 12, 3, 9, 9, 11, 9, 6, 6, 6, 6, 6, 10, 5, 9, 9, 9, 5, 11, 11, 10, 4, 4, 10, 10, 10, 4, 4, 9, 10, 10, 10, 10, 11, 3, 11, 11, 3, 3, 3, 3, 3, 11, 11, 11, 11, 1, 10, 7, 7, 7, 5, 9, 9, 6, 6, 2, 2, 2, 2, 2, 4, 4, 3, 3, 3, 8, 8, 8, 8, 5, 5, 4, 4, 12, 12, 12, 3, 7, 7, 7, 7, 7, 7, 7, 8, 8, 8, 8, 8, 8, 6, 6, 6, 6, 6, 6, 6, 6, 9, 10, 12, 12, 12, 12, 8, 8, 11, 11, 11, 11, 11, 11, 4, 12, 9, 9, 9, 2, 2, 7, 6, 12, 12, 12, 12, 12, 7, 8, 8, 8, 3, 3, 9, 9, 9, 9, 9, 9, 9, 10, 6, 6, 12, 3, 3, 3, 11, 9, 9, 9, 12, 12, 12, 11, 11, 11, 11, 11, 11, 3, 10, 10, 1, 10, 6, 9, 9, 8, 7, 7, 12, 12, 5, 5, 11, 11, 11, 11, 11, 11, 1, 1, 9, 9, 12, 6, 6, 7, 5, 11, 11, 10, 10, 10, 10, 10, 10, 10, 10, 10, 10, 8, 9, 4, 4, 4, 4, 1, 5, 5, 11, 11, 11, 2, 4, 12, 12, 12, 12, 12, 9, 9, 12, 4, 10, 10, 7, 7, 8, 12, 12, 11, 11, 11, 11, 11, 3, 10, 10, 5, 5, 7, 7, 12, 2, 5, 11, 11, 4, 4, 4, 4, 4, 9, 9, 10, 9, 2, 2, 12, 12, 12, 12, 11, 12, 12, 8, 10, 5, 5, 11, 11, 11, 11, 11, 11, 1, 1, 1, 1, 1, 11, 9, 3, 10, 10, 12, 12, 11, 9, 9, 12, 12, 12, 7, 7, 11, 11, 11, 11, 11, 11, 11, 12, 12, 12, 8, 8, 8, 8, 8, 8, 8, 9, 9, 9, 9, 9, 9, 8, 11, 8, 12, 9, 9, 7, 7, 7, 7, 9, 5, 5, 6, 6, 12, 12, 7, 2, 7, 7, 11, 11, 3, 9, 9, 12, 12, 12, 12, 11, 3, 3, 11, 8, 12, 12, 12, 10, 10, 10, 10, 10, 3, 8, 8, 11, 6, 7, 7, 7, 11, 11, 11, 11, 5, 6, 10, 4, 4, 4, 4, 5, 9, 9, 9, 9, 9, 9, 9, 5, 5, 9, 6, 6, 6, 6, 6, 9, 9, 7, 7, 7, 12, 12, 12, 12, 12, 9, 9, 10, 10, 10, 11, 3, 11, 11, 8, 6, 8, 6, 10, 9, 9, 9, 3, 3, 7, 2, 9, 9, 9, 9, 9, 11, 2, 11, 12, 9, 9, 9, 12, 4, 12, 11, 11, 3, 3, 11, 11, 9, 12, 12, 12, 4, 8, 8, 8, 10, 11, 9, 7, 7, 7, 7, 7, 9, 9, 9, 8, 8, 8, 10, 10, 10, 4, 4, 12, 6, 6, 6, 6, 6, 6, 6, 9, 9, 9, 12, 8, 8, 8, 6, 4, 11, 11, 9, 11, 12, 12, 12, 6, 9, 5, 5, 4, 4, 4, 4, 6, 5, 5, 5, 5, 9, 9, 9, 12, 12, 11, 11, 11, 11, 4, 4, 4, 11, 3, 3, 12, 12, 11, 11, 9, 9, 9, 9, 7, 7, 9, 9, 7, 7, 7, 7, 7, 8, 8, 3, 6, 6, 7, 7, 7, 10, 12, 12, 12, 12, 9, 9, 12, 11, 11, 12, 12, 9, 9, 12, 9, 9, 9, 9, 6, 11, 11, 8, 8, 8, 3, 9, 5, 5, 5, 12, 12, 12, 11, 11, 9, 9, 9, 9, 9, 9, 9, 9, 5, 5, 5, 5, 8, 11, 11, 5, 5, 11, 11, 11, 11, 11, 11, 11, 11, 11, 12, 12, 12, 12, 7, 7, 11, 11, 12, 12, 12, 12, 9, 4, 9, 3, 3, 3, 7, 6, 7, 7, 12, 12, 12, 12, 12, 12, 12, 12, 4, 4, 11, 11, 12, 7, 7, 7, 7, 7, 7, 7, 7, 7, 12, 5, 6, 6, 11, 11, 11, 11, 10, 10, 10, 11, 9, 11, 12, 1, 6, 6, 6, 6, 3, 11, 11, 11, 10, 10, 4, 4, 12, 12, 6, 9, 9, 9, 12, 12, 11, 1, 4, 1, 6, 6, 6, 9, 9, 9, 9, 9, 3, 3, 3, 3, 12, 12, 12, 1, 1, 1, 10, 9, 9, 8, 8, 8, 8, 8, 8, 8, 8, 3, 3, 3, 9, 9, 9, 5, 8, 8, 3, 3, 3, 12, 12, 12, 12, 5, 8, 4, 4, 4, 4, 5, 12, 2, 11, 7, 11, 11, 8, 12, 11, 9, 9, 4, 7, 2, 2, 12, 2, 2, 2, 9, 11, 11, 10, 10, 10, 10, 10, 10, 11, 11, 11, 11, 11, 11, 3, 11, 7, 7, 9, 9, 9, 10, 10, 10, 10, 9, 9, 9, 10, 5, 5, 5, 5, 11, 11, 11, 11, 4, 4, 8, 8, 8, 8, 6, 10, 10, 10, 10, 10, 11, 9, 9, 12, 9, 11, 6, 6, 10, 10, 10, 12, 2, 2, 5, 5, 10, 12, 7, 4, 10, 10, 10, 10, 10, 10, 9, 9, 9, 9, 11, 4, 4, 6, 6, 6, 6, 7, 2, 3, 6, 6, 6, 11, 11, 11, 11, 11, 5, 12, 12, 12, 12, 1, 11, 10, 4, 4, 4, 4, 4, 4, 4, 4, 6, 9, 9, 7, 7, 7, 7, 7, 12, 12, 7, 9, 9, 9, 9, 9, 9, 3, 3, 3, 9, 9, 9, 9, 9, 6, 6, 6, 12, 5, 5, 5, 6, 5, 11, 11, 11, 11, 11, 11, 11, 3, 1, 4, 4, 7, 6, 6, 6, 10, 10, 2, 2, 9, 11, 4, 5, 6, 6, 11, 2, 4, 4, 4, 4, 10, 10, 10, 12, 12, 12, 7, 7, 7, 4, 4, 4, 4, 11, 11, 5, 5, 5, 3, 3, 3, 3, 3, 7, 10, 10, 3, 3, 3, 12, 12, 12, 12, 1, 11, 11, 12, 8, 8, 8, 8, 8, 8, 8, 6, 6, 6, 10, 10, 8, 8, 8, 8, 12, 12, 9, 9, 9, 12, 12, 1, 1, 1, 1, 1, 1, 1, 1, 6, 4, 10, 7, 7, 6, 6, 10, 10, 10, 10, 10, 10, 11, 11, 11, 11, 9, 3, 6, 6, 11, 11, 11, 11, 8, 8, 8, 12, 9, 11, 11, 12, 12, 12, 12, 9, 9, 6, 6, 9, 8, 8, 8, 8, 4, 4, 4, 5, 8, 8, 8, 9, 9, 9, 9, 6, 6, 6, 12, 8, 8, 8, 9, 9, 1, 1, 1, 1, 5, 5, 11, 11, 11, 11, 11, 9, 5, 5, 5, 5, 7, 5, 9, 9, 4, 11, 7, 7, 9, 9, 10, 10, 11, 1, 12, 12, 6, 5, 2, 2, 2, 12, 10, 10, 10, 10, 9, 9, 9, 1, 1, 12, 12, 11, 4, 5, 5, 3, 3, 1, 1, 3, 10, 10, 4, 4, 11, 7, 7, 7, 11, 4, 4, 6, 3, 10, 10, 10, 10, 12, 10, 5, 5, 5, 10, 11, 7, 11, 11, 6, 4, 4, 12, 12, 12, 12, 12, 12, 11, 11, 11, 11, 11, 11, 11, 12, 5, 5, 5, 3, 12, 2, 4, 4, 6, 6, 6, 6, 6, 10, 12, 11, 1, 3, 7, 7, 7, 7, 7, 9, 9, 7, 9, 3, 1, 9, 9, 4, 4, 3, 12, 12, 12, 12, 12, 9, 10, 10, 10, 10, 10, 10, 9, 3, 11, 10, 8, 9, 11, 11, 11, 11, 11, 11, 6, 11, 11, 7, 7, 10, 7, 8, 4, 4, 4, 11, 11, 12, 12, 11, 11, 11, 1, 5, 5, 12, 12, 12, 3, 10, 7, 9, 8, 8, 8, 8, 8, 8, 10, 10, 10, 6, 6, 11, 11, 11, 11, 11, 9, 7, 7, 7, 8, 12, 1, 1, 2, 2, 2, 2, 2, 1, 1, 4, 10, 10, 9, 9, 12, 12, 12, 12, 12, 12, 9, 3, 12, 3, 3, 3, 3, 9, 9, 11, 11, 4, 4, 12, 12, 11, 12, 12, 12, 12, 12, 5, 2, 5, 5, 5, 5, 5, 9, 9, 11, 11, 11, 7, 7, 11, 4, 4, 4, 12, 12, 10, 10, 7, 7, 7, 7, 11, 11, 11, 11, 11, 11, 9, 9, 7, 7, 11, 7, 7, 3, 3, 3, 12, 9, 7, 7, 11, 11, 11, 5, 5, 6, 6, 6, 8, 12, 12, 4, 12, 12, 11, 3, 5, 5, 5, 5, 5, 9, 3, 9, 11, 11, 11, 11, 11, 5, 5, 5, 1, 1, 7, 7, 7, 7, 11, 11, 11, 11, 6, 6, 6, 7, 7, 7, 7, 9, 9, 8, 3, 10, 10, 10, 10, 10, 10, 8, 12, 12, 12, 12, 5, 9, 9, 9, 9, 9, 9, 10, 10, 3, 11, 11, 11, 11, 11, 11, 11, 9, 9, 9, 8, 12, 12, 12, 12, 6, 6, 12, 11, 4, 4, 7, 7, 12, 12, 12, 12, 12, 12, 5, 11, 11, 10, 9, 11, 10, 9, 9, 10, 6, 2, 2, 2, 11, 11, 7, 7, 7, 9, 11, 11, 11, 10, 10, 3, 7, 7, 7, 7, 3, 3, 6, 3, 7, 7, 7, 7, 7, 7, 7, 5, 7, 1, 1, 3, 3, 3, 10, 1, 5, 12, 12, 12, 9, 12, 12, 12, 12, 11, 4, 5, 5, 7, 12, 12, 12, 12, 4, 6, 8, 8, 9, 6, 8, 11, 11, 11, 11, 11, 11, 12, 12, 12, 12, 12, 12, 12, 9, 9, 7, 7, 7, 5, 5, 5, 5, 6, 6, 6, 6, 11, 1, 1, 1, 9, 9, 9, 9, 9, 12, 12, 10, 9, 9, 9, 9, 11, 11, 11, 11, 10, 8, 8, 8, 8, 3, 4, 4, 4, 9, 9, 10, 10, 8, 8, 8, 6, 5, 5, 5, 4, 4, 2, 2, 6, 5, 5, 5, 5, 5, 5, 5, 5, 9, 9, 9, 1, 1, 5, 5, 5, 8, 8, 8, 8, 3, 3, 3, 3, 3, 3, 7, 12, 9, 9, 9, 9, 6, 4, 12, 12, 12, 12, 12, 12, 12, 12, 12, 12, 5, 5, 5, 5, 6, 5, 5, 5, 6, 6, 6, 6, 3, 12, 12, 5, 5, 12, 12, 10, 4, 4, 6, 9, 5, 11, 11, 11, 11, 11, 7, 3, 3, 3, 3, 4, 6, 6, 6, 2, 2, 11, 11, 11, 3, 3, 3, 3, 3, 3, 12, 10, 12, 11, 12, 2, 2, 9, 5, 11, 11, 11, 1, 1, 9, 11, 4, 3, 3, 6, 9, 9, 11, 11, 11, 11, 11, 2, 2, 11, 7, 11, 11, 11, 2, 12, 12, 12, 12, 12, 12, 12, 12, 12, 7, 3, 8, 5, 5, 5, 5, 5, 5, 5, 7, 7, 11, 11, 11, 11, 12, 12, 11, 11, 11, 5, 12, 12, 12, 12, 6, 4, 4, 7, 11, 11, 11, 11, 11, 11, 5, 11, 11, 11, 11, 10, 10, 10, 6, 6, 6, 11, 12, 10, 11, 4, 7, 6, 6, 6, 9, 9, 9, 9, 12, 12, 12, 1, 1, 1, 12, 12, 4, 11, 11, 6, 11, 11, 11, 11, 11, 11, 5, 5, 5, 5, 12, 10, 10, 7, 11, 11, 11, 11, 3, 3, 12, 12, 12, 12, 12, 12, 12, 12, 12, 12, 12, 12, 10, 10, 8, 12, 12, 3, 3, 12, 10, 10, 11, 11, 1, 1, 1, 1, 1, 9, 9, 10, 10, 1, 1, 8, 12, 12, 12, 12, 9, 10, 12, 12, 9, 9, 3, 10, 10, 10, 3, 1, 1, 1, 1, 2, 2, 2, 12, 9, 9, 9, 10, 12, 12, 11, 6, 12, 3, 6, 6, 6, 3, 3, 11, 11, 3, 3, 3, 5, 5, 8, 8, 8, 8, 11, 11, 11, 11, 11, 9, 12, 12, 12, 12, 12, 12, 11, 11, 9, 9, 4, 4, 4, 9, 9, 12, 12, 12, 12, 11, 3, 3, 2, 2, 5, 5, 5, 10, 5, 11, 11, 11, 9, 9, 9, 5, 7, 7, 7, 11, 11, 11, 11, 11, 3, 12, 12, 12, 8, 8, 8, 8, 9, 2, 2, 2, 1, 1, 8, 4, 4, 11, 7, 7, 7, 11, 11, 11, 11, 11, 11, 11, 4, 4, 9, 11, 5, 1, 1, 1, 9, 9, 4, 12, 12, 5, 5, 5, 9, 12, 12, 1, 8, 8, 8, 8, 8, 11, 4, 4, 4, 4, 11, 11, 11, 12, 9, 9, 6, 6, 3, 3, 3, 8, 8, 1, 5, 12, 12, 12, 12, 12, 12, 8, 3, 3, 3, 3, 3, 12, 9, 4, 4, 10, 10, 10, 11, 2, 11, 7, 11, 10, 10, 10, 4, 4, 4, 4, 9, 9, 9, 9, 9, 9, 9, 1, 6, 11, 11, 10, 12, 11, 10, 10, 11, 4, 4, 4, 2, 2, 2, 12, 12, 6, 3, 9, 7, 7, 8, 8, 7, 7, 7, 10, 10, 8, 11, 7, 11, 11, 11, 11, 11, 11, 5, 5, 5, 3, 10, 10, 11, 12, 4, 4, 4, 9, 9, 9, 9, 10, 12, 9, 9, 11, 11, 5, 12, 12, 12, 12, 5, 5, 3, 3, 3, 3, 8, 8, 9, 9, 9, 9, 9, 9, 1, 5, 9, 9, 9, 9, 9, 4, 6, 9, 6, 5, 5, 5, 9, 6, 6, 6, 12, 3, 3, 3, 3, 10, 8, 11, 9, 9, 9, 9, 9, 9, 8, 7, 8, 8, 8, 5, 11, 4, 12, 12, 11, 3, 3, 3, 8, 1, 10, 10, 9, 9, 9, 9, 9, 10, 10, 10, 11, 9, 9, 1, 1, 11, 11, 12, 12, 9, 12, 9, 10, 9, 9, 4, 4, 5, 5, 5, 5, 9, 9, 9, 6, 12, 8, 3, 7, 7, 9, 9, 6, 6, 6, 11, 9, 2, 2, 2, 11, 11, 11, 8, 8, 5, 5, 5, 10, 10, 10, 10, 10, 10, 10, 9, 12, 12, 1, 1, 3, 12, 9, 9, 9, 9, 9, 9, 5, 10, 11, 11, 11, 11, 11, 11, 10, 3, 3, 3, 1, 1, 12, 9, 9, 9, 5, 5, 10, 8, 8, 8, 4, 6, 1, 1, 1, 11, 6, 6, 6, 9, 4, 4, 10, 10, 10, 5, 5, 12, 12, 8, 8, 9, 9, 9, 7, 7, 3, 2, 2, 2, 11, 11, 11, 11, 11, 11, 9, 11, 10, 4, 9, 9, 8, 8, 2, 2, 2, 12, 12, 12, 12, 9, 9, 9, 9, 9, 9, 10, 10, 10, 4, 4, 1, 11, 1, 12, 12, 6, 9, 9, 10, 10, 10, 4, 10, 10, 7, 7, 7, 4, 11, 9, 4, 4, 4, 7, 8, 8, 9, 9, 9, 9, 7, 5, 5, 5, 1, 1, 9, 9, 3, 10, 1, 1, 1, 1, 2, 6, 9, 9, 6, 12, 12, 12, 12, 6, 6, 6, 11, 4, 10, 10, 10, 10, 2, 12, 10, 4, 4, 4, 4, 1, 11, 11, 11, 9, 6, 7, 7, 7, 7, 7, 11, 11, 11, 11, 10, 4, 10, 5, 5, 3, 3, 6, 6, 6, 11, 12, 12, 12, 12, 12, 6, 6, 12, 5, 4, 5, 4, 8, 12, 6, 6, 6, 6, 6, 6, 6, 4, 5, 5, 5, 12, 12, 12, 9, 9, 9, 12, 12, 11, 11, 11, 11, 11, 10, 12, 12, 12, 12, 12, 4, 4, 4, 3, 3, 3, 3, 3, 3, 3, 12, 12, 12, 12, 12, 12, 12, 9, 9, 9, 10, 5, 12, 12, 12, 12, 3, 7, 12, 12, 10, 10, 11, 9, 9, 9, 2, 2, 10, 10, 10, 8, 8, 12, 9, 9, 3, 12, 9, 10, 8, 8, 2, 8, 8, 8, 7, 9, 9, 9, 9, 9, 10, 10, 10, 10, 7, 7, 8, 2, 2, 2, 9, 12, 9, 9, 4, 12, 12, 9, 4, 4, 5, 3, 4, 1, 11, 7, 7, 7, 7, 10, 11, 12, 12, 12, 12, 12, 12, 12, 10, 10, 7, 7, 7, 7, 6, 6, 6, 6, 6, 11, 11, 1, 6, 6, 1, 8, 8, 9, 9, 4, 4, 4, 11, 7, 7, 7, 12, 12, 12, 12, 12, 12, 5, 10, 10, 11, 11, 11, 11, 12, 12, 12, 11, 9, 5, 5, 5, 5, 5, 7, 3, 9, 10, 10, 10, 10, 4, 11, 11, 11, 9, 9, 9, 5, 12, 12, 12, 12, 12, 7, 7, 7, 7, 1, 1, 1, 3, 3, 3, 3, 3, 3, 3, 12, 12, 12, 11, 6, 1, 1, 2, 4, 10, 10, 8, 11, 12, 12, 8, 8, 11, 9, 11, 10, 9, 3, 3, 9, 9, 12, 9, 4, 4, 12, 12, 11, 11, 4, 12, 12, 12, 10, 10, 10, 10, 4, 4, 10, 10, 10, 10, 10, 10, 10, 10, 10, 8, 7, 7, 3, 5, 11, 11, 9, 9, 9, 2, 3, 3, 3, 7, 6, 11, 11, 11, 11, 11, 5, 5, 5, 5, 5, 9, 9, 9, 9, 12, 12, 7, 7, 7, 6, 6, 6, 12, 4, 9, 9, 11, 11, 11, 11, 11, 11, 11, 11, 11, 11, 11, 11, 9, 8, 8, 8, 8, 9, 11, 5, 5, 5, 5, 8, 8, 8, 1, 1, 11, 6, 9, 4, 6, 6, 4, 5, 5, 5, 9, 9, 9, 9, 3, 3, 10, 10, 10, 5, 4, 11, 11, 11, 9, 9, 11, 11, 4, 4, 1, 11, 12, 11, 11, 11, 11, 11, 12, 12, 12, 12, 12, 8, 9, 9, 9, 9, 9, 9, 9, 9, 9, 9, 11, 11, 6, 4, 10, 10, 7, 7, 7, 7, 7, 7, 7, 7, 7, 5, 5, 10, 10, 8, 8, 8, 8, 8, 9, 3, 3, 3, 3, 4, 3, 11, 11, 3, 3, 3, 3, 2, 11, 11, 11, 8, 8, 8, 1, 7, 7, 7, 7, 2, 12, 10, 7, 7, 4, 9, 9, 9, 9, 11, 9, 7, 7, 7, 7, 7, 7, 9, 9, 9, 12, 12, 12, 12, 12, 12, 12, 12, 12, 12, 9, 9, 11, 12, 4, 1, 1, 1, 1, 1, 3, 3, 4, 4, 4, 4, 10, 8, 8, 11, 4, 8, 8, 3, 3, 11, 11, 7, 1, 4, 12, 4, 4, 9, 9, 9, 9, 9, 9, 2, 5, 5, 9, 6, 11, 11, 6, 4, 4, 9, 9, 9, 8, 8, 3, 3, 1, 4, 4, 12, 12, 12, 4, 1, 5, 5, 5, 8, 1, 1, 1, 12, 12, 9, 9, 9, 9, 8, 2, 11, 11, 11, 11, 11, 12, 6, 12, 9, 9, 9, 9, 9, 9, 9, 9, 9, 9, 9, 9, 9, 9, 8, 6, 12, 12, 9, 9, 11, 11, 11, 11, 11, 3, 11, 11, 9, 9, 9, 9, 12, 9, 6, 6, 6, 4, 10, 4, 4, 12, 9, 8, 11, 10, 10, 11, 4, 4, 7, 7, 7, 7, 7, 12, 11, 11, 6, 12, 4, 3, 7, 4, 4, 4, 4, 8, 8, 12, 3, 3, 3, 3, 3, 3, 3, 4, 9, 8, 12, 12, 8, 8, 8, 9, 9, 9, 9, 9, 9, 9, 9, 9, 12, 8, 11, 11, 11, 4, 12, 12, 12, 12, 12, 10, 10, 11, 11, 11, 4, 4, 12, 10, 12, 10, 10, 10, 10, 8, 8, 8, 11, 11, 10, 12, 12, 8, 10, 10, 10, 9, 12, 12, 12, 10, 10, 11, 1, 1, 7, 9, 9, 9, 9, 9, 2, 1, 12, 12, 11, 5, 12, 11, 11, 11, 11, 6, 6, 6, 6, 12, 4, 4, 9, 9, 9, 11, 3, 8, 5, 7, 9, 5, 10, 11, 11, 10, 10, 12, 12, 12, 12, 7, 7, 7, 7, 7, 7, 7, 5, 11, 11, 9, 9, 10, 10, 7, 7, 3, 3, 12, 4, 4, 9, 1, 1, 1, 10, 12, 6, 6, 11, 6, 5, 11, 11, 11, 11, 11, 11, 9, 2, 2, 11, 11, 11, 11, 11, 11, 10, 10, 6, 6, 11, 11, 1, 1, 1, 1, 1, 1, 1, 1, 7, 7, 9, 9, 10, 10, 10, 1, 3, 3, 3, 3, 10, 5, 5, 5, 9, 11, 9, 9, 9, 10, 1, 1, 1, 1, 12, 11, 11, 11, 11, 4, 4, 4, 5, 10, 11, 10, 10, 10, 5, 5, 10, 12, 4, 4, 4, 4, 4, 1, 1, 1, 1, 2, 2, 2, 2, 12, 12, 12, 12, 12, 12, 11, 8, 8, 8, 5, 5, 5, 12, 9, 9, 5, 5, 5, 5, 5, 8, 8, 11, 8, 3, 3, 11, 11, 11, 11, 8, 10, 8, 5, 5, 5, 5, 11, 11, 11, 11, 4, 4, 5, 5, 5, 12, 10, 10, 10, 10, 10, 10, 3, 3, 3, 3, 9, 9, 9, 12, 10, 8, 8, 8, 8, 5, 5, 5, 5, 5, 5, 9, 11, 5, 12, 12, 12, 9, 9, 6, 3, 1, 6, 6, 6, 6, 6, 6, 6, 6, 6, 6, 6, 3, 3, 3, 9, 9, 11, 11, 11, 11, 11, 11, 7, 7, 7, 7, 11, 11, 11, 11, 6, 10, 10, 12, 12, 12, 3, 3, 3, 3, 9, 9, 9, 9, 9, 1, 1, 1, 7, 7, 7, 7, 12, 12, 2, 2, 12, 12, 12, 11, 11, 10, 10, 10, 10, 11, 11, 11, 11, 5, 5, 5, 3, 3, 8, 11, 12, 12, 10, 10, 10, 10, 10, 6, 7, 7, 4, 5, 5, 5, 5, 2, 2, 4, 4, 4, 4, 5, 11, 11, 3, 3, 12, 8, 10, 10, 10, 8, 7, 7, 7, 7, 7, 7, 7, 3, 5, 5, 6, 5, 4, 4, 6, 6, 12, 12, 12, 12, 6, 5, 5, 5, 5, 5, 3, 10, 4, 4, 4, 4, 6, 6, 6, 1, 1, 1, 1, 9, 9, 1, 1, 12, 5, 9, 10, 12, 12, 5, 10, 5, 5, 5, 11, 11, 11, 8, 8, 8, 8, 8, 8, 12, 12, 9, 9, 9, 9, 9, 9, 2, 2, 2, 2, 2, 2, 8, 8, 8, 11, 11, 7, 5, 5, 5, 5, 5, 8, 9, 9, 11, 11, 11, 11, 10, 9, 9, 9, 1, 11, 12, 12, 12, 5, 3, 12, 8, 8, 8, 10, 8, 12, 12, 12, 7, 7, 7, 5, 5, 6, 6, 6, 9, 4, 11, 11, 12, 8, 12, 12, 12, 12, 4, 4, 4, 12, 9, 9, 9, 9, 9, 9, 9, 8, 11, 6, 6, 6, 7, 7, 12, 4, 4, 4, 4, 5, 5, 5, 7, 2, 6, 6, 11, 12, 12, 12, 6, 6, 6, 6, 6, 9, 9, 9, 9, 12, 6, 7, 9, 9, 9, 4, 4, 4, 8, 9, 12, 12, 11, 11, 11, 4, 9, 2, 9, 9, 9, 9, 7, 7, 7, 7, 7, 9, 9, 9, 11, 11, 8, 11, 11, 11, 8, 8, 8, 1, 1, 1, 1, 1, 10, 11, 12, 4, 4, 9, 9, 9, 9, 9, 9, 6, 6, 6, 1, 1, 1, 1, 11, 7, 7, 10, 10, 10, 10, 10, 12, 7, 10, 9, 11, 10, 10, 7, 2, 2, 12, 9, 9, 9, 9, 7, 5, 7, 6, 4, 1, 1, 12, 12, 12, 12, 12, 4, 4, 4, 4, 4, 4, 12, 8, 8, 8, 8, 8, 8, 8, 12, 12, 10, 10, 9, 9, 10, 10, 12, 12, 12, 12, 12, 6, 9, 9, 5, 5, 9, 9, 9, 9, 9, 9, 9, 9, 8, 5, 5, 9, 7, 9, 9, 9, 12, 5, 10, 12, 9, 8, 8, 5, 6, 12, 12, 12, 12, 4, 5, 3, 4, 3, 3, 12, 12, 8, 6, 6, 6, 6, 7, 7, 7, 7, 12, 9, 6, 11, 6, 6, 6, 6, 7, 9, 10, 11, 4, 4, 11, 11, 11, 10, 10, 10, 5, 7, 7, 9, 9, 9, 11, 7, 7, 7, 7, 7, 7, 10, 1, 9, 9, 9, 9, 9, 7, 7, 11, 11, 1, 11, 11, 9, 9, 9, 9, 9, 9, 11, 12, 11, 11, 11, 11, 11, 11, 12, 12, 9, 5, 5, 4, 8, 8, 12, 11, 12, 8, 8, 8, 5, 5, 5, 12, 3, 3, 3, 3, 6, 8, 8, 8, 8, 8, 8, 2, 2, 2, 12, 11, 11, 11, 11, 11, 11, 11, 5, 9, 9, 12, 12, 12, 7, 7, 7, 11, 4, 4, 8, 9, 12, 12, 12, 12, 12, 12, 12, 12, 12, 12, 12, 2, 12, 9, 2, 12, 6, 5, 5, 8, 9, 7, 7, 7, 7, 7, 5, 9, 9, 9, 9, 9, 9, 7, 7, 9, 9, 8, 10, 6, 1, 1, 1, 1, 2, 8, 8, 8, 11, 12, 11, 8, 9, 9, 6, 6, 6, 4, 4, 4, 4, 4, 4, 4, 5, 5, 10, 10, 2, 11, 1, 12, 12, 8, 8, 9, 9, 11, 11, 4, 4, 12, 12, 12, 12, 12, 11, 11, 11, 11, 9, 9, 11, 3, 3, 3, 3, 6, 6, 6, 12, 12, 10, 12, 12, 12, 5, 3, 3, 5, 5, 7, 7, 4, 4, 9, 7, 7, 7, 7, 10, 4, 3, 3, 3, 3, 3, 5, 5, 11, 1, 12, 5, 4, 8, 8, 8, 8, 8, 11, 11, 10, 10, 2, 2, 11, 4, 4, 8, 8, 12, 12, 10, 1, 9, 10, 10, 9, 9, 9, 6, 6, 6, 10, 9, 9, 5, 5, 5, 5, 1, 1, 9, 7, 7, 7, 2, 2, 7, 7, 3, 3, 3, 3, 3, 3, 12, 7, 12, 12, 4, 4, 4, 8, 5, 2, 3, 3, 3, 6, 6, 9, 9, 6, 6, 6, 6, 6, 6, 6, 6, 6, 10, 10, 6, 11, 8, 8, 1, 1, 9, 9, 10, 10, 11, 11, 11, 7, 7, 5, 2, 10, 6, 9, 9, 10, 6, 6, 9, 1, 1, 1, 12, 1, 5, 5, 5, 2, 11, 11, 11, 11, 11, 9, 9, 4, 11, 11, 11, 6, 8, 10, 10, 10, 6, 5, 10, 11, 11, 11, 11, 9, 9, 12, 12, 11, 11, 3, 3, 3, 11, 10, 10, 4, 4, 12, 12, 9, 12, 7, 8, 8, 8, 1, 12, 12, 12, 12, 3, 10, 10, 11, 3, 9, 2, 1, 10, 10, 1, 1, 4, 4, 4, 12, 12, 12, 12, 12, 4, 3, 11, 1, 1, 1, 1, 8, 11, 9, 5, 9, 9, 9, 9, 9, 9, 9, 9, 9, 9, 12, 12, 12, 5, 5, 5, 12, 12, 9, 7, 7, 9, 9, 8, 5, 5, 5, 5, 1, 6, 4, 7, 6, 6, 6, 3, 3, 3, 3, 3, 3, 3, 3, 3, 4, 4, 6, 6, 3, 3, 3, 3, 3, 8, 8, 7, 7, 7, 2, 3, 9, 9, 11, 12, 12, 2, 2, 2, 2, 11, 9, 9, 9, 9, 7, 8, 8, 4, 4, 4, 4, 4, 4, 3, 9, 9, 9, 5, 11, 9, 9, 9, 9, 7, 4, 1, 1, 1, 1, 1, 1, 1, 9, 9, 12, 1, 1, 12, 12, 12, 11, 9, 11, 9, 9, 9, 7, 7, 7, 7, 7, 7, 7, 3, 3, 2, 6, 11, 11, 7, 7, 7, 7, 7, 7, 12, 12, 12, 12, 12, 12, 12, 9, 9, 9, 9, 9, 9, 9, 9, 9, 9, 6, 6, 3, 3, 4, 12, 2, 12, 12, 12, 12, 12, 12, 12, 10, 10, 10, 10, 9, 11, 11, 11, 11, 5, 5, 12, 12, 11, 11, 11, 1, 9, 10, 2, 2, 4, 4, 12, 12, 12, 10, 10, 10, 12, 12, 11, 11, 12, 11, 11, 8, 4, 3, 3, 3, 3, 3, 11, 9, 9, 9, 9, 9, 4, 4, 6, 9, 9, 9, 9, 9, 9, 7, 5, 5, 5, 12, 5, 5, 2, 2, 2, 2, 8, 12, 12, 12, 10, 10, 11, 11, 11, 7, 5, 5, 11, 11, 11, 4, 4, 4, 1, 1, 1, 1, 1, 3, 3, 3, 3, 10, 10, 10, 10, 4, 9, 3, 3, 12, 12, 8, 8, 3, 12, 12, 4, 4, 8, 6, 1, 1, 10, 9, 10, 10, 10, 10, 11, 11, 11, 11, 11, 11, 11, 5, 10, 1, 1, 1, 1, 1, 5, 5, 2, 2, 11, 11, 11, 7, 7, 7, 1, 1, 3, 7, 7, 12, 12, 12, 12, 12, 9, 9, 9, 9, 9, 10, 10, 10, 4, 10, 10, 10, 12, 11, 1, 1, 9, 1, 1, 1, 4, 9, 9, 9, 9, 3, 12, 10, 6, 9, 6, 5, 9, 8, 6, 12, 8, 11, 11, 9, 8, 6, 6, 6, 12, 6, 6, 6, 6, 6, 6, 12, 12, 11, 11, 11, 11, 10, 12, 12, 9, 2, 8, 8, 8, 8, 11, 8, 8, 12, 12, 12, 4, 12, 12, 12, 12, 4, 4, 3, 11, 11, 11, 12, 5, 5, 5, 5, 9, 12, 10, 12, 12, 7, 10, 3, 3, 3, 6, 3, 9, 9, 9, 9, 9, 1, 1, 1, 2, 2, 2, 2, 6, 6, 10, 10, 10, 1, 12, 10, 9, 9, 5, 2, 11, 11, 5, 5, 5, 5, 5, 1, 4, 4, 9, 9, 9, 4, 4, 7, 4, 4, 7, 10, 10, 3, 5, 5, 5, 12, 12, 12, 12, 12, 6, 6, 6, 6, 3, 10, 10, 7, 7, 7, 7, 11, 6, 7, 9, 10, 10, 10, 10, 9, 9, 3, 12, 6, 12, 12, 12, 12, 12, 12, 12, 12, 8, 12, 12, 12, 12, 7, 6, 6, 6, 8, 8, 8, 8, 8, 8, 8, 11, 10, 10, 8, 12, 12, 12, 12, 4, 8, 6, 6, 11, 9, 7, 9, 9, 3, 9, 9, 8, 8, 11, 11, 11, 7, 3, 7, 7, 8, 8, 8, 8, 8, 8, 8, 12, 12, 1, 1, 1, 1, 1, 3, 3, 3, 3, 11, 11, 4, 4, 10, 10, 10, 10, 10, 10, 11, 11, 11, 11, 11, 3, 10, 10, 10, 8, 8, 8, 8, 8, 8, 8, 6, 6, 8, 1, 9, 9, 1, 1, 4, 7, 8, 8, 8, 8, 6, 6, 11, 11, 11, 11, 11, 5, 5, 11, 12, 12, 12, 12, 12, 10, 11, 11, 11, 3, 6, 5, 5, 5, 5, 9, 9, 10, 11, 11, 7, 7, 7, 7, 9, 9, 9, 9, 10, 1, 1, 6, 6, 6, 6, 9, 7, 7, 8, 8, 8, 3, 3, 9, 9, 12, 11, 7, 9, 9, 9, 7, 10, 9, 9, 9, 9, 9, 9, 9, 9, 11, 11, 11, 11, 11, 10, 10, 1, 1, 1, 1, 1, 1, 1, 6, 6, 6, 11, 11, 11, 11, 11, 11, 10, 5, 10, 7, 8, 12, 12, 11, 8, 8, 8, 8, 1, 1, 3, 3, 5, 5, 5, 5, 2, 2, 2, 12, 11, 11, 12, 12, 12, 10, 9, 11, 7, 7, 11, 11, 11, 12, 12, 9, 2, 2, 2, 9, 7, 7, 7, 7, 10, 2, 2, 8, 11, 7, 7, 7, 2, 2, 2, 2, 6, 6, 6, 12, 1, 1, 3, 3, 3, 3, 3, 10, 11, 1, 3, 2, 10, 10, 11, 11, 11, 11, 8, 11, 11, 11, 2, 7, 7, 7, 2, 9, 12, 9, 8, 11, 11, 5, 5, 7, 9, 9, 12, 10, 10, 11, 11, 12, 12, 12, 12, 9, 9, 9, 4, 4, 11, 11, 11, 11, 11, 4, 4, 9, 9, 9, 11, 11, 10, 10, 10, 10, 10, 10, 10, 10, 10, 2, 6, 6, 11, 11, 4, 4, 4, 7, 7, 9, 9, 5, 5, 5, 10, 10, 10, 10, 9, 9, 8, 8, 8, 5, 5, 5, 3, 3, 3, 3, 8, 8, 8, 8, 8, 8, 6, 6, 6, 12, 9, 1, 1, 5, 2, 2, 2, 2, 12, 10, 6, 7, 6, 2, 2, 2, 4, 5, 5, 12, 12, 12, 12, 8, 8, 8, 8, 8, 8, 12, 11, 3, 6, 6, 7, 7, 3, 4, 8, 8, 11, 11, 8, 8, 8, 7, 3, 3, 1, 1, 7, 7, 7, 7, 4, 4, 11, 12, 10, 11, 11, 9, 9, 7, 7, 10, 10, 11, 3, 3, 3, 3, 5, 7, 1, 1, 4, 11, 6, 11, 3, 3, 3, 5, 5, 5, 5, 5, 5, 5, 5, 5, 5, 8, 4, 4, 4, 1, 1, 1, 1, 5, 2, 9, 9, 9, 6, 10, 12, 12, 11, 1, 1, 3, 11, 11, 11, 9, 3, 2, 11, 11, 9, 6, 6, 11, 12, 12, 12, 12, 12, 12, 12, 6, 9, 11, 4, 12, 12, 12, 2, 7, 7, 7, 7, 7, 12, 11, 5, 3, 12, 12, 4, 5, 5, 5, 5, 5, 10, 10, 10, 10, 8, 10, 11, 11, 12, 4, 11, 9, 9, 9, 9, 9, 12, 6, 3, 12, 5, 3, 3, 3, 10, 10, 10, 10, 10, 10, 4, 4, 4, 4, 5, 6, 6, 8, 8, 9, 9, 9, 4, 5, 4, 4, 9, 11, 4, 4, 4, 4, 10, 4, 4, 11, 10, 12, 3, 7, 5, 2, 9, 9, 3, 3, 3, 2, 2, 2, 7, 10, 10, 10, 12, 3, 3, 3, 3, 3, 3, 3, 2, 5, 3, 3, 3, 12, 12, 12, 12, 2, 6, 8, 8, 4, 6, 12, 12, 12, 1, 4, 9, 3, 3, 3, 3, 3, 11, 12, 12, 12, 12, 1, 5, 6, 6, 6, 3, 3, 12, 12, 8, 3, 3, 3, 12, 12, 9, 7, 7, 6, 11, 12, 3, 3, 12, 12, 12, 12, 12, 4, 5, 5, 11, 11, 11, 12, 12, 12, 4, 12, 10, 9, 8, 7, 12, 12, 1, 5, 5, 5, 5, 2, 12, 7, 7, 5, 2, 10, 4, 4, 11, 11, 5, 5, 10, 12, 12, 12, 12, 12, 1, 1, 1, 8, 6, 6, 6, 6, 11, 2, 11, 9, 9, 9, 9, 3, 9, 11, 5, 12, 11, 11, 12, 9, 9, 9, 9, 9, 7, 7, 7, 8, 5, 5, 5, 7, 12, 1, 12, 11, 11, 11, 11, 11, 12, 8, 8, 9, 9, 9, 9, 9, 9, 9, 9, 6, 9, 11, 5, 5, 5, 4, 11, 1, 12, 12, 12, 1, 1, 2, 2, 2, 2, 2, 10, 9, 9, 12, 12, 11, 12, 12, 11, 6, 6, 6, 12, 8, 8, 8, 10, 8, 9, 6, 6, 6, 6, 6, 6, 6, 3, 7, 10, 9, 9, 11, 11, 11, 3, 12, 7, 7, 11, 6, 6, 6, 6, 6, 6, 6, 12, 12, 3, 12, 12, 12, 12, 12, 8, 6, 6, 6, 2, 9, 4, 12, 12, 7, 11, 10, 10, 11, 11, 2, 2, 2, 6, 6, 5, 5, 9, 9, 9, 7, 7, 7, 7, 2, 2, 1, 1, 11, 11, 11, 11, 10, 9, 9, 9, 9, 2, 2, 12, 7, 7, 12, 3, 3, 3, 9, 9, 3, 6, 6, 6, 6, 6, 9, 3, 12, 12, 12, 12, 7, 7, 4, 5, 11, 11, 11, 1, 1, 8, 9, 10, 10, 10, 6, 3, 3, 7, 11, 11, 11, 11, 11, 12, 11, 11, 11, 11, 3, 12, 4, 4, 6, 10, 8, 11, 6, 9, 9, 9, 9, 9, 4, 4, 4, 2, 2, 11, 12, 12, 12, 12, 7, 7, 7, 7, 10, 9, 9, 12, 10, 10, 10, 8, 9, 9, 9, 9, 9, 12, 9, 9, 11, 12, 12, 12, 10, 10, 11, 8, 8, 9, 9, 3, 3, 7, 10, 10, 8, 8, 8, 7, 12, 10, 10, 9, 12, 8, 8, 8, 8, 8, 8, 8, 6, 6, 6, 6, 7, 7, 7, 12, 2, 11, 11, 11, 11, 11, 5, 5, 5, 5, 5, 4, 5, 10, 10, 6, 2, 2, 2, 9, 4, 4, 4, 12, 12, 3, 8, 8, 12, 12, 12, 12, 8, 11, 11, 10, 12, 11, 12, 12, 12, 12, 12, 12, 12, 12, 8, 9, 12, 12, 11, 11, 11, 11, 11, 11, 11, 11, 11, 11, 1, 12, 12, 3, 11, 4, 11, 11, 11, 11, 11, 10, 2, 3, 3, 3, 3, 12, 12, 12, 12, 12, 12, 10, 10, 10, 8, 8, 11, 3, 3, 5, 6, 12, 12, 4, 4, 11, 11, 11, 11, 7, 5, 12, 2, 3, 3, 12, 12, 3, 3, 12, 12, 11, 8, 7, 7, 7, 7, 9, 9, 7, 9, 9, 6, 9, 10, 10, 4, 4, 11, 12, 9, 10, 9, 11, 12, 12, 12, 12, 12, 9, 5, 3, 3, 3, 9, 9, 11, 10, 10, 6, 11, 11, 3, 10, 10, 10, 5, 2, 9, 9, 12, 6, 9, 9, 4, 11, 11, 11, 2, 2, 9, 9, 11, 2, 2, 9, 9, 9, 12, 9, 10, 7, 7, 6, 6, 6, 6, 4, 10, 10, 10, 11, 11, 11, 11, 11, 11, 5, 5, 5, 10, 10, 10, 10, 2, 1, 1, 1, 1, 6, 6, 3, 11, 11, 8, 8, 12, 6, 9, 3, 3, 6, 6, 9, 4, 4, 4, 2, 2, 9, 10, 9, 5, 5, 5, 9, 1, 1, 1, 6, 6, 9, 9, 9, 8, 1, 8, 8, 8, 8, 8, 12, 12, 6, 6, 6, 6, 6, 3, 3, 12, 12, 12, 12, 6, 6, 3, 11, 11, 8, 8, 8, 8, 8, 8, 8, 8, 8, 8, 8, 8, 8, 11, 11, 12, 12, 5, 5, 5, 5, 10, 10, 11, 11, 12, 4, 4, 8, 8, 12, 12, 3, 12, 12, 10, 11, 11, 11, 8, 8, 10, 10, 10, 11, 11, 11, 11, 3, 11, 7, 7, 12, 9, 9, 9, 9, 9, 9, 2, 11, 11, 11, 7, 7, 7, 7, 5, 5, 11, 11, 12, 3, 9, 9, 2, 2, 2, 2, 2, 2, 11, 9, 10, 10, 12, 12, 2, 9, 9, 8, 8, 5, 5, 9, 10, 5, 5, 12, 12, 12, 9, 9, 1, 9, 11, 11, 6, 6, 12, 4, 9, 9, 3, 11, 6, 6, 4, 4, 4, 4, 4, 4, 4, 4, 4, 9, 3, 3, 3, 3, 8, 3, 3, 11, 11, 4, 4, 2, 7, 7, 7, 11, 11, 9, 9, 9, 9, 9, 9, 11, 11, 10, 9, 9, 5, 5, 9, 10, 10, 10, 10, 10, 3, 2, 2, 2, 2, 2, 12, 12, 9, 9, 9, 9, 12, 12, 12, 1, 1, 1, 1, 3, 3, 3, 3, 8, 6, 6, 4, 11, 5, 5, 5, 5, 6, 12, 12, 12, 5, 12, 12, 12, 12, 12, 8, 8, 1, 1, 1, 1, 6, 3, 10, 9, 9, 9, 9, 9, 9, 11, 9, 6, 8, 8, 4, 3, 3, 9, 9, 12, 12, 3, 1, 9, 10, 10, 10, 11, 11, 10, 10, 7, 7, 7, 7, 9, 9, 12, 5, 9, 9, 6, 8, 8, 8, 8, 9, 5, 8, 10, 5, 12, 4, 4, 3, 6, 9, 6, 9, 9, 6, 10, 10, 10, 10, 6, 6, 6, 10, 10, 11, 10, 11, 3, 12, 11, 11, 11, 11, 11, 11, 11, 11, 11, 6, 6, 6, 6, 9, 9, 9, 11, 6, 7, 12, 12, 10, 12, 10, 8, 1, 1, 11, 1, 1, 5, 5, 11, 11, 11, 5, 11, 4, 4, 10, 10, 4, 4, 4, 4, 8, 12, 6, 10, 3, 2, 8, 8, 8, 5, 2, 12, 12, 12, 12, 12, 12, 12, 12, 3, 7, 10, 10, 10, 10, 10, 6, 9, 9, 9, 5, 8, 8, 8, 8, 11, 11, 6, 6, 6, 5, 11, 6, 9, 12, 12, 12, 10, 5, 5, 5, 5, 5, 5, 6, 3, 3, 3, 7, 9, 9, 9, 9, 9, 8, 5, 5, 5, 9, 9, 9, 9, 6, 6, 8, 8, 11, 4, 7, 5, 5, 8, 8, 9, 9, 1, 1, 1, 9, 4, 5, 9, 5, 6, 11, 11, 11, 12, 12, 5, 5, 10, 9, 11, 11, 11, 8, 11, 11, 11, 9, 9, 9, 6, 6, 6, 9, 11, 1, 1, 6, 6, 2, 10, 10, 10, 11, 11, 11, 1, 3, 3, 3, 3, 6, 6, 6, 11, 11, 11, 11, 11, 11, 1, 1, 9, 9, 9, 9, 3, 6, 6, 6, 9, 12, 11, 11, 4, 4, 4, 8, 11, 12, 12, 7, 5, 12, 4, 4, 12, 12, 12, 12, 12, 12, 1, 6, 10, 6, 6, 4, 11, 9, 9, 9, 12, 6, 3, 12, 12, 12, 11, 8, 8, 8, 10, 10, 10, 10, 10, 11, 11, 11, 11, 11, 11, 8, 5, 5, 11, 9, 2, 2, 12, 12, 9, 12, 12, 12, 10, 10, 11, 8, 8, 8, 11, 7, 3, 3, 3, 3, 11, 12, 6, 1, 11, 11, 11, 11, 3, 10, 10, 7, 3, 3, 3, 3, 3, 3, 11, 11, 2, 2, 2, 6, 3, 3, 12, 12, 11, 11, 11, 7, 7, 7, 7, 7, 7, 7, 7, 9, 9, 6, 6, 6, 5, 11, 4, 4, 4, 4, 5, 5, 5, 5, 5, 1, 1, 1, 1, 1, 10, 7, 7, 7, 10, 10, 8, 7, 11, 11, 11, 11, 11, 11, 6, 6, 6, 6, 6, 6, 6, 8, 8, 8, 8, 8, 6, 6, 7, 12, 12, 5, 9, 10, 10, 10, 10, 10, 10, 10, 10, 10, 6, 6, 6, 9, 9, 9, 4, 5, 5, 5, 5, 6, 6, 11, 3, 1, 1, 1, 1, 1, 1, 1, 1, 3, 3, 11, 11, 11, 10, 10, 12, 9, 1, 4, 4, 4, 8, 5, 8, 8, 4, 4, 4, 1, 10, 8, 3, 7, 7, 7, 7, 7, 10, 6, 6, 6, 4, 8, 8, 8, 11, 11, 9, 9, 9, 9, 9, 9, 4, 10, 10, 1, 1, 1, 1, 9, 3, 3, 11, 5, 3, 3, 3, 3, 3, 9, 9, 11, 11, 11, 7, 4, 4, 6, 6, 12, 12, 12, 11, 1, 1, 4, 3, 3, 6, 6, 6, 6, 6, 12, 12, 12, 12, 11, 11, 11, 10, 9, 3, 3, 7, 12, 12, 12, 12, 12, 12, 7, 7, 9, 12, 12, 12, 12, 12, 12, 12, 9, 8, 9, 9, 5, 5, 10, 11, 11, 1, 3, 3, 3, 5], \"xaxis\": \"x\", \"y\": [261.96, 731.9399999999999, 14.62, 957.5775, 22.368000000000002, 48.86, 7.28, 907.152, 18.504, 114.9, 1706.1840000000002, 911.424, 15.552000000000003, 407.97600000000006, 68.80999999999999, 2.5439999999999996, 665.88, 55.5, 8.56, 213.48000000000002, 22.72, 19.459999999999997, 60.339999999999996, 71.37199999999999, 1044.6299999999999, 11.648000000000001, 90.57000000000001, 3083.4300000000003, 9.618000000000002, 124.20000000000002, 3.2640000000000002, 86.304, 6.858000000000001, 15.76, 29.472, 1097.5440000000003, 190.92, 113.328, 532.3992, 212.058, 371.168, 147.168, 77.88, 95.616, 45.98, 17.46, 211.96, 45.0, 21.8, 38.22, 75.17999999999999, 6.16, 89.99, 15.260000000000002, 1029.95, 208.56, 32.400000000000006, 319.41, 14.56, 30.0, 48.480000000000004, 1.68, 13.98, 25.824, 146.73, 79.76, 213.11499999999998, 1113.0240000000001, 167.96800000000002, 75.88, 4.616, 19.049999999999997, 831.9360000000001, 97.04, 72.784, 1.2479999999999998, 9.708, 27.240000000000002, 19.3, 208.16, 16.740000000000002, 14.9, 21.39, 200.98400000000004, 230.376, 301.96, 19.99, 6.16, 158.36800000000002, 20.1, 73.584, 6.48, 12.96, 53.34, 32.96, 5.682000000000001, 96.53, 51.312, 77.88, 64.624, 95.97600000000001, 1.7879999999999996, 23.92, 238.89600000000002, 102.35999999999999, 36.882000000000005, 74.11200000000001, 27.992000000000004, 3.3040000000000003, 339.96000000000004, 41.96, 75.96, 27.240000000000002, 40.096000000000004, 4.720000000000001, 23.976000000000003, 130.464, 787.53, 157.79400000000004, 47.04, 30.84, 226.56, 115.02, 68.04, 600.558, 617.7, 2.3880000000000003, 243.99200000000002, 81.424, 238.56, 59.96999999999999, 78.304, 21.456, 20.04, 35.44, 11.52, 4.02, 76.176, 65.88, 43.120000000000005, 82.80000000000001, 8.82, 10.86, 143.7, 839.4300000000001, 671.93, 93.888, 384.45000000000005, 149.97, 1951.84, 171.55, 157.92, 203.184, 58.379999999999995, 105.52, 80.88, 6.63, 457.56800000000004, 14.62, 944.9300000000001, 5.98, 54.38400000000001, 28.4, 27.680000000000003, 9.936, 8159.951999999999, 275.928, 1740.0599999999997, 32.064, 177.97999999999996, 143.976, 20.94, 110.96, 340.14400000000006, 52.44799999999999, 20.16, 97.26399999999998, 396.802, 15.88, 3.28, 24.816000000000003, 408.74399999999997, 503.96, 149.95, 29.0, 7.16, 176.8, 37.224000000000004, 20.016000000000002, 899.1360000000001, 71.76, 51.84, 626.3520000000001, 19.9, 14.280000000000001, 7.408, 6.048, 46.26, 2.9460000000000006, 16.056, 21.744000000000003, 218.75, 2.6, 66.28399999999999, 35.168000000000006, 444.76800000000003, 83.92, 131.98, 15.92, 52.29, 91.99, 20.8, 23.680000000000003, 452.45, 62.982, 1188.0000000000002, 89.584, 93.06, 302.376, 5.5840000000000005, 22.704000000000004, 19.776000000000003, 72.704, 479.98800000000006, 27.168000000000003, 2.2, 622.4499999999999, 21.98, 161.568, 389.696, 18.648000000000003, 233.86, 620.6145000000001, 5.328000000000001, 258.072, 617.9760000000001, 10.56, 25.920000000000005, 419.68000000000006, 11.688, 31.983999999999998, 177.225, 4.0440000000000005, 7.408, 2001.8600000000001, 166.72, 47.88, 1503.25, 25.92, 321.568, 7.61, 3347.37, 80.58, 361.92, 12.132000000000001, 82.368, 53.92, 647.904, 20.37, 221.54999999999998, 17.52, 1.6239999999999994, 3059.982, 2519.9579999999996, 328.224, 79.9, 14.015999999999998, 7.5600000000000005, 37.208, 57.576, 725.84, 209.92999999999998, 5.28, 10.92, 8.82, 5.98, 11.648000000000001, 18.176, 59.712, 24.839999999999996, 2.0799999999999996, 1114.4, 1038.84, 141.76, 239.80000000000004, 31.104000000000006, 254.05800000000002, 194.52800000000002, 961.4800000000001, 19.096, 18.496000000000002, 255.98400000000004, 86.97, 300.416, 230.35200000000003, 218.35200000000003, 78.60000000000001, 27.552000000000003, 32.400000000000006, 1082.48, 56.91, 77.6, 14.28, 219.07500000000002, 26.8, 9.84, 45.480000000000004, 289.20000000000005, 4.89, 15.136000000000003, 466.76800000000003, 15.232, 6.264, 87.53999999999999, 178.38400000000001, 15.552000000000003, 99.13600000000001, 135.882, 3991.98, 275.94, 360.0, 43.57, 7.16, 251.52, 99.99, 15.991999999999999, 290.898, 54.224000000000004, 786.744, 100.24000000000001, 37.76400000000001, 82.8, 20.724000000000004, 4.896000000000001, 4.752000000000001, 959.984, 14.368000000000002, 7.712000000000001, 698.3520000000001, 4.96, 17.856, 509.9700000000001, 30.991999999999997, 71.928, 88.80000000000001, 47.976, 7.5600000000000005, 24.56, 12.96, 6.79, 24.56, 3.048, 49.12, 4355.168000000001, 388.70400000000006, 8.26, 17.04, 34.4, 36.24000000000001, 647.84, 20.7, 20.7, 488.646, 5.56, 47.12, 211.96, 23.2, 7.36, 104.79, 1043.92, 25.920000000000005, 53.42400000000001, 8.160000000000002, 1023.9360000000001, 9.24, 479.04, 99.13600000000001, 1488.4239999999998, 8.651999999999997, 23.832, 12.175999999999998, 50.96, 49.536, 41.9, 375.45750000000004, 83.97600000000001, 482.34000000000003, 2.9600000000000004, 2.624, 23.36, 39.98, 246.38400000000001, 1799.97, 12.461999999999996, 75.792, 49.96, 12.96, 70.12, 35.952000000000005, 2396.2655999999997, 131.136, 57.584, 9.568000000000001, 39.072, 35.910000000000004, 179.95000000000002, 1199.976, 27.15, 1004.0239999999999, 9.68, 28.349999999999998, 55.98, 1336.829, 113.56800000000001, 139.86, 307.136, 95.92, 383.8, 5.78, 9.32, 15.25, 196.752, 56.56, 32.7, 866.4, 28.4, 287.92, 69.99, 6.671999999999999, 189.58800000000005, 408.74399999999997, 291.96, 4.768, 714.3000000000001, 4.812, 247.8, 1007.979, 313.488, 31.872000000000003, 207.84600000000003, 12.22, 194.94, 70.94999999999999, 91.36, 242.94, 22.05, 2.91, 59.519999999999996, 161.94, 263.88, 30.48, 9.84, 35.12, 284.364, 665.408, 63.88, 129.568, 747.558, 8.928, 103.92, 899.91, 51.312, 23.56, 1272.6299999999999, 28.485, 185.376, 78.272, 254.74400000000003, 205.33279999999996, 4.7879999999999985, 55.48, 340.92, 222.66599999999997, 703.9680000000001, 92.52, 62.64999999999999, 94.85, 95.76, 40.2, 14.7, 704.25, 9.09, 5.96, 159.98, 29.6, 514.165, 279.96, 2735.952, 7.992000000000001, 63.98400000000001, 70.368, 449.15, 11.07, 93.98, 189.882, 105.42, 119.61600000000001, 255.76, 241.56799999999998, 69.3, 22.620000000000005, 14.952000000000004, 801.5680000000001, 2.3760000000000003, 32.792, 15.920000000000002, 2.74, 8.34, 46.74, 6354.95, 126.30000000000001, 38.04, 7.151999999999999, 6.63, 5.88, 2999.95, 51.449999999999996, 11.96, 1126.02, 18.392, 129.568, 14.111999999999997, 210.98, 55.176, 66.26, 22.200000000000003, 683.9520000000001, 45.696, 36.336000000000006, 666.248, 52.512, 190.72000000000003, 47.94, 979.95, 22.75, 16.768, 42.61599999999999, 10.752, 152.94, 283.92, 468.90000000000003, 380.86400000000003, 646.7760000000001, 58.112, 100.792, 66.11200000000001, 41.28, 13.36, 250.272, 11.363999999999997, 8.72, 1121.568, 34.504000000000005, 10.824, 1295.78, 19.456000000000003, 20.7, 1335.68, 32.400000000000006, 42.599999999999994, 84.05600000000001, 13.0, 13.128, 3.96, 2.61, 374.37600000000003, 91.84, 81.08800000000001, 19.44, 451.15199999999993, 72.45, 13.96, 33.264, 14.850000000000001, 8.82, 160.72, 19.92, 7.3, 69.712, 8.792, 51.52, 470.3760000000001, 105.584, 31.152, 6.783, 406.368, 70.98, 294.93, 84.784, 20.736000000000004, 16.821000000000005, 10.368000000000002, 9.344, 31.200000000000003, 76.12, 1199.976, 445.96000000000004, 327.76, 11.632, 143.98199999999997, 494.376, 5.84, 142.776, 45.696, 7.218, 43.18800000000001, 131.904, 3.2820000000000005, 21.168, 55.188, 369.576, 15.712000000000002, 8.448, 728.946, 119.93999999999998, 3.6480000000000006, 40.48, 9.94, 107.424, 37.91, 88.02, 8.689999999999998, 301.96, 555.21, 523.48, 161.82, 35.56, 97.16, 15.24, 13.23, 243.38400000000001, 119.80000000000001, 300.768, 17.880000000000003, 235.94400000000002, 392.93999999999994, 18.882000000000005, 122.328, 1049.2, 15.424000000000001, 18.84, 330.4, 26.25, 132.52, 6.48, 209.3, 31.560000000000002, 30.144000000000002, 14.8, 302.376, 316.0, 379.4, 97.82, 103.12, 113.552, 3.3180000000000005, 134.288, 701.372, 2.3079999999999994, 999.432, 724.08, 918.7849999999999, 2.7239999999999993, 459.95, 10.74, 23.76, 85.056, 381.576, 30.36, 23.976000000000003, 108.925, 36.352, 19.56, 61.44, 38.9, 99.39000000000001, 2.6879999999999997, 27.816000000000003, 82.524, 182.99399999999997, 14.352000000000002, 64.96, 68.6, 7999.98, 167.44000000000003, 479.97, 14.62, 19.44, 191.984, 104.01, 284.82, 36.839999999999996, 166.24, 33.4, 198.27200000000002, 47.36000000000001, 200.98400000000004, 97.69600000000001, 2.696, 18.588000000000005, 4.896000000000001, 15.072000000000003, 209.88, 369.91200000000003, 10.368000000000002, 166.84, 15.216000000000001, 119.96, 883.92, 46.72, 55.48, 24.448, 281.34000000000003, 307.98, 299.96999999999997, 19.92, 9.94, 103.05599999999998, 59.80800000000001, 73.32000000000001, 146.82, 1652.94, 296.37, 129.92, 45.584, 17.568, 55.992, 182.72, 400.032, 33.63, 542.646, 6.3, 242.94, 179.97, 99.696, 27.936000000000003, 84.98, 18.72, 49.98, 11.784, 272.736, 3.539999999999999, 51.52000000000001, 3.5280000000000005, 4.6240000000000006, 55.168, 567.12, 359.32, 11.992, 58.050000000000004, 157.74, 56.980000000000004, 2.88, 1199.976, 79.92, 383.438, 24.56, 119.8, 13.128, 22.72, 58.32000000000001, 12.39, 107.982, 11.36, 50.94, 646.74, 5.64, 572.58, 310.88000000000005, 641.96, 18.28, 207.0, 32.35, 7.71, 40.3, 34.580000000000005, 32.76, 544.008, 59.94, 23.92, 4.28, 32.07, 24.0, 35.49, 47.984, 186.69, 17.456, 348.92800000000005, 143.96, 15.42, 43.04, 332.94, 1363.96, 9.96, 21.72, 20.16, 132.79, 12.96, 21.560000000000002, 283.92, 22.23, 215.968, 355.32, 12.96, 18.28, 43.176, 1983.968, 28.4, 149.97, 11.52, 1298.55, 213.92, 25.78, 18.28, 1399.93, 51.84, 5.344, 41.47200000000001, 3.168000000000001, 1228.465, 31.086000000000006, 335.52, 239.96999999999997, 9.82, 67.8, 167.97, 35.0, 37.24, 15.28, 301.96, 180.66, 191.98, 65.99, 35.216, 23.696, 265.475, 51.18399999999998, 9.664000000000001, 21.072, 60.449999999999996, 11.52, 186.048, 37.44, 26.976, 11.36, 14.62, 83.72, 287.94, 48.896, 115.36, 5.16, 38.88, 185.88, 44.46, 242.94, 39.96, 102.30000000000001, 21.36, 7.61, 7.16, 7.36, 23.1, 191.472, 5.248, 59.184000000000005, 2.89, 51.94, 15.936000000000002, 44.91000000000001, 1141.4700000000003, 280.78200000000004, 34.44, 11.36, 106.344, 192.16000000000003, 322.59000000000003, 29.99, 371.96999999999997, 5.892000000000001, 68.47200000000001, 1242.8999999999999, 30.84, 13.48, 31.400000000000002, 17.46, 13.943999999999999, 83.76, 37.66, 34.68, 149.95, 51.312, 4.54, 15.92, 543.92, 155.82000000000002, 70.00800000000001, 15.648, 103.60000000000001, 46.96, 8.904000000000002, 10.440000000000001, 18.336, 323.97600000000006, 20.04, 64.96, 12.96, 323.136, 90.93, 52.775999999999996, 1199.8, 1928.7800000000002, 352.38, 22.200000000000003, 46.94, 143.73000000000002, 99.918, 797.944, 8.567999999999998, 149.352, 12.991999999999999, 24.56, 85.14, 21.99, 406.59999999999997, 841.5680000000001, 15.552000000000003, 252.00000000000003, 46.2, 28.84, 14.592000000000002, 89.856, 13.872000000000002, 12.192, 45.056000000000004, 29.718000000000007, 15.552000000000003, 447.696, 159.99, 12.96, 134.48, 17.12, 6.096, 1114.272, 32.400000000000006, 540.5699999999999, 167.76, 393.165, 516.488, 1007.2320000000001, 2065.32, 15.552000000000003, 25.344, 25.472, 27.168000000000003, 78.85279999999999, 173.79999999999998, 29.592000000000002, 4.752000000000001, 15.552000000000003, 204.6, 321.568, 6.24, 21.88, 4.608, 9.82, 35.97, 12.96, 191.6, 8.64, 501.81000000000006, 127.10400000000001, 124.19999999999999, 18.588000000000005, 30.072000000000003, 160.92999999999998, 75.792, 1.0800000000000003, 3059.982, 3.2820000000000005, 34.019999999999996, 599.292, 3.3920000000000003, 559.984, 603.92, 7.968000000000001, 27.968000000000004, 336.51, 1.1119999999999997, 520.0500000000001, 17.97, 1166.92, 14.624000000000002, 10.23, 154.9, 2715.9300000000003, 617.97, 10.67, 36.63, 24.1, 33.11, 44.02, 2309.65, 1090.782, 19.44, 484.65000000000003, 115.296, 7.080000000000001, 4.401, 44.75, 95.98400000000001, 151.72, 155.25, 14.03, 1618.37, 99.6, 32.400000000000006, 13.96, 155.82, 124.94999999999999, 601.65, 22.740000000000002, 1267.53, 1379.92, 6.208, 11.808, 15.552000000000003, 63.312, 15.588, 177.2, 197.96999999999997, 854.94, 124.10999999999999, 14.399999999999999, 15.696000000000002, 2.628, 14.427000000000003, 86.62, 36.624, 23.968000000000004, 28.728, 697.16, 31.86, 722.3520000000001, 8.84, 58.46399999999998, 254.60399999999998, 1363.96, 102.35999999999999, 1113.504, 99.99, 168.46400000000003, 6.720000000000001, 282.88800000000003, 11.16, 108.4, 82.34400000000001, 9.088, 19.936000000000003, 65.568, 4.416, 107.772, 45.216, 10.416000000000002, 7.872, 118.78199999999998, 1.4480000000000002, 55.470000000000006, 194.848, 1.7440000000000002, 25.176000000000005, 19.459999999999997, 29.472, 8.64, 6.27, 4.368, 31.983999999999998, 40.879999999999995, 119.96, 31.44, 6.88, 19.92, 1106.9099999999999, 836.592, 26.38, 362.92, 4899.93, 6.48, 71.976, 3.15, 31.983999999999998, 71.98400000000001, 120.14999999999999, 219.18400000000003, 28.900000000000002, 355.96, 348.20799999999997, 35.784, 447.84, 7.04, 8.73, 29.29, 8.64, 2.6939999999999995, 2.9339999999999993, 22.919999999999998, 100.70400000000001, 2.3280000000000003, 10.779999999999996, 58.36800000000001, 40.968, 71.96, 10.368000000000002, 1.1919999999999997, 46.672000000000004, 119.83299999999998, 119.98, 6.3, 279.9, 619.9499999999999, 4.36, 15.28, 699.93, 22.959999999999997, 38.6, 6.63, 23.34, 1067.94, 10.16, 101.88, 343.92, 40.99, 63.9, 19.44, 124.608, 7.5600000000000005, 85.224, 287.52, 37.68, 19.98, 20.58, 17.38, 204.6, 8.72, 6.48, 686.32, 62.18, 644.076, 5.84, 12.76, 10.95, 599.98, 8.352, 3.64, 159.768, 122.48, 2244.48, 62.31, 455.1, 195.184, 362.94, 11.54, 53.94, 9.99, 125.76, 25.32, 46.8, 447.93, 109.48, 272.94, 19.44, 31.92, 22.38, 16.520000000000003, 5.175999999999998, 50.112, 27.93, 11.56, 172.5, 179.97, 258.696, 1322.93, 3.76, 21.744, 7.92, 12.096000000000002, 485.88, 25.92, 197.58, 81.92, 889.5360000000001, 892.224, 223.92, 23.12, 15.552000000000003, 15.712000000000002, 24.672, 55.967999999999996, 431.92800000000005, 95.984, 1088.7919999999997, 544.008, 1.8720000000000003, 854.3520000000001, 593.5680000000001, 338.04, 271.96, 11.21, 9.144, 14.069999999999999, 41.86, 8.544, 579.136, 141.37199999999999, 3.036, 4.503000000000001, 4.672, 95.88000000000001, 17.024, 258.696, 1931.9579999999999, 249.75, 255.93600000000004, 113.78999999999999, 78.15, 1.7280000000000002, 40.56, 182.94, 193.86, 15.28, 8.73, 5.68, 2.78, 79.96, 839.9879999999999, 47.952000000000005, 37.425000000000004, 63.967999999999996, 165.048, 12.35, 40.97, 22.96, 22.0, 398.352, 8.72, 48.69, 764.6880000000001, 3610.848, 254.97449999999998, 38.82, 1141.9379999999999, 1704.56, 3.2, 1099.96, 5.248, 35.91, 6.696, 43.87200000000001, 27.882000000000005, 540.048, 255.68000000000004, 863.8799999999999, 17.616000000000003, 17.472, 69.9, 41.849999999999994, 6.57, 142.86, 292.27200000000005, 29.328000000000003, 12.48, 102.33600000000001, 48.79199999999999, 44.84799999999999, 10.368000000000002, 388.42999999999995, 14.352000000000002, 63.992, 86.352, 32.97, 83.88, 278.4, 15.120000000000001, 17.430000000000003, 251.64, 2.7719999999999994, 14.9, 15.48, 39.88, 12.192, 20.82, 13.216000000000001, 32.400000000000006, 32.94, 114.2, 3.08, 845.728, 13.904, 20.72, 114.94999999999999, 26.96, 572.76, 286.38, 61.96, 23.99, 287.96999999999997, 419.94399999999996, 46.76, 17.712, 21.78, 161.94, 161.568, 3.69, 122.12, 155.37199999999999, 38.88, 183.84, 579.3, 14.200000000000001, 575.92, 5.184000000000001, 5.229, 285.552, 72.8, 10.816, 46.26, 17.459999999999997, 51.072, 11.34, 87.92, 37.05, 2.97, 27.439999999999998, 1.0799999999999998, 7.959999999999997, 140.736, 552.56, 25.11, 29.78, 677.58, 75.04, 695.7, 15.66, 28.854000000000006, 47.82, 13.049999999999999, 93.78, 47.18, 19.68, 53.4, 35.88, 258.279, 31.4, 183.96, 17.61, 300.904, 220.776, 281.42400000000004, 79.14, 1.988, 145.568, 123.256, 23.680000000000003, 309.576, 38.388000000000005, 95.99400000000001, 239.95200000000003, 201.584, 899.1360000000001, 145.9, 590.0580000000001, 14.04, 49.08, 29.6, 17.088, 912.75, 1089.75, 447.84, 16.4, 399.96000000000004, 158.9, 13.184000000000001, 83.952, 80.98, 348.84, 9.45, 18.84, 239.98, 167.96, 104.85000000000001, 484.83000000000004, 122.97, 154.44, 342.37, 9.552, 652.45, 66.645, 17.216, 11.56, 88.4, 6.48, 21.8, 251.79000000000002, 205.176, 419.4, 10.304000000000002, 154.764, 116.78399999999999, 75.48, 39.98, 393.165, 23.680000000000003, 408.006, 165.28, 334.76800000000003, 239.96999999999997, 37.74, 946.344, 151.20000000000002, 4.928000000000001, 86.272, 72.58800000000001, 60.672000000000004, 77.031, 119.90400000000001, 263.96000000000004, 363.648, 9.728000000000002, 14.75, 29.800000000000004, 427.42, 220.752, 152.76, 7.27, 1819.8600000000001, 33.9, 31.104000000000006, 5.248, 263.88, 2453.43, 29.700000000000003, 39.96, 36.672000000000004, 13.76, 139.424, 1979.928, 164.736, 470.30199999999996, 47.984, 2.5020000000000002, 88.752, 2.0250000000000004, 70.98, 91.67999999999999, 33.75, 3040.0, 91.19999999999999, 452.93999999999994, 52.199999999999996, 15.936000000000002, 27.46, 55.42400000000001, 244.00599999999997, 159.984, 1024.716, 3.68, 121.376, 95.97600000000001, 255.968, 872.94, 41.54, 12.96, 6.848000000000001, 8.67, 6.688, 17.28, 17.712, 28.91, 52.136, 31.968000000000004, 25.92, 40.46, 33.87, 9.728000000000002, 3.4240000000000004, 177.0, 3.76, 1212.848, 89.97, 42.599999999999994, 5.04, 62.96, 5.88, 977.292, 9.64, 40.05, 10.192000000000002, 16.784000000000002, 13.120000000000001, 18.16, 16.056, 223.056, 540.048, 33.52, 9.94, 6.72, 1004.9760000000001, 17.880000000000003, 396.0, 34.5, 8.36, 385.6, 35.82, 200.06400000000002, 21.379999999999995, 6.743999999999998, 63.686, 1669.6, 83.84, 13.272000000000002, 21.336, 16.520000000000003, 206.11199999999997, 19.92, 198.27200000000002, 247.10399999999998, 86.304, 4.16, 11.648000000000001, 26.18, 7.3, 74.352, 10.744, 8.376000000000001, 212.88, 203.98299999999998, 40.74, 11.67, 39.99, 16.28, 782.94, 242.48000000000002, 8.32, 10.464000000000002, 82.896, 34.24, 1573.488, 335.52, 23.911999999999995, 27.056, 559.9920000000001, 9.323999999999998, 111.96, 21.560000000000002, 124.75, 5.28, 91.96, 9.344, 79.36, 171.96, 35.352000000000004, 18.9, 2.78, 1044.6299999999999, 11.352000000000002, 354.90000000000003, 453.576, 21.48, 8.783999999999999, 122.97, 12.84, 603.92, 21.84, 29.99, 381.44000000000005, 40.68, 763.28, 23.952, 4.98, 170.88, 307.98, 382.806, 41.96, 1217.568, 47.04, 6.16, 979.95, 143.7, 10.649999999999999, 247.8, 10.96, 33.48800000000001, 8.04, 201.568, 13.440000000000001, 359.05799999999994, 47.992, 547.3000000000001, 16.896, 6.672000000000001, 99.13600000000001, 15.991999999999999, 211.96, 6.671999999999999, 155.94, 39.96000000000001, 5.46, 73.2, 5.84, 22.72, 9.336, 290.666, 201.584, 83.98400000000001, 1000.0200000000001, 83.97600000000001, 3.75, 41.4, 29.79, 59.48, 6.69, 198.46, 786.48, 23.168000000000003, 50.0, 675.96, 1265.85, 523.25, 517.5, 17.92, 41.25600000000001, 1006.056, 10.688, 10.368000000000002, 25.12, 58.112, 15.552000000000003, 669.08, 438.336, 19.44, 9.64, 12.7, 41.37, 12.624, 1247.6399999999999, 3149.9300000000003, 209.7, 35.36000000000001, 3.168, 121.10400000000003, 45.894, 109.92, 13.36, 169.68, 132.52, 2.96, 8.448, 95.94, 34.79, 160.776, 88.752, 13.904, 677.5799999999999, 13.896, 41.92, 297.576, 4.344, 94.992, 74.352, 14.04, 1018.1039999999999, 16.68, 58.58, 167.96800000000002, 196.62, 21.936000000000003, 6.587999999999999, 104.28, 17.94, 64.784, 32.382, 42.368, 399.54, 18.97, 14.82, 99.28, 1.1880000000000002, 7.518000000000001, 10.368000000000002, 310.88000000000005, 853.0919999999999, 33.45, 10.4, 21.880000000000003, 13.616, 63.96, 14.46, 104.98, 106.96, 21.560000000000002, 515.88, 11.808, 1931.04, 9.96, 12.350000000000001, 9.702000000000002, 11.610000000000003, 43.86, 148.48, 7.42, 71.992, 19.9, 1702.12, 14.303999999999998, 765.625, 307.666, 7.712000000000001, 242.89999999999998, 454.90000000000003, 35.92, 39.76, 47.744, 159.984, 255.968, 359.05799999999994, 434.352, 3.5520000000000005, 88.83200000000001, 1048.35, 100.0, 7.83, 96.256, 10.688, 338.04, 154.24, 34.848000000000006, 22.0, 4.368, 31.44, 17.9, 129.45, 20.88, 20.736000000000004, 7.168000000000001, 11.168000000000001, 442.40000000000003, 13.36, 11.232000000000001, 10.272000000000002, 10.368000000000002, 6.24, 206.96200000000002, 9.46, 559.62, 109.92, 8.56, 360.712, 1718.4, 41.56799999999999, 46.864000000000004, 19.536, 411.332, 28.752000000000002, 293.199, 35.06, 4.13, 109.8, 9.82, 7.644000000000001, 51.46500000000002, 6.976000000000001, 12.221999999999998, 97.98400000000001, 62.400000000000006, 20.86, 497.61, 5.34, 3.15, 368.91, 14.7, 59.97, 83.36, 6.58, 122.94, 219.84, 98.16, 33.04, 86.97, 134.97, 699.98, 139.95, 48.94, 2807.84, 46.64, 60.416, 107.94, 63.84, 347.96999999999997, 37.008, 215.65, 11.168000000000001, 53.952000000000005, 4.18, 5.607000000000001, 4663.736000000001, 79.98400000000001, 2575.944, 45.36, 254.24, 69.93, 16.156, 54.816, 1441.3, 77.6, 4.656000000000001, 170.13600000000002, 7.38, 9.26, 9.96, 75.59999999999998, 29.32, 92.06399999999998, 6.976000000000001, 62.958, 5.184000000000001, 31.32, 11.840000000000002, 22.784000000000002, 1127.976, 38.88, 779.796, 1439.92, 262.11, 207.0, 1439.982, 36.28800000000001, 21.400000000000002, 1245.86, 17.544, 44.128, 62.92000000000001, 78.304, 140.81, 40.096000000000004, 40.784, 90.57000000000001, 40.08, 37.68, 362.352, 7.184000000000001, 34.76, 831.2, 26.400000000000002, 106.75, 97.82, 141.4, 14.52, 127.92000000000002, 34.23999999999999, 137.62, 100.49, 257.568, 119.96, 49.632000000000005, 727.45, 24.96, 370.782, 196.45, 31.104000000000006, 78.256, 6.48, 99.2, 801.5680000000001, 272.848, 70.98, 16.224, 176.784, 470.3760000000001, 393.568, 302.376, 68.74200000000002, 29.339999999999996, 383.607, 563.4, 217.05599999999998, 6.0, 31.56, 7.104000000000001, 398.35200000000003, 121.79200000000002, 409.59000000000003, 10.56, 3.38, 7.824, 24.784000000000002, 34.650000000000006, 487.98400000000004, 1793.98, 29.808, 505.1760000000001, 174.0585, 191.88, 14.78, 5.184000000000001, 478.48, 28.400000000000002, 909.12, 2.9520000000000004, 27.018000000000008, 136.92, 18.96, 99.39000000000001, 273.896, 597.1320000000001, 149.95, 4.608, 15.528, 11.952000000000002, 11.65, 299.9, 895.92, 462.564, 15.008000000000003, 863.6400000000001, 47.616, 92.94, 199.98, 177.48000000000002, 88.768, 6.48, 46.51, 659.9760000000001, 271.992, 145.74, 15.4, 244.54999999999998, 166.16, 14.73, 19.968000000000004, 33.48800000000001, 8.736000000000002, 662.88, 47.36000000000001, 27.439999999999998, 3.2399999999999993, 95.968, 10.368000000000002, 23.1, 11.54, 254.52599999999998, 12.98, 26.432000000000002, 197.96999999999997, 18.9, 1282.41, 4.92, 238.0, 167.97, 17.12, 16.200000000000003, 33.99, 296.84999999999997, 112.80000000000001, 13.71, 24.900000000000002, 286.29, 24.18, 281.96999999999997, 69.5, 166.44, 291.96, 6.408, 408.74399999999997, 5.103999999999999, 2.8960000000000004, 35.016000000000005, 275.96999999999997, 1394.95, 545.88, 5.248, 933.5360000000001, 42.976, 3.76, 479.96, 320.88, 23.88, 26.76, 1439.9759999999999, 17.22, 1024.38, 26.22, 17.34, 4.956, 71.04, 5.344, 11.304, 294.61999999999995, 8.752, 15.0, 161.61, 144.95, 199.95000000000002, 41.86, 95.94, 304.45, 11.363999999999997, 29.68, 47.53, 183.37199999999999, 4.224, 333.05600000000004, 24.896, 159.984, 46.344, 350.98, 13.08, 900.08, 17.568, 14.62, 33.36, 40.14, 1606.23, 17.04, 49.53, 872.32, 239.12000000000003, 141.96, 33.024, 67.13600000000001, 14.73, 104.9, 61.04, 10.95, 9.392000000000001, 9.328000000000001, 8.26, 269.96999999999997, 29.04, 14.62, 11.952000000000002, 4.536000000000001, 9.156, 75.36, 57.504000000000005, 38.864000000000004, 15.552000000000003, 162.64, 597.0, 55.48, 289.80000000000007, 2.5020000000000002, 6.480000000000001, 341.48799999999994, 11.12, 25.344, 17.31, 199.95000000000002, 1586.6899999999998, 84.99, 411.8, 11.34, 80.3, 15.968000000000002, 64.74000000000001, 19.296, 405.64, 146.352, 251.91, 12.39, 199.96, 710.8320000000001, 1.9410000000000003, 283.92, 7.312000000000001, 59.97, 761.5440000000001, 58.199999999999996, 39.900000000000006, 90.86, 94.85, 106.232, 111.984, 7.712000000000001, 37.44, 23.680000000000003, 122.12, 18.45, 324.90000000000003, 146.73, 3.96, 5.76, 26.549999999999997, 310.44300000000004, 479.90000000000003, 12.88, 13.120000000000001, 511.84, 91.96, 8.34, 37.68, 279.944, 636.4080000000001, 83.168, 259.136, 221.92, 26.0, 15.552000000000003, 0.8759999999999998, 19.98, 398.352, 5.04, 17.450000000000003, 323.136, 29.700000000000003, 1295.8400000000001, 46.84, 425.833, 209.67, 159.88, 5.28, 895.92, 2.8080000000000007, 215.976, 241.96, 27.72, 104.68000000000002, 62.958, 86.376, 64.944, 20.736000000000004, 33.28, 38.52, 139.86, 19.65, 152.991, 10.584, 94.91999999999999, 14.76, 3.6559999999999993, 146.82, 149.54399999999998, 17.14, 991.7640000000001, 30.48, 23.987999999999996, 16.688, 422.05799999999994, 38.088, 254.35200000000003, 43.31, 84.94999999999999, 233.058, 111.79, 14.940000000000001, 14.16, 22.608, 21.48, 501.81000000000006, 161.94, 17.856, 8.807999999999998, 79.38400000000001, 34.58, 314.54999999999995, 191.976, 8.288, 139.92, 15.872, 6.285999999999999, 14.015999999999998, 71.976, 107.982, 305.312, 19.752000000000002, 9.263999999999998, 61.792, 45.68, 60.12, 41.72, 71.6, 85.23200000000001, 44.400000000000006, 442.764, 3999.95, 199.95000000000002, 63.68, 54.89600000000001, 29.0, 70.08, 121.3, 1454.4900000000002, 60.81, 153.552, 65.34, 123.92, 35.099999999999994, 44.75, 4.704, 14.669999999999998, 15.552000000000003, 5.232, 22.200000000000003, 881.93, 6.096, 191.82, 20.104, 67.56, 29.93199999999999, 38.272000000000006, 16.52, 832.93, 43.8, 167.292, 27.42, 1.4400000000000002, 61.77600000000001, 241.96, 108.608, 2.8160000000000003, 9.984000000000002, 14.98, 1145.6000000000001, 485.93999999999994, 37.376, 70.68599999999999, 54.816, 72.29400000000001, 2.8960000000000004, 124.79200000000002, 330.588, 673.5680000000001, 52.98, 526.45, 228.92, 319.968, 205.03, 190.86, 24.32, 44.400000000000006, 44.400000000000006, 1016.792, 38.136, 494.98199999999997, 56.56, 5.56, 9.02, 8.62, 659.9760000000001, 13.36, 41.72, 11.52, 541.4399999999999, 19.44, 143.7, 43.26, 43.56, 437.84999999999997, 109.48, 1212.96, 18.54, 5.0, 371.96999999999997, 166.24, 359.96999999999997, 499.98, 5.28, 8.26, 7.968000000000001, 12.96, 6.48, 6.984000000000001, 47.96, 199.74, 435.26, 1119.9840000000002, 143.432, 122.352, 306.2, 85.98, 223.96, 97.568, 614.272, 199.98, 48.16, 23.92, 60.69, 14.352000000000002, 35.04, 17.480000000000004, 16.4, 892.98, 287.96999999999997, 595.38, 12.96, 4.95, 181.95, 13.52, 259.7, 42.95, 1399.93, 503.96, 12.72, 11.52, 316.0, 723.92, 106.32, 141.37199999999999, 27.216, 390.75, 280.79200000000003, 68.44800000000001, 88.04, 15.872, 215.592, 14.62, 416.32, 43.0, 182.94, 60.83, 389.97, 194.32, 265.93, 94.74, 60.64, 76.3, 364.79999999999995, 79.87200000000001, 46.384, 12.96, 14.352000000000002, 547.136, 41.96, 41.7, 277.4, 5.78, 69.21600000000001, 10.86, 426.78999999999996, 25.92, 45.92, 10.72, 41.86, 63.2, 113.97, 123.55199999999999, 490.32, 70.08, 1.2719999999999998, 557.585, 9.024000000000001, 69.456, 10.86, 79.47, 10.08, 1552.831, 137.24, 36.51, 239.976, 1579.746, 1071.576, 613.908, 34.86, 155.04, 13.710000000000003, 127.88, 160.32, 46.0, 120.71199999999999, 23.12, 532.7040000000001, 4.912, 252.0, 60.288000000000004, 2.632, 23.688000000000002, 253.37199999999996, 5.67, 76.77600000000001, 9.184000000000001, 32.75, 7.216, 49.568000000000005, 54.711999999999996, 176.04, 16.02, 185.92000000000002, 211.168, 479.98400000000004, 7.86, 24.448, 6.48, 41.86, 1619.91, 113.92, 39.68, 37.6, 59.9, 37.0, 5.76, 16.68, 628.81, 56.449999999999996, 94.19999999999999, 28.4, 956.6647999999999, 1115.9099999999999, 128.744, 79.92000000000002, 24.2, 359.97600000000006, 211.84, 5.68, 7.52, 11.96, 629.0640000000001, 754.4499999999999, 301.96, 595.0, 79.87200000000001, 2396.4, 63.56, 99.99, 230.376, 9.664000000000001, 158.928, 13.023000000000001, 273.06, 39.312, 1.3439999999999996, 8.271999999999998, 12.544000000000002, 58.48, 7.4, 366.786, 54.367999999999995, 33.96, 826.11, 545.85, 145.98, 35.808, 7.904000000000001, 345.0, 174.28599999999997, 662.84, 95.1, 26.880000000000003, 257.98, 17.48, 492.835, 269.49, 29.120000000000005, 18.75, 119.69999999999999, 9.144, 57.06, 71.6, 107.44, 7.31, 59.099999999999994, 46.53, 97.84, 29.97, 98.352, 83.92000000000002, 14.624000000000002, 136.99, 3.15, 9.11, 571.44, 32.400000000000006, 16.91, 14.272, 451.13599999999997, 64.864, 217.58400000000003, 82.95, 87.71, 1101.48, 1322.352, 5.46, 11.184000000000001, 153.584, 1003.6200000000001, 35.168, 1137.75, 99.68000000000002, 5.56, 85.52, 9.84, 20.04, 631.96, 23.92, 90.24, 4548.81, 300.93, 719.96, 647.84, 64.17, 124.46, 9.584000000000001, 37.608000000000004, 12.224, 2.3039999999999994, 9.359999999999998, 7.38, 53.72, 8187.65, 77.92, 32.78399999999999, 196.776, 479.93999999999994, 1117.92, 106.5, 45.66000000000001, 95.968, 47.992, 264.32, 604.6560000000001, 129.93, 20.16, 29.46, 868.5899999999999, 12.96, 5.5, 121.6, 42.047999999999995, 25.488, 6.899999999999999, 9.647999999999996, 7.968000000000001, 10.368000000000002, 114.2, 17.96, 12.67, 339.96, 1801.632, 46.32, 181.986, 431.976, 155.36999999999998, 1348.7040000000002, 700.152, 111.888, 143.952, 173.94, 14.76, 205.92, 102.833, 2.304, 1879.96, 313.024, 5.04, 821.8799999999999, 21.96, 25.92, 705.544, 50.0, 51.712, 6.992000000000001, 1406.86, 15.75, 323.1, 9.216, 10.368000000000002, 15.02, 33.82, 71.0, 25.120000000000005, 2665.62, 478.08, 164.388, 13.248, 2.9120000000000004, 1399.9440000000002, 526.45, 16.23, 319.9, 11.36, 675.12, 62.82000000000001, 489.92, 19.44, 16.68, 155.35, 12.419999999999998, 187.98, 6.6080000000000005, 248.57, 22.23, 5.98, 246.168, 14.136000000000003, 601.47, 79.1, 327.84, 180.96, 914.97, 587.97, 530.34, 14.940000000000001, 121.94, 122.71000000000001, 14.940000000000001, 1349.85, 136.784, 61.12, 1.1670000000000003, 16.99, 24.672, 2.52, 1218.7349999999997, 5.904, 15.696000000000002, 6.096, 41.568000000000005, 230.28000000000003, 18.288, 5.78, 121.67999999999999, 4.17, 67.04, 37.32, 18.45, 25.92, 11199.968, 2399.6, 63.9, 52.99, 60.864000000000004, 652.9950000000001, 11.220000000000002, 14.940000000000001, 39.96, 42.624, 220.96, 4.928000000000001, 7.230000000000002, 323.1, 19.04, 13.128, 64.14, 858.24, 29.99, 186.048, 36.792, 18.624000000000002, 57.69, 42.81, 12.96, 821.8799999999999, 104.85000000000001, 424.9574999999999, 10.776000000000002, 11.784, 164.88, 1292.94, 25.584000000000003, 261.74, 14.399999999999999, 10.86, 883.84, 1979.89, 79.96, 8.76, 3.9840000000000004, 370.62, 2.7420000000000004, 79.51200000000001, 28.352, 40.784, 105.96, 166.44, 785.8799999999999, 26.2, 1325.8500000000001, 166.44, 8.76, 43.584, 11.088000000000003, 25.164, 14.399999999999999, 619.9499999999999, 89.52, 350.97300000000007, 164.99, 312.552, 95.952, 3.204, 3.979999999999999, 15.700000000000001, 5.248, 5.346000000000002, 15.48, 108.576, 109.9, 15.384, 30.352, 821.3, 22638.48, 21.376, 8.016, 30.768, 18.936, 122.352, 116.28, 132.60000000000002, 16.68, 19.44, 192.16, 227.35999999999999, 1919.976, 12.828000000000001, 45.888000000000005, 60.12, 302.376, 13.899999999999999, 129.98, 71.98, 377.96999999999997, 124.36, 23.976000000000003, 8.376000000000001, 58.24000000000001, 81.19999999999999, 14.450000000000001, 95.64800000000001, 359.97, 350.352, 1.6410000000000002, 629.958, 6.63, 799.96, 107.53, 73.98, 5.58, 49.12, 377.96999999999997, 42.28, 299.96999999999997, 89.98, 477.24, 25.98, 46.72, 35.34, 257.64, 125.97600000000001, 79.992, 700.056, 27.168000000000003, 8.226, 585.552, 423.28, 225.29600000000002, 5.56, 323.37, 783.9600000000002, 1447.6499999999999, 11.96, 239.96999999999997, 76.92, 481.32, 48.4, 0.99, 101.84, 10.332000000000003, 31.155000000000005, 8.928, 34.384, 1924.1599999999999, 32.19199999999999, 50.120000000000005, 47.976, 54.5, 19.104, 49.44, 10.368000000000002, 154.44, 60.98400000000001, 195.466, 23.680000000000003, 2.3760000000000003, 59.2, 22.0, 257.98, 23.987999999999996, 23.976, 601.536, 7.9, 58.36, 16.464, 39.96000000000001, 25.96, 36.269999999999996, 6.48, 1075.088, 438.36800000000005, 18.088, 308.499, 13.36, 39.96, 145.85000000000002, 783.9600000000002, 7.88, 41.37, 12.84, 25.68, 47.51599999999999, 9.42, 12.96, 704.9, 561.5680000000001, 179.82, 185.57999999999998, 214.11, 999.96, 653.55, 114.60000000000001, 60.74, 124.36, 1088.76, 6.720000000000001, 298.776, 302.376, 8.928, 47.584, 33.792, 300.53279999999995, 2.7239999999999993, 3.2640000000000002, 108.33600000000001, 55.92, 78.304, 443.92, 155.976, 15.469999999999999, 7.16, 10.89, 19.44, 121.6, 695.7, 120.33, 1139.92, 229.544, 143.728, 36.048, 845.4879999999999, 50.94, 762.5939999999998, 56.28, 2690.9700000000003, 7.434000000000001, 64.784, 28.16, 14.98, 20.32, 40.29, 20.23, 1603.1360000000002, 225.29600000000002, 67.8, 377.96999999999997, 1628.82, 286.93, 20.736000000000004, 31.44, 83.79, 59.519999999999996, 31.92, 14.720000000000002, 38.976, 17.088, 74.352, 314.352, 4.26, 811.28, 6.029999999999999, 153.568, 1013.4879999999999, 52.34, 4.66, 254.96999999999997, 25.44, 27.93, 8.849999999999998, 6.96, 17.456, 307.92, 6.63, 12.96, 32.400000000000006, 23.849999999999998, 51.96, 17.94, 11.56, 26.400000000000002, 69.08, 35.88, 49.65, 959.9680000000001, 408.422, 479.98400000000004, 12.6, 184.66, 23.120000000000005, 37.464, 539.658, 310.12, 8.56, 52.400000000000006, 14.940000000000001, 11.22, 387.136, 41.4, 35.0, 39.55200000000001, 135.72, 12.56, 263.96, 5.952000000000001, 15.8, 14.368000000000002, 70.44800000000001, 129.3, 3.881999999999999, 6.08, 19.9, 70.71, 18.84, 8.64, 1633.1880000000003, 19.76, 6.6080000000000005, 7.28, 144.784, 156.79200000000003, 431.97600000000006, 35.89, 47.208, 248.07999999999998, 189.7, 59.80800000000001, 90.99, 1526.5600000000002, 368.96999999999997, 305.01, 18.7, 38.29, 26.25, 64.96, 43.7, 41.6, 23.120000000000005, 113.88800000000002, 113.56800000000001, 7.920000000000001, 671.984, 39.99, 191.64600000000002, 2.313, 19.936000000000003, 45.92, 20.34, 39.28, 81.568, 97.18400000000001, 24.320000000000004, 18.96, 32.952000000000005, 30.016000000000005, 499.58400000000006, 31.104000000000006, 13.272000000000002, 28.272000000000006, 259.136, 10.8, 244.00599999999997, 15.936000000000002, 188.55199999999996, 22.58, 545.9399999999999, 20.736000000000004, 43.296, 123.136, 11.264000000000001, 53.42400000000001, 275.49, 24.96, 19.36, 1267.6499999999999, 12.99, 18.56, 449.15, 31.248000000000005, 61.44, 895.92, 55.36000000000001, 55.92, 24.896, 3.9840000000000004, 95.968, 206.99100000000004, 44.416000000000004, 9.006000000000002, 19.0, 33.376, 207.48, 91.67999999999999, 904.9, 34.272, 191.82, 243.88000000000002, 12.030000000000001, 2549.9850000000006, 21.594000000000005, 8.964000000000002, 20.736000000000004, 344.22, 727.296, 22.608, 666.4, 5.04, 92.94, 66.69, 91.68, 327.73279999999994, 52.272000000000006, 17.94, 254.35200000000003, 8.288, 504.90000000000003, 403.168, 194.32, 25.99, 195.136, 20.736000000000004, 53.699999999999996, 36.26, 56.3, 32.400000000000006, 29.16, 171.288, 16.72, 12.96, 22.18, 2054.2720000000004, 1022.97, 13.899999999999999, 26.38, 43.176, 411.8, 360.0, 41.96, 227.84, 37.94, 517.9, 5.28, 2799.9600000000005, 8.96, 31.5, 30.56, 24.368000000000002, 119.97600000000001, 26.880000000000003, 83.97, 104.97, 90.8, 140.736, 214.95000000000002, 45.36, 288.24, 663.936, 2934.33, 124.41, 57.75, 114.46, 120.666, 342.86400000000003, 16.74, 981.372, 31.84, 12.96, 43.176, 58.34, 539.97, 3.9280000000000004, 252.78399999999996, 127.984, 3.9840000000000004, 12.991999999999996, 61.0, 671.93, 447.85999999999996, 479.95, 166.44, 31.680000000000003, 10.368000000000002, 12.032, 5.767999999999999, 33.12, 220.26559999999998, 10.776000000000002, 242.35200000000003, 695.16, 220.98, 12.957, 25.68, 15.712000000000002, 298.464, 21.93, 242.94, 7.64, 51.84, 265.17, 837.5999999999999, 135.9, 34.68, 532.7040000000001, 43.099999999999994, 15.88, 1123.92, 249.58400000000003, 48.672, 60.768, 78.60000000000001, 3.7680000000000007, 1036.624, 563.808, 258.52799999999996, 49.12, 44.46, 241.56799999999998, 395.0, 627.1680000000001, 13.28, 12.672, 30.55999999999999, 77.952, 67.992, 12.224, 44.784, 22.848, 206.43, 210.39199999999997, 119.96000000000001, 10.608, 347.802, 963.1360000000001, 88.77600000000001, 32.400000000000006, 32.400000000000006, 31.049999999999997, 2025.3600000000001, 1799.9940000000001, 101.98799999999999, 262.864, 735.98, 93.024, 284.364, 26.0, 67.64, 119.97600000000001, 5.179999999999999, 15.56, 78.35, 59.519999999999996, 38.52, 239.98400000000004, 19.35, 67.0, 390.272, 62.19200000000001, 23.88, 3.1679999999999993, 528.43, 13.392000000000001, 181.86, 180.58800000000005, 47.984, 18.76, 20.94, 58.68, 254.89999999999998, 9.64, 826.6200000000001, 1633.14, 544.38, 26.045999999999992, 74.352, 69.93, 3.75, 20.928, 12.672, 65.99, 6.369999999999998, 3.6479999999999992, 31.104000000000006, 23.34, 29.97, 3.366000000000001, 95.968, 18.704, 149.232, 15.936000000000002, 601.536, 10.99, 39.88, 62.24, 53.2, 39.84, 349.95, 377.92800000000005, 13.392000000000001, 11.227999999999998, 207.24, 1.504, 34.848000000000006, 75.17999999999999, 149.97, 931.1760000000002, 430.88, 94.85, 51.12, 90.0, 9.408, 4.672, 318.40000000000003, 12.768, 15.36, 230.376, 7.16, 375.34, 114.9, 26.045999999999992, 2.8959999999999995, 32.544000000000004, 3.9840000000000004, 181.79699999999997, 44.94, 45.576, 318.43, 122.91999999999999, 7.068, 56.449999999999996, 13.467999999999998, 219.80000000000004, 317.058, 49.08, 324.90000000000003, 18.240000000000002, 113.88800000000002, 105.584, 24.849999999999998, 60.312, 7.055999999999999, 27.183999999999997, 107.984, 19.296, 4.608, 79.97399999999999, 2.9460000000000006, 3.1359999999999992, 20.736000000000004, 99.98, 733.9499999999999, 241.44, 10.08, 281.904, 201.43200000000002, 135.98, 44.95, 2.9699999999999998, 6.540000000000001, 7.92, 203.92, 3359.952, 18.240000000000002, 27.78, 22.959999999999997, 28.99, 12.96, 22.959999999999997, 4164.049999999999, 47.984, 4.6240000000000006, 15.24, 63.92400000000001, 6.56, 13.11, 494.3760000000001, 29.2, 248.85000000000002, 36.24, 11.68, 11.91, 3.48, 30.959999999999994, 1704.89, 19.194000000000003, 121.79200000000002, 1919.976, 50.99700000000001, 76.792, 539.9639999999999, 60.312, 1.9440000000000004, 12.984000000000002, 217.58400000000003, 328.77600000000007, 2.2859999999999996, 47.984, 25.344, 232.40000000000003, 86.45, 603.92, 81.98, 271.764, 14.376000000000001, 341.96, 181.35, 8.64, 43.512, 662.88, 25.920000000000005, 68.94, 128.82, 896.9899999999998, 1.2339999999999998, 67.56, 21.720000000000002, 262.336, 148.48, 241.176, 227.976, 52.67999999999999, 2.032, 17.12, 431.9680000000001, 129.92, 568.7280000000001, 117.144, 203.52, 51.75, 122.97, 244.61499999999998, 59.97, 81.54, 11.68, 29.0, 50.8, 16.029999999999998, 15.712000000000002, 89.97, 435.999, 83.98400000000001, 359.98, 70.55999999999999, 20.88, 3.81, 73.008, 3.2079999999999993, 26.176000000000002, 30.44, 35.28, 19.44, 37.88, 9.552, 290.666, 10.368000000000002, 14.352000000000002, 141.96, 66.048, 1287.45, 25.824, 160.96, 28.44, 364.41, 39.96, 361.764, 111.67200000000001, 13.775999999999996, 10.272000000000002, 24.048000000000002, 2.8960000000000004, 17.94, 384.174, 1799.75, 580.672, 18.936, 222.38400000000001, 50.454000000000015, 154.764, 6.848000000000001, 1091.1680000000001, 219.168, 6.927999999999998, 40.032000000000004, 443.92, 169.99, 25.92, 36.99, 629.0999999999999, 193.95000000000002, 5.46, 22.288, 65.424, 77.88, 281.37199999999996, 281.37199999999996, 7.488000000000001, 22.336000000000002, 10.368000000000002, 65.78999999999999, 271.98400000000004, 11.76, 77.52, 48.64, 1.81, 8.26, 43.56000000000001, 5.84, 271.764, 262.24, 182.72, 131.6, 22.72, 558.4, 15.24, 1408.1, 32.896, 215.148, 30.96, 29.79, 128.9, 60.12, 24.816000000000003, 14.976000000000003, 15.079999999999998, 24.288, 16.192, 251.00599999999997, 54.192, 4.304, 108.92, 16.740000000000002, 2504.74, 84.784, 29.900000000000002, 70.88, 3.76, 27.264, 56.65, 14.97, 4.02, 471.92, 58.72, 5.16, 16.496000000000002, 71.976, 22.512000000000004, 3.444000000000001, 538.1940000000001, 47.984, 492.76800000000003, 286.78999999999996, 5.08, 47.992000000000004, 61.96, 361.96, 278.82, 133.38, 47.952000000000005, 16.74, 10.848, 18.544, 180.98, 99.98, 34.95, 152.0, 92.52, 8.56, 45.36, 1421.6640000000002, 8.96, 579.9499999999999, 29.12, 1202.94, 7.92, 36.192, 147.184, 408.422, 382.116, 68.6, 435.504, 11.168000000000001, 72.0, 655.9000000000001, 603.92, 513.024, 487.91999999999996, 15.24, 209.96999999999997, 62.94, 25.919999999999998, 10.368000000000002, 95.736, 900.08, 201.584, 3.3919999999999995, 193.0656, 15.552000000000003, 11.648000000000001, 418.8, 509.48800000000006, 825.174, 17.76, 6.911999999999999, 66.30000000000001, 30.816000000000003, 44.784, 569.536, 796.4250000000001, 12.832, 40.46, 404.93999999999994, 116.0, 657.5520000000001, 599.97, 38.97, 45.84, 38.24, 87.168, 21.400000000000002, 54.900000000000006, 287.968, 13.12, 10.75, 11.62, 40.74, 83.25, 9.45, 20.65, 45.36, 5.352, 99.372, 2.672, 28.672000000000004, 29.311999999999994, 105.98, 35.06, 33.94, 30.0, 45.528, 844.1159999999999, 812.736, 7.476000000000002, 330.4, 604.752, 45.36, 10.128, 21.792, 439.8, 8.256, 25.560000000000002, 4.368000000000001, 11.520000000000001, 12.96, 3.96, 1577.94, 15.008000000000003, 59.98, 2395.2000000000003, 1687.8, 7.992000000000001, 5.184000000000001, 11.68, 104.80000000000001, 14.496000000000002, 4.784000000000001, 4.73, 7.89, 65.5, 2430.08, 104.85, 3.9, 801.96, 191.96, 2.61, 5.96, 1169.694, 1665.62, 2.88, 1443.96, 2.92, 465.18, 22.428000000000004, 37.52000000000001, 2.624, 15.552000000000003, 64.70400000000001, 17.472, 135.516, 431.92800000000005, 12.448, 657.93, 277.4, 25.16, 91.92, 29.339999999999996, 139.44, 6.911999999999999, 27.096, 177.568, 58.416, 16.448, 36.784, 718.1159999999999, 31.776, 9.555000000000001, 487.98400000000004, 5.5600000000000005, 217.85, 40.775999999999996, 63.93600000000001, 142.4, 7.16, 681.4080000000001, 3.52, 5.58, 36.32, 2060.744, 52.272000000000006, 213.13600000000002, 69.52, 763.44, 9.216, 41.958, 89.568, 22.248, 334.88000000000005, 148.288, 4.6240000000000006, 178.92000000000002, 69.888, 487.98400000000004, 47.3, 4.13, 155.12, 6.48, 15.52, 2.9460000000000006, 55.104000000000006, 104.88, 34.7, 33.72, 14.940000000000001, 638.73, 113.56800000000001, 9.096, 8.688, 30.880000000000003, 6.408, 33.8, 377.96999999999997, 258.9, 24.56, 27.888, 6.456, 52.67999999999999, 13.88, 103.92000000000002, 11.52, 10.368000000000002, 39.072, 8.872, 121.10400000000003, 127.372, 47.952000000000005, 44.46, 15.8, 464.97, 181.96, 12.39, 84.09, 79.36, 153.35999999999999, 43.68, 98.21, 9.84, 2.6940000000000004, 25.344, 43.92, 59.99400000000001, 439.992, 87.96, 15.488, 232.96, 66.53999999999999, 43.26, 141.96, 79.4, 163.96, 37.93, 15.168000000000001, 24.78, 19.14, 899.97, 32.400000000000006, 23.832, 6.368, 34.175999999999995, 5.5440000000000005, 510.24, 204.95000000000002, 11.54, 162.60000000000002, 45.68, 603.92, 23.55, 5.04, 249.95000000000002, 33.4, 18.92, 15.42, 35.712, 551.9850000000001, 7.055999999999999, 18.72, 360.38, 11.16, 14.940000000000001, 41.96, 636.86, 499.99, 1259.93, 65.08, 26.38, 71.97, 129.98, 32.54, 10.9, 59.98, 61.929, 16.52, 60.12, 49.536, 11.850000000000001, 118.25, 368.96999999999997, 198.46, 321.92, 879.984, 28.4, 230.28000000000003, 116.28, 841.5680000000001, 354.90000000000003, 42.784, 563.4299999999998, 111.104, 11.68, 16.9, 24.4, 87.6, 241.96, 8.52, 1.7879999999999996, 99.372, 1.344, 119.96000000000001, 1013.8320000000001, 1.984, 2003.52, 82.368, 62.91, 6.911999999999999, 383.97600000000006, 10.368000000000002, 335.944, 665.88, 71.976, 37.94, 273.96, 269.98199999999997, 8.904, 720.0640000000001, 41.42400000000001, 3.132, 1085.42, 3.912, 62.376000000000005, 29.049999999999997, 180.96000000000004, 4.4190000000000005, 16.032, 29.79, 57.23, 333.0, 36.44, 251.64, 523.764, 1359.96, 102.59200000000001, 22.704, 93.024, 12.768, 35.008, 39.152, 11.76, 5.238000000000001, 4.662, 523.92, 100.792, 146.13600000000002, 25.06, 19.824, 823.9600000000002, 15.984000000000002, 801.96, 59.97, 1056.86, 12.816, 314.352, 18.98, 18.240000000000002, 991.1999999999999, 879.984, 12.96, 107.44, 1458.65, 26.64, 476.8, 87.444, 76.14, 19.96, 1049.97, 611.058, 2.368, 19.008000000000003, 911.984, 674.3520000000001, 134.01, 170.97, 170.35200000000003, 7.184000000000001, 6.28, 480.74, 616.998, 141.4, 501.81000000000006, 691.96, 34.95, 85.96, 85.3, 33.56799999999999, 4.95, 26.400000000000002, 3.563999999999999, 823.9600000000002, 10.272000000000002, 447.94399999999996, 480.96, 124.79200000000002, 40.176, 10.896, 10.64, 151.96, 238.0, 155.34, 148.32, 240.78400000000002, 191.96800000000002, 11.56, 11.8, 842.3520000000001, 23.472, 86.058, 108.78399999999999, 10.272000000000002, 38.19000000000001, 49.632000000000005, 52.096000000000004, 9.568000000000001, 82.368, 364.70400000000006, 40.256, 4.368, 12.127999999999997, 134.85000000000002, 8.56, 239.96999999999997, 356.94, 659.9, 1684.7520000000002, 559.92, 279.944, 9.979999999999997, 48.9, 3.5519999999999996, 15.552000000000003, 2.368, 127.984, 10.368000000000002, 47.984, 270.34, 98.112, 563.808, 10.428, 547.136, 14.850000000000001, 41.988, 7.5840000000000005, 352.45, 470.3760000000001, 19.44, 9.82, 801.5999999999999, 161.568, 16.096, 7.656000000000001, 311.97600000000006, 61.68, 63.96, 359.97600000000006, 25.344, 26.720000000000002, 30.28, 57.92999999999999, 35.34, 137.24, 241.332, 5.184000000000001, 145.544, 5.4719999999999995, 47.984, 9.399999999999999, 74.0, 201.584, 28.752000000000002, 27.216, 197.37199999999999, 1424.9, 14.56, 3.048, 25.920000000000005, 835.1700000000001, 17.34, 44.384, 2.9440000000000004, 6.368, 48.848000000000006, 19.648, 255.108, 17.248, 159.984, 12.7, 5.47, 79.36, 22.14, 11.277000000000001, 4.4479999999999995, 44.76, 38.28, 149.95, 12.84, 44.67, 7.872, 7.872, 88.04, 40.63500000000001, 5.727999999999999, 42.24, 53.82000000000001, 79.36, 13.48, 29.800000000000004, 414.0, 41.328, 39.92, 8.94, 84.784, 53.315999999999995, 56.519999999999996, 22.77, 287.968, 2799.9600000000005, 48.94, 257.499, 2591.56, 41.95, 79.12, 52.96, 286.34400000000005, 63.55200000000001, 41.376, 172.704, 512.9399999999999, 860.93, 769.95, 14.98, 373.08, 231.92000000000002, 63.47, 345.0, 637.896, 287.90999999999997, 36.6, 1.78, 25.92, 101.94, 6.848000000000001, 474.43, 8.448, 39.296, 17.12, 542.9399999999999, 8.64, 193.79999999999998, 21.400000000000002, 97.88, 251.91, 25.86, 170.058, 82.78200000000001, 853.9299999999998, 556.665, 95.84, 29.664, 9.184000000000001, 153.584, 12.863999999999995, 479.97, 232.88, 236.88, 29.900000000000002, 100.0, 18.693, 383.952, 24.816000000000003, 24.900000000000002, 21.12, 767.9520000000001, 14.352000000000002, 191.976, 274.77, 70.56, 204.85, 9.155999999999997, 23.991999999999994, 80.88, 599.9, 276.69, 172.764, 4.224, 409.272, 55.44, 20.928, 1801.632, 67.17599999999999, 646.2, 72.74400000000001, 572.1600000000001, 68.112, 25.031999999999996, 39.992000000000004, 20.016, 3.104, 7.52, 10.272000000000002, 47.80800000000001, 978.8399999999999, 13.139999999999997, 10.023999999999997, 156.37279999999998, 999.98, 821.94, 220.064, 339.136, 7.04, 5.04, 116.28, 47.976, 60.048, 5.022, 182.99399999999997, 10.272000000000002, 7.857000000000002, 302.384, 20.952, 11.784, 638.82, 20.7, 10.95, 14.352000000000002, 221.024, 3080.0, 79.96, 587.97, 32.400000000000006, 404.90000000000003, 9449.95, 12.94, 2.2639999999999993, 0.44399999999999995, 146.17600000000002, 15.92, 159.96000000000004, 13.76, 4.3119999999999985, 13.96, 27.414, 73.98, 160.98, 17.34, 3.28, 8.856, 158.376, 1219.96, 3.168, 19.44, 454.86, 91.392, 19.040000000000003, 37.44, 37.589999999999996, 26.032, 35.910000000000004, 91.03200000000001, 54.66, 67.344, 2624.985, 73.28, 14.479999999999997, 11.952000000000002, 15.552000000000003, 45.0, 209.96999999999997, 112.12000000000002, 1575.14, 25.060000000000002, 6.923999999999998, 37.392, 79.12, 18.9, 57.42, 12.74, 8.82, 120.78399999999999, 322.59000000000003, 9.761999999999997, 13.719999999999999, 55.2, 259.136, 29.24, 15.552000000000003, 4.896000000000001, 38.088, 2.8080000000000007, 47.984, 26.064000000000007, 15.696000000000002, 12.84, 539.97, 22.58, 16.52, 671.9399999999999, 169.06400000000002, 168.624, 19.44, 31.92, 433.56800000000004, 31.104000000000006, 54.816, 48.86, 14.2, 12.96, 58.34, 56.3, 629.9499999999999, 122.97, 46.349999999999994, 14.976, 4.239999999999999, 319.96, 17.04, 344.90999999999997, 81.94, 98.16, 6.873999999999999, 1.9959999999999996, 8.928, 9.99, 10499.97, 21.12, 696.42, 304.776, 51.98, 24.700000000000003, 21.93, 394.81600000000003, 18.192000000000004, 7.31, 799.984, 41.28, 184.66, 49.25, 10.16, 14.76, 34.08, 17.669999999999998, 1604.9, 385.686, 15.984000000000002, 9.42, 6.56, 24.56, 128.39999999999998, 62.28, 9.24, 482.664, 4799.9839999999995, 37.94, 18.288, 385.80000000000007, 102.96, 174.42000000000002, 1.9639999999999995, 94.428, 45.92, 61.584, 22.48, 332.028, 11.393999999999998, 15.552000000000003, 31.104000000000006, 6.315999999999998, 11.352000000000002, 20.808000000000003, 11.415999999999997, 9.408000000000001, 19.83, 209.7, 43.92, 20.232, 149.97, 27.81, 66.30000000000001, 1.64, 1049.2, 20.9, 88.08, 751.92, 887.103, 55.944, 10.688, 11.824, 63.312, 96.78399999999998, 10.476, 9.762, 196.784, 47.98, 13.049999999999999, 63.96, 80.48, 11.673000000000002, 863.1279999999999, 3.563999999999999, 956.6647999999999, 12.587999999999997, 171.96, 871.4, 692.472, 207.76, 71.92800000000001, 25.99, 3.5920000000000005, 48.63199999999999, 323.1, 9099.93, 9.96, 25.299999999999997, 11.36, 69.264, 3.69, 1103.97, 246.13279999999997, 11.696, 439.992, 64.784, 33.279999999999994, 14.088000000000001, 11.16, 896.328, 189.0, 53.982, 177.225, 129.39000000000001, 54.32, 4367.896000000001, 49.568000000000005, 161.376, 2.7840000000000003, 8.72, 3.912, 59.751999999999995, 63.92, 383.96000000000004, 7.752000000000001, 33.568000000000005, 666.344, 573.728, 21.936000000000003, 19.44, 447.9680000000001, 16.78, 20.96, 88.752, 304.23, 167.86, 82.38, 23.976000000000003, 33.29, 14.952000000000004, 323.98199999999997, 2.2860000000000005, 14.352000000000002, 71.976, 9.209999999999999, 18.0, 42.92999999999999, 15.552000000000003, 17.92, 19.99, 22.92, 50.88, 27.312, 7.920000000000001, 14.368000000000002, 107.97, 113.82, 5.184000000000001, 16.28, 544.38, 19.824, 657.504, 99.54, 199.96, 631.782, 60.72, 20.724000000000004, 415.87200000000007, 16.768, 27.12, 95.84, 12.96, 19.008000000000003, 1598.0580000000002, 36.96, 10.368000000000002, 77.72000000000001, 520.4639999999999, 111.96, 29.160000000000004, 131.94, 25.92, 704.76, 7.41, 21.5, 10.528, 20.544000000000004, 104.9, 39.68, 51.75, 11.68, 159.75, 103.96799999999999, 303.25, 270.71999999999997, 1487.04, 17.48, 71.88, 60.449999999999996, 253.176, 2.879999999999999, 384.94399999999996, 153.584, 913.4300000000001, 43.92, 25.031999999999996, 46.76, 183.96800000000002, 1259.97, 68.97, 70.368, 59.96000000000001, 25.983999999999998, 27.360000000000003, 361.37600000000003, 172.18599999999998, 69.00800000000001, 199.89999999999998, 901.9499999999999, 971.5, 11.328000000000001, 21.240000000000002, 34.800000000000004, 38.976, 9.08, 314.54999999999995, 4.91, 5.78, 107.94, 19.65, 617.97, 59.699999999999996, 387.99, 575.92, 30.4, 478.24, 190.848, 5.484000000000001, 40.92, 15.552000000000003, 17.24, 302.94, 34.75, 113.94, 55.98, 27.18, 1805.88, 70.94999999999999, 20.0, 7.98, 24.1, 8.75, 842.94, 2.1819999999999995, 27.384, 26.40599999999999, 10.368000000000002, 23.680000000000003, 109.95, 965.8499999999999, 29.2, 32.400000000000006, 78.35, 31.68, 29.12, 169.45, 12.56, 6.48, 186.69, 25.4, 43.96, 1279.165, 27.92, 129.568, 6.368, 244.54999999999998, 1332.496, 32.776, 147.184, 54.38400000000001, 76.77600000000001, 14.352000000000002, 209.79200000000003, 3.3040000000000003, 16.38, 167.96, 321.568, 12.96, 128.058, 63.686, 239.976, 344.22, 15.552000000000003, 21.248, 8.448, 333.09000000000003, 248.98, 24.900000000000002, 15.260000000000002, 43.32, 43.584, 116.28, 9.296, 19.44, 314.54999999999995, 16.269999999999996, 69.12, 4.469999999999999, 418.29599999999994, 659.9879999999999, 8.128, 36.28800000000001, 909.7199999999998, 917.9234999999999, 38.88, 631.1760000000002, 12.96, 12.96, 23.2, 25.920000000000005, 21.312000000000005, 173.65600000000003, 361.96, 62.849999999999994, 818.3760000000001, 20.34, 23.99, 171.288, 37.3, 81.96, 54.79200000000001, 10.784, 290.98, 36.44, 21.400000000000002, 48.664, 16.56, 1347.5200000000002, 62.31, 20.32, 9.432, 34.86, 89.34, 269.98, 99.9, 39.08, 116.832, 2.2959999999999994, 408.006, 40.44, 122.352, 15.28, 11.96, 15.84, 86.376, 18.240000000000002, 13.12, 105.98, 493.9199999999999, 5.935999999999999, 325.86, 383.60699999999997, 148.48, 537.544, 1.9279999999999997, 6.911999999999999, 7.76, 659.1680000000001, 5.76, 351.216, 230.28000000000003, 12.84, 56.82000000000001, 31.56, 27.92, 8.559000000000001, 49.568000000000005, 127.869, 271.44, 110.352, 36.4, 419.13599999999997, 100.70400000000001, 45.216, 28.782000000000004, 24.448, 10.475999999999999, 76.14, 21.240000000000002, 127.96, 479.98400000000004, 657.93, 33.48, 13.899999999999999, 26.86, 9.584000000000001, 113.10000000000001, 65.78, 239.70000000000002, 25.632, 23.616, 8.26, 76.58, 8.8, 590.352, 5.58, 25.02, 452.55000000000007, 17.76, 302.384, 146.352, 7.9, 902.712, 53.97, 33.92, 21.81, 91.6, 150.98, 137.25, 11.52, 18.272000000000002, 153.728, 12.224, 167.94400000000002, 45.99, 535.41, 6.096, 45.36, 47.12, 31.36, 47.616, 23.480000000000004, 62.78999999999999, 28.44, 134.376, 589.9, 542.9399999999999, 2879.952, 90.48000000000002, 77.55, 8.832, 177.536, 258.48, 14.136, 77.55, 24.88, 140.75, 36.63, 17.14, 51.75, 123.96000000000001, 586.398, 80.98, 242.94, 123.92, 12.39, 47.3, 1599.92, 11.09, 3.1680000000000006, 579.136, 6.368, 558.4, 145.764, 13.620000000000001, 434.646, 440.18999999999994, 64.4, 244.54999999999998, 195.76, 11.76, 166.45, 2.88, 45.248000000000005, 59.903999999999996, 23.696, 7.968000000000001, 18.2, 27.552000000000003, 844.1159999999999, 76.75200000000001, 3.0, 7.506, 16.56, 79.92, 69.98, 11.059999999999999, 623.4648, 772.6800000000001, 283.14000000000004, 635.96, 118.99, 272.94, 15.008000000000003, 33.088, 80.98, 82.80000000000001, 21.36, 62.048, 29.61, 863.928, 241.92, 163.88, 3.486, 10.584, 440.91, 5.715000000000002, 51.967999999999996, 71.976, 242.35200000000003, 221.92000000000002, 8.448, 29.52, 302.94, 142.36, 546.66, 212.13, 5.248, 74.416, 6.848000000000001, 7.9959999999999996, 8.711999999999998, 65.17, 14.62, 173.24, 895.92, 130.71, 11.68, 62.31, 0.8520000000000001, 36.28800000000001, 56.568, 344.704, 201.584, 521.96, 8.22, 45.36, 947.1700000000001, 61.96, 268.935, 7.58, 14.73, 9.888000000000002, 671.5440000000001, 1117.92, 275.952, 123.14399999999999, 15.576, 212.64, 9.870000000000001, 53.25, 19.919999999999998, 658.746, 8.26, 29.84, 67.98, 61.06, 35.544000000000004, 9.96, 9.209999999999999, 27.93, 7.9, 221.16, 127.96, 18.69, 25.349999999999998, 35.28, 33.4, 837.5999999999999, 40.68, 209.56799999999998, 22.368000000000002, 3.8820000000000006, 115.296, 1.9080000000000004, 43.37199999999999, 783.96, 48.896, 7.856000000000001, 5.904, 13.712000000000002, 182.94, 27.76, 25.99, 113.52000000000001, 359.88, 25.344, 11.952000000000002, 6.24, 742.336, 6.464, 11.52, 222.38400000000001, 23.36, 8.67, 25.71, 100.94, 63.882000000000005, 683.1439999999999, 1.4759999999999995, 40.711999999999996, 279.9, 13.120000000000001, 69.57600000000001, 4.224, 58.08, 52.416000000000004, 54.92000000000001, 364.95, 85.056, 27.695999999999998, 24.96, 43.13, 5.64, 57.58200000000001, 31.104000000000006, 30.192, 43.6, 4.768, 10.380000000000003, 13.392000000000003, 39.593999999999994, 91.00800000000001, 37.94, 42.800000000000004, 33.63, 62.80800000000001, 195.64, 239.9, 380.05799999999994, 1199.9759999999999, 48.576, 17.94, 18.264000000000003, 34.656, 81.552, 227.13600000000002, 10.36, 463.2479999999999, 383.952, 44.85600000000001, 30.345000000000006, 127.554, 77.952, 14.016, 69.52, 5.64, 13.776000000000002, 245.88, 36.63, 22.58, 12.39, 39.92, 61.96, 19.936000000000003, 3.7980000000000005, 27.744000000000003, 158.37599999999998, 27.58, 5.553000000000001, 243.92, 14.96, 7.184000000000001, 10.512, 263.96000000000004, 71.632, 9.328000000000001, 5.88, 975.92, 303.84, 485.88, 12.54, 8.94, 9.24, 70.00800000000001, 77.6, 464.84999999999997, 10.192000000000002, 1793.98, 758.3520000000001, 20.368000000000002, 49.848, 239.96999999999997, 2404.704, 563.024, 344.90999999999997, 8.64, 89.98799999999999, 229.544, 1.8239999999999998, 18.319999999999997, 48.816, 1.1879999999999997, 119.80000000000001, 61.568, 6.192, 2.2140000000000004, 5.32, 975.92, 2249.91, 59.92, 171.20000000000002, 3.36, 114.2, 182.67000000000002, 101.69999999999999, 1126.02, 1263.3000000000002, 8.82, 37.94, 4.2, 227.28, 47.9, 61.96, 1117.92, 183.37199999999999, 7.968000000000001, 26.352000000000004, 481.32, 13.98, 25.92, 91.59, 674.058, 22.92, 269.9, 11.808000000000002, 9.588, 18.336, 36.28800000000001, 111.984, 5.970000000000001, 2.508, 35.96, 14.952000000000002, 67.144, 254.058, 173.94, 231.98, 2.2959999999999994, 96.08, 3.62, 629.0999999999999, 90.48, 14.88, 91.275, 19.44, 897.1500000000001, 57.75, 14.940000000000001, 23.1, 12.536000000000001, 1.0800000000000003, 4.5120000000000005, 16.776000000000003, 33.74, 1325.8500000000001, 333.99899999999997, 19.9, 1268.82, 283.92, 5.68, 375.34, 96.08, 11.68, 4.36, 29.24, 117.48800000000001, 18.84, 12.419999999999998, 12.96, 69.48, 85.9, 18.060000000000002, 79.14, 37.4, 2.5119999999999996, 18.864, 61.192, 67.84, 48.712, 17.94, 242.94, 7.764000000000001, 467.03999999999996, 128.85000000000002, 8.4, 199.98, 110.98, 207.98400000000004, 36.112, 35.568000000000005, 88.768, 12.9, 717.1200000000001, 21.36, 6.688, 773.94, 20.568, 4.355999999999999, 19.040000000000003, 5.22, 84.84, 7.240000000000001, 14.399999999999999, 15.552000000000003, 1325.76, 3.108, 6.671999999999999, 689.408, 1889.9899999999998, 55.93600000000001, 18.432, 20.32, 52.064, 48.784, 13.092000000000002, 109.59200000000001, 56.7, 79.99, 69.5, 191.6, 10.56, 47.79, 714.3000000000001, 2321.9, 17.94, 9.522, 791.9639999999999, 4.923000000000001, 209.979, 33.93000000000001, 222.32000000000005, 210.56400000000002, 35.168000000000006, 1502.376, 10.11, 772.47, 20.46, 347.58, 72.64, 772.47, 39.92, 33.48, 461.97, 137.62, 302.67, 239.976, 8.34, 8.57, 119.61600000000001, 212.94, 26.49, 687.4, 653.55, 33.9, 239.96000000000004, 199.836, 716.0, 221.06, 67.71000000000001, 129.92, 467.46, 61.4, 720.76, 5.184000000000001, 14.7, 8.133999999999999, 79.98400000000001, 18.54, 24.400000000000002, 195.64, 398.40000000000003, 7.055999999999999, 1352.3975999999998, 26.400000000000002, 41.88, 99.846, 699.98, 584.82, 43.98, 377.96999999999997, 123.96000000000001, 391.98, 383.97600000000006, 1781.6819999999998, 21.400000000000002, 549.99, 167.535, 38.339999999999996, 53.88, 299.98, 62.8, 13.904, 744.0999999999999, 44.84000000000001, 401.59000000000003, 18.240000000000002, 359.49899999999997, 10.48, 20.736000000000004, 35.168, 64.70400000000001, 105.52, 5.791999999999999, 466.15799999999996, 10.312000000000001, 2.556, 7.968000000000001, 8.784, 3.024, 51.449999999999996, 14.015999999999996, 214.95000000000002, 35.04, 10.776000000000002, 4.599999999999999, 35.168, 19.152, 4.4479999999999995, 5.184000000000001, 15.552000000000003, 40.032000000000004, 16.776000000000003, 186.304, 66.36, 42.047999999999995, 67.92, 52.512, 186.912, 10.048000000000002, 17.496000000000002, 15.552000000000003, 10.776000000000002, 3.3040000000000003, 35.48, 34.44, 629.93, 79.05600000000001, 232.54999999999998, 99.98, 19.44, 12.96, 464.29200000000003, 68.46, 2799.96, 601.3, 16.99, 287.96999999999997, 44.82000000000001, 101.12, 107.97600000000001, 58.730000000000004, 93.34400000000001, 17.05, 8.096, 30.36, 23.34, 51.550000000000004, 119.9, 1317.492, 63.84, 3.5920000000000005, 86.26, 139.04, 46.8, 8.544, 842.3760000000001, 1214.85, 67.78, 39.900000000000006, 2.688, 6.6000000000000005, 28.4, 212.94, 1001.5840000000001, 569.058, 14.224000000000002, 105.584, 68.72000000000001, 1367.84, 301.96, 170.35200000000003, 3.9, 12.84, 15.84, 563.9399999999999, 62.94, 535.41, 3504.9, 144.12, 314.54999999999995, 3.408, 2.0719999999999996, 328.39919999999995, 53.248000000000005, 4.992000000000001, 37.68, 258.576, 75.84, 45.36, 45.78, 40.29, 38.71, 1801.632, 748.7520000000001, 199.96, 1516.2, 167.95200000000003, 45.04, 23.16, 397.59999999999997, 85.96, 13.12, 45.660000000000004, 158.13, 43.6, 3930.072, 2.304, 431.97600000000006, 41.720000000000006, 104.23, 70.26, 9.26, 105.98, 1.24, 20.7, 28.900000000000002, 27.18, 465.18, 36.63, 51.449999999999996, 7.83, 35.4, 29.900000000000002, 17.48, 79.14, 8.4, 498.26000000000005, 212.94, 706.86, 114.94999999999999, 43.19, 166.44, 36.56, 186.144, 353.568, 81.98, 14.624000000000002, 697.16, 30.93, 27.496000000000002, 605.34, 210.008, 54.96, 164.22, 362.94, 59.98, 332.94, 39.87200000000001, 13.68, 3.3179999999999996, 10.44, 136.46400000000003, 333.576, 12.544, 20.767999999999997, 43.5, 12.576, 249.95000000000002, 49.12, 182.91, 107.64800000000001, 99.372, 33.568000000000005, 10.56, 38.88, 35.2, 45.528, 196.776, 2.9199999999999995, 200.79500000000002, 46.688, 21.864, 11.76, 167.94, 3.89, 52.44, 32.36, 406.59999999999997, 27.92, 399.672, 3.7440000000000007, 715.2, 159.8, 44.75, 340.116, 105.52, 13.48, 85.52, 6.16, 36.839999999999996, 15.84, 44.400000000000006, 21.240000000000002, 9.552000000000001, 89.99100000000001, 163.96, 17.904, 966.6999999999998, 182.112, 4.464, 51.588, 50.4, 89.568, 14.89, 543.92, 4.08, 18.9, 2275.5, 1979.6999999999998, 62.099999999999994, 37.296, 8.544, 68.94999999999999, 296.37, 39.98, 191.058, 13.040000000000001, 1525.1879999999996, 9.216, 28.048000000000002, 64.96, 30.56, 187.056, 11.808, 9.656, 20.736000000000004, 27.360000000000003, 2314.116, 34.236000000000004, 19.76, 15.96, 16.9, 25.08, 6.68, 19.44, 31.92, 33.568000000000005, 63.94, 60.60000000000001, 22.72, 10.68, 17.34, 3.38, 26.976, 307.776, 244.54999999999998, 12.24, 13.98, 899.95, 1.6320000000000001, 267.96, 31.95, 725.84, 10.896, 8.544, 32.339999999999996, 39.900000000000006, 143.85600000000002, 41.92, 329.58400000000006, 87.28, 279.456, 8.0, 27.240000000000002, 16.36, 15.78, 45.98, 198.27200000000002, 720.7600000000001, 70.56, 81.96, 64.864, 151.192, 88.77600000000001, 11.56, 15.58, 85.056, 273.96, 306.9, 15.552000000000003, 347.361, 10.368000000000002, 98.16, 31.44, 348.488, 172.736, 15.54, 105.55199999999999, 25.920000000000005, 15.808000000000002, 10.368000000000002, 358.2, 545.9159999999999, 40.410000000000004, 167.976, 109.53, 9.82, 26.352000000000004, 22.5, 9.96, 213.08, 1025.8799999999999, 21.98, 63.2, 39.0, 2.907, 556.665, 71.98, 79.98, 24.672, 3.7439999999999998, 445.96000000000004, 36.24, 10.649999999999999, 87.92, 22.424000000000003, 90.48000000000002, 42.76, 10.080000000000002, 101.34, 224.75, 73.17599999999997, 20.736000000000004, 39.984, 15.36, 36.28800000000001, 150.384, 280.78200000000004, 31.983999999999998, 11.232, 26.400000000000002, 3.52, 1649.95, 111.89999999999999, 599.165, 46.53, 31.983999999999998, 161.568, 4.064, 6.216, 8.895999999999999, 1640.6999999999998, 270.0, 19.52, 9.810000000000002, 213.216, 588.784, 2.064, 6.368, 99.6, 62.29600000000001, 10.709999999999999, 20.936000000000003, 33.0, 249.95000000000002, 357.93, 57.400000000000006, 331.96, 40.56, 86.19999999999999, 38.016000000000005, 8.384, 6.848000000000001, 19.6, 68.46, 13.343999999999998, 1478.272, 16.272000000000002, 9.24, 32.34, 56.064, 108.72, 181.47000000000003, 16.176000000000002, 122.352, 585.552, 19.44, 123.92000000000002, 13.360000000000001, 78.256, 102.01800000000001, 750.68, 44.400000000000006, 84.55, 17.94, 128.39999999999998, 1.8690000000000004, 103.19200000000001, 36.0, 239.96, 40.68, 419.13599999999997, 23.472, 3.591999999999999, 23.976000000000003, 6.264, 20.808, 218.35200000000003, 18.16, 7.36, 41.4, 411.332, 7.656000000000001, 63.92000000000001, 6.56, 7.83, 41.9, 664.146, 8.96, 3.312, 20.136000000000003, 8.856, 859.1999999999999, 61.96, 17.92, 145.9, 56.704, 11.120000000000001, 32.896, 22.776000000000003, 239.96999999999997, 160.32, 128.85000000000002, 1319.96, 239.95999999999998, 54.768, 13.392000000000001, 23.92, 255.968, 21.552000000000003, 58.24, 80.28, 9.78, 1.81, 37.94, 79.96, 115.296, 2479.96, 179.94, 26.849999999999998, 323.37, 59.94, 64.14, 11.67, 12.96, 17.43, 181.986, 1.5919999999999996, 22.344, 455.97, 10.440000000000001, 5.214, 67.4, 25.16, 126.56, 43.68, 139.92999999999998, 2.672, 16.656000000000002, 79.51200000000001, 36.28800000000001, 67.99319999999999, 10.16, 6.16, 56.3, 6.48, 1325.8500000000001, 14.940000000000001, 34.54, 2999.95, 64.12, 19.456000000000003, 209.986, 29.760000000000005, 89.768, 959.984, 15.552000000000003, 34.36000000000001, 98.376, 29.940000000000005, 17.472, 36.738, 179.93999999999997, 383.64, 56.519999999999996, 6.56, 243.92, 47.52, 19.98, 8.0, 6.16, 83.56, 546.0600000000001, 269.49, 10.9, 6.096, 34.05, 352.38, 245.98, 18.94, 59.91300000000001, 391.98, 437.84999999999997, 68.62, 25.02, 10.709999999999999, 55.98400000000001, 14.480000000000002, 142.488, 14.16, 79.92000000000002, 590.352, 17.088, 98.392, 11.05, 7.78, 659.9, 53.040000000000006, 843.9, 1496.16, 117.96, 21.299999999999997, 1040.8, 29.339999999999996, 19.52, 443.92, 499.95, 3.04, 201.96, 68.64, 100.0, 359.98, 6.16, 2348.82, 13.872000000000002, 273.552, 815.2919999999999, 234.45000000000002, 1256.22, 17.46, 10.528, 152.79999999999998, 82.56, 284.96999999999997, 60.84, 1325.76, 572.1600000000001, 28.8, 11.12, 7.04, 17.94, 34.76, 74.45, 192.22, 19.44, 32.400000000000006, 57.9, 10.56, 1194.165, 40.99, 2.94, 45.24000000000001, 18.688, 11.648000000000001, 112.77600000000001, 377.45, 15.936000000000002, 28.68, 21.44, 511.05600000000004, 18.656000000000002, 11.088000000000003, 66.688, 99.488, 14.62, 53.984, 389.97, 355.36, 140.376, 15.840000000000002, 8.448, 12.96, 57.40800000000001, 27.6, 38.976, 20.439999999999998, 109.92, 6.38, 6.48, 15.84, 1049.93, 154.9, 98.352, 14.320000000000002, 129.888, 48.944, 275.058, 27.36, 44.75, 134.99, 26.400000000000002, 542.9399999999999, 71.08800000000001, 27.395999999999997, 13.455999999999998, 11.840000000000002, 35.88, 40.752, 139.96000000000004, 2.624, 136.53, 263.96, 11.64, 40.176, 79.44, 357.93, 127.76400000000001, 2799.944, 19.44, 36.792, 5.9399999999999995, 177.54999999999998, 619.9499999999999, 29.160000000000004, 57.959999999999994, 29.403, 81.4, 8.72, 91.17600000000002, 159.96800000000002, 12.96, 331.536, 899.91, 946.344, 178.10999999999999, 1089.75, 61.06, 459.92, 27.52, 638.82, 30.69, 25.16, 13.919999999999998, 19.36, 19.3, 38.376000000000005, 12.96, 26.48, 532.72, 26.72, 20.04, 795.48, 21.560000000000002, 249.58400000000003, 68.112, 16.560000000000002, 74.95, 355.455, 44.400000000000006, 20.65, 866.4, 5.56, 3.1599999999999993, 1999.96, 46.152, 32.985, 481.32, 6.384, 542.9399999999999, 54.92, 1448.8200000000002, 353.88, 333.576, 60.144000000000005, 85.2, 3.15, 22.72, 14.91, 1158.12, 599.99, 23.968000000000004, 638.2880000000001, 13.208000000000002, 15.528, 104.85, 30.48, 112.64800000000001, 71.976, 2.21, 15.52, 36.44, 217.764, 39.072, 22.638, 95.14399999999999, 12.320000000000002, 4.4190000000000005, 35.0, 72.784, 97.84, 51.75, 46.672000000000004, 1395.54, 117.36, 18.9, 77.52, 421.372, 575.9680000000001, 10.368000000000002, 15.984000000000002, 10.272000000000002, 61.792, 205.99919999999997, 12.192, 87.168, 31.744, 132.22400000000002, 105.52, 91.96, 1487.976, 19.44, 11.672, 279.96, 12.912, 17.088, 93.14999999999999, 11.52, 238.62, 7.77, 285.48, 19.168000000000003, 26.136000000000003, 419.4, 90.801, 181.764, 5.56, 581.96, 29.98, 519.96, 6.264, 363.92, 64.2, 38.52, 72.6, 57.568, 83.69999999999999, 32.400000000000006, 47.98, 415.9680000000001, 304.9, 80.96, 777.21, 32.400000000000006, 225.56799999999998, 36.599999999999994, 715.64, 795.51, 549.99, 74.76, 29.22, 9.64, 33.48800000000001, 23.04, 1.3619999999999997, 14.76, 239.66599999999997, 301.96, 7.968000000000001, 109.92, 19.44, 11.16, 79.47, 4.56, 1133.35, 4.672, 104.58000000000001, 1603.1360000000002, 1293.4879999999998, 127.94999999999999, 59.76, 108.08, 9.540000000000001, 11.736, 447.85999999999996, 17.94, 245.88, 192.16, 801.5680000000001, 368.91, 885.528, 28.28, 4912.59, 14.352000000000002, 179.97, 42.76, 45.68, 25.06, 38.432, 21.568, 81.57600000000001, 2.78, 99.87, 44.400000000000006, 21.400000000000002, 71.12, 259.96, 9.78, 24.192, 31.56, 59.94, 45.36, 26.400000000000002, 41.4, 16.95, 24.704, 59.699999999999996, 14.52, 104.184, 46.53, 25.5, 14.9, 87.71, 199.764, 94.6, 4228.704000000001, 2003.9200000000003, 209.96999999999997, 659.9, 110.96, 67.8, 313.176, 22.959999999999997, 1099.5, 1215.92, 7.31, 8.92, 87.21000000000001, 15.552000000000003, 683.9879999999999, 13.392000000000001, 16.776000000000003, 527.92, 25.4, 177.48000000000002, 71.976, 95.992, 13.216000000000001, 435.84000000000003, 5.88, 211.168, 6.28, 95.1, 25.92, 48.84, 25.9, 42.68, 299.96999999999997, 262.24, 234.36, 20.736000000000004, 10.5, 23.968000000000004, 521.96, 676.55, 154.9, 30.56, 770.3520000000001, 21.12, 575.928, 7.78, 123.92, 17.22, 226.56, 107.88, 81.98, 104.85, 8.704, 19.92, 43.019999999999996, 240.78400000000002, 414.96, 387.72, 360.38, 13.56, 552.0, 429.90000000000003, 32.06, 161.96, 19.86, 12.96, 20.544000000000004, 185.57999999999998, 77.56, 87.92, 245.94, 8.6, 504.90000000000003, 2357.4880000000003, 369.544, 184.752, 64.96, 13.52, 458.42999999999995, 387.136, 328.59000000000003, 338.352, 25.92, 91.36, 87.96000000000001, 5.214, 12.294, 19.76, 109.764, 128.85000000000002, 127.94999999999999, 68.52, 74.94, 2548.5600000000004, 271.44, 287.88, 14.9, 4158.912, 91.96, 33.11, 19.44, 55.48, 91.92, 17.34, 71.98, 7.080000000000001, 69.98, 646.272, 10.368000000000002, 8.4, 71.96, 18.48, 9.84, 239.24, 21.12, 54.900000000000006, 15.24, 19.567999999999998, 310.39199999999994, 42.599999999999994, 113.94, 129.92, 5.28, 859.2, 506.28, 14.368000000000002, 314.352, 27.888, 238.15200000000004, 692.9399999999999, 16.146000000000004, 1345.4850000000001, 173.48800000000003, 57.75, 272.4, 11.952000000000002, 28.0, 12.201, 2.0679999999999996, 83.84, 11.36, 36.4, 27.968000000000004, 142.04, 14.669999999999998, 1199.96, 12.600000000000001, 17.94, 23.904000000000003, 88.96000000000001, 518.272, 6.98, 343.20000000000005, 17.544, 152.68800000000002, 3.4880000000000004, 5.888000000000001, 153.552, 270.62, 468.90000000000003, 72.48, 10.95, 191.82, 151.056, 25.16, 6.215999999999999, 23.616, 24.032, 2.088, 4.4879999999999995, 29.22, 6.48, 1.1880000000000002, 272.646, 212.8, 38.52, 72.64, 45.4, 13.76, 80.991, 11.784, 4.36, 2888.1270000000004, 1299.66, 2254.41, 104.85000000000001, 59.97, 314.532, 13.632, 19.431999999999995, 65.44, 6.0, 1.9079999999999997, 1474.8020000000001, 110.096, 16.752000000000002, 1537.0739999999998, 449.372, 41.904, 2279.96, 14.940000000000001, 191.976, 23.832, 409.216, 72.58800000000001, 61.568, 20.96, 44.75, 11.96, 3.912, 327.99600000000004, 49.408, 53.25, 3.76, 767.214, 163.96, 161.28, 192.8, 27.695999999999998, 73.16399999999999, 32.064, 205.666, 115.44, 274.8, 195.64, 257.98, 119.03999999999999, 20.07, 11.76, 11.76, 40.736000000000004, 201.584, 340.70400000000006, 354.90000000000003, 1198.33, 87.92, 51.967999999999996, 51.336000000000006, 332.704, 42.40800000000001, 81.53999999999999, 167.28, 772.68, 323.97600000000006, 11.808, 26.160000000000004, 33.57, 4.992000000000001, 20.016000000000002, 170.24, 117.456, 22.96, 13.36, 34.248000000000005, 3.52, 26.7, 21.2, 838.38, 1690.04, 85.96, 121.96, 23.92, 63.96, 629.9499999999999, 113.72999999999999, 14.6, 887.84, 403.92, 106.8, 70.94999999999999, 34.944, 119.03999999999999, 383.84000000000003, 799.5600000000001, 31.44, 25.920000000000005, 6.329999999999999, 75.88, 329.988, 71.376, 63.769999999999996, 50.97, 96.08, 1439.968, 43.56, 563.92, 235.152, 7.712000000000001, 51.016000000000005, 25.248, 56.686, 51.168000000000006, 2793.5280000000002, 1000.0200000000001, 65.94, 18.240000000000002, 76.12, 7.64, 68.16, 62.24, 29.97, 125.69999999999999, 191.98, 20.86, 56.699999999999996, 72.704, 12.264, 218.35200000000003, 66.29400000000001, 291.168, 88.77600000000001, 110.376, 55.176, 30.32, 177.568, 19.44, 71.28, 1471.96, 79.96, 57.576, 26.336000000000002, 166.5, 360.38, 11.744, 247.44, 18.240000000000002, 25.349999999999998, 119.03999999999999, 22.14, 13.98, 43.41, 6.24, 465.16, 7.98, 2.3939999999999997, 58.32000000000001, 200.96999999999997, 21.36, 9.856000000000002, 3.444000000000001, 384.59200000000004, 22.919999999999998, 11.36, 14.592000000000002, 41.4, 442.37199999999996, 34.5, 28.849999999999998, 3.4880000000000004, 143.85600000000002, 311.98, 22.450000000000003, 39.992000000000004, 1159.056, 179.89999999999998, 116.312, 12.419999999999998, 428.40000000000003, 24.75, 87.71, 69.52, 20.784000000000002, 12.816, 5.904, 63.824000000000005, 141.552, 304.9, 563.24, 661.176, 239.976, 502.48800000000006, 196.704, 915.1360000000001, 327.76, 701.96, 88.77600000000001, 64.14, 33.552, 1737.1799999999998, 704.25, 141.76, 36.36, 25.83, 24.587999999999994, 13.984000000000002, 195.96000000000004, 74.352, 6.68, 17.584000000000003, 104.78399999999999, 47.952000000000005, 650.3520000000001, 629.1840000000001, 15.176, 127.94999999999999, 579.51, 14.99, 151.92, 196.62, 144.12, 15.96, 39.96000000000001, 34.08, 10.368000000000002, 7.752000000000001, 15.28, 65.97, 33.4, 210.84, 13.98, 272.94, 19.05, 247.716, 66.58, 43.92, 14.73, 29.700000000000003, 49.12, 18.28, 47.04, 339.96000000000004, 87.8, 221.382, 5199.96, 156.512, 119.85000000000001, 30.44, 69.28, 587.97, 24.55, 12.176000000000002, 37.32, 35.06, 108.40000000000002, 361.37600000000003, 2.412, 8.39, 337.98, 83.92000000000002, 19.68, 25.92, 6.48, 86.352, 56.3, 51.016000000000005, 150.8, 1039.992, 51.84, 41.22, 240.37, 119.02, 133.12, 38.08, 113.56800000000001, 83.92, 6.63, 371.96999999999997, 561.5840000000001, 99.92000000000002, 4.928000000000001, 14.76, 99.99, 286.15, 49.792, 299.97499999999997, 158.37599999999998, 32.78399999999999, 47.984, 62.592, 4.275999999999999, 10.56, 229.94, 311.15, 12.96, 14.62, 5.76, 21.48, 396.92, 17.15, 23.12, 5.248, 824.95, 24.64, 227.88, 241.96, 3.89, 8.01, 177.48000000000002, 569.5680000000001, 149.73000000000002, 899.43, 46.2, 47.952000000000005, 7.992000000000001, 76.864, 102.93, 98.16, 11.520000000000001, 83.88, 108.57600000000001, 5.984000000000001, 21.96, 368.96999999999997, 12.39, 332.94, 111.93, 454.27200000000005, 19.44, 8399.975999999999, 6.294000000000001, 10.368000000000002, 122.38199999999999, 25.983999999999998, 945.0360000000001, 14.301000000000002, 410.352, 23.52, 180.96, 35.0, 477.15000000000003, 302.376, 974.9879999999998, 589.41, 34.7, 99.87, 37.94, 24.900000000000002, 82.26, 7.103999999999999, 103.50000000000001, 2.4640000000000004, 8.72, 10.76, 45.68, 6.7, 158.376, 3.44, 56.56, 36.96, 135.99, 15.959999999999999, 3.76, 14.7, 37.2, 89.97, 261.96, 74.0, 13.28, 84.96000000000001, 68.46, 2079.4, 629.9499999999999, 72.42, 131.98, 114.52, 100.24000000000001, 871.8000000000001, 61.96, 4.554, 5.2, 205.99200000000002, 15.552000000000003, 503.96000000000004, 24.472, 241.56799999999998, 110.4, 384.768, 78.66, 45.36, 962.0799999999999, 12.843000000000002, 295.456, 32.400000000000006, 103.93599999999999, 289.568, 39.72, 244.768, 24.0, 15.552000000000003, 26.176000000000002, 20.94, 135.09, 279.85999999999996, 90.06, 539.9639999999999, 50.232, 19.242, 1247.6399999999999, 5.304, 19.136000000000003, 332.83200000000005, 279.9, 50.352000000000004, 34.019999999999996, 23.88, 11.52, 286.93, 206.38400000000001, 218.35200000000003, 529.9, 99.3, 108.96, 2.688, 5443.96, 302.67, 56.07, 10.08, 59.99399999999999, 5.715000000000002, 9.420000000000002, 1999.96, 216.4, 6.936000000000001, 4.427999999999999, 8.8, 142.8, 399.95, 2152.7760000000003, 4007.8400000000006, 328.59000000000003, 98.352, 158.99, 291.1, 73.67999999999999, 139.92, 107.88, 33.29, 58.17000000000001, 5.04, 24.784000000000002, 634.116, 17.472, 155.88, 327.56399999999996, 13.36, 158.9, 319.968, 505.32000000000005, 3.808, 8.681999999999997, 24.424000000000003, 1522.638, 419.90000000000003, 3.15, 33.61999999999999, 16.14, 194.25, 8.64, 872.32, 243.99199999999996, 7.120000000000001, 2.688, 317.058, 149.352, 227.976, 11.96, 563.4, 319.92, 1049.44, 170.35200000000003, 173.94, 1007.9440000000002, 6.68, 8.34, 101.94, 179.97, 101.94, 271.96, 8.8, 19.68, 302.94, 14.940000000000001, 231.72, 9.912, 34.650000000000006, 19.8, 33.568000000000005, 125.92999999999999, 11.760000000000002, 5.344, 1.3650000000000002, 62.016, 60.72, 146.82, 239.84, 15.66, 146.352, 5.9399999999999995, 45.36, 211.168, 484.70400000000006, 371.97600000000006, 89.82000000000001, 19.296, 191.96, 21.299999999999997, 469.95, 209.88, 239.66599999999997, 22.5, 219.84, 32.400000000000006, 209.94, 4164.049999999999, 212.94, 41.88, 58.48, 102.438, 199.304, 6999.96, 12.96, 279.85999999999996, 7.380000000000001, 698.3520000000001, 1747.25, 54.48, 199.99, 68.54100000000001, 627.1680000000001, 122.12000000000002, 6.99, 107.424, 1421.664, 125.88, 79.78, 133.20000000000002, 438.36800000000005, 139.94400000000002, 133.472, 564.1949999999999, 87.168, 42.61599999999999, 319.98400000000004, 45.92, 21.184, 20.736000000000004, 213.42999999999995, 333.576, 31.992000000000004, 51.168000000000006, 10.64, 68.704, 386.91, 39.66, 113.92, 447.85999999999996, 356.85, 251.57999999999998, 219.84000000000003, 42.85, 6.16, 17.0, 87.4, 29.84, 49.568000000000005, 265.85999999999996, 67.96, 10.92, 83.9, 19.75, 393.54, 46.872, 10.9, 79.92, 146.82, 3.6, 20.04, 180.01600000000002, 41.552, 13.120000000000001, 1117.92, 111.96, 12.160000000000002, 17.52, 155.88, 477.51, 164.88, 47.97, 415.17600000000004, 35.232, 54.96, 16.34, 225.29600000000002, 50.352000000000004, 163.136, 6.408, 217.58400000000003, 5.43, 143.976, 519.68, 7.83, 883.84, 230.35200000000003, 273.92, 9.912, 266.35200000000003, 56.328, 39.264, 95.232, 30.0, 25.92, 159.92, 34.944, 149.95, 23.32, 16.740000000000002, 14.82, 10.47, 11.07, 20.704, 177.2, 50.496, 6.1290000000000004, 643.136, 20.736000000000004, 177.536, 32.432, 11.696, 113.76, 579.51, 150.66, 48.032000000000004, 102.624, 359.772, 13.392000000000001, 122.13600000000001, 35.88, 479.952, 23.92, 629.9499999999999, 14.952000000000002, 17.94, 116.98, 121.96, 8.74, 61.96, 7.96, 275.24, 47.400000000000006, 512.96, 395.93999999999994, 81.96, 32.776, 272.94, 253.76399999999998, 29.24, 35.168, 1362.8999999999999, 317.058, 15.76, 14.560000000000002, 196.21, 35.4, 419.4, 13.005000000000003, 7.712000000000001, 4.176, 38.88, 17.64, 93.456, 449.91, 344.94, 14.76, 12.76, 58.48, 20.096000000000004, 37.752, 138.588, 259.9200000000001, 20.736000000000004, 129.93, 69.93, 140.736, 8.32, 9.98, 62.94, 21.488, 239.976, 34.504000000000005, 20.104, 3.7979999999999987, 7.880000000000001, 35.445, 269.97, 45.120000000000005, 100.80000000000001, 47.968, 99.98, 9.96, 3.8560000000000003, 98.376, 22.38, 3.8820000000000006, 12.585000000000003, 113.372, 18.312, 127.93599999999999, 241.17000000000002, 6.24, 17.9, 3266.376, 1.6799999999999995, 7.968, 113.372, 2.9600000000000004, 168.1, 98.46, 358.58, 32.48, 17499.949999999997, 735.98, 34.370000000000005, 33.96, 197.96999999999997, 17.48, 8.016, 146.04000000000002, 27.88, 152.65, 22.72, 11.12, 1640.6999999999998, 371.2, 14.832000000000003, 20.700000000000003, 11.34, 67.9, 1059.12, 478.48, 32.04, 55.992, 76.864, 59.92, 1565.88, 106.05, 62.04, 494.97, 367.96, 44.96, 182.94, 28.14, 7.38, 10.9, 274.89, 23.04, 218.35200000000003, 10.368000000000002, 12.672, 91.96, 254.96999999999997, 31.983999999999998, 2887.0560000000005, 12.96, 47.52, 11.952000000000002, 4.98, 10.779999999999996, 119.97600000000001, 25.06, 1652.94, 131.376, 5.344, 2003.9200000000003, 32.400000000000006, 1913.3999999999999, 146.73, 114.2, 2567.84, 37.056000000000004, 259.896, 19.049999999999997, 73.344, 95.68, 50.96, 113.94, 25.92, 20.32, 411.98, 34.48, 244.54999999999998, 10.782000000000002, 602.651, 7.655999999999999, 559.93, 2399.96, 16.0, 5.587999999999999, 235.92, 10.68, 41.28, 1001.5840000000001, 14.76, 2.5020000000000002, 115.96, 186.54, 159.56, 55.98400000000001, 132.16, 17.903999999999996, 124.032, 1403.9200000000003, 28.799999999999997, 24.588, 356.78999999999996, 16.98, 491.55, 7.38, 23.66, 681.4080000000001, 18.9, 93.68, 21.93, 862.344, 19.98, 13.493999999999998, 23.987999999999996, 31.983999999999998, 41.584, 95.97600000000001, 84.272, 36.544000000000004, 479.72, 102.368, 28.4, 713.88, 68.52, 623.96, 11.12, 523.92, 2.48, 221.024, 128.058, 58.407999999999994, 79.97399999999999, 479.988, 11.808, 53.568, 503.96000000000004, 21.34, 36.4, 51.75, 15.51, 146.82, 12.96, 7.800000000000001, 10.2, 22.32, 24.1, 75.98, 6.46, 60.12, 824.97, 24.849999999999998, 12.624, 89.584, 471.92, 18.180000000000003, 31.744, 5.904, 621.7600000000001, 59.98, 48.87, 154.9, 5.92, 30.18, 24.1, 8.78, 376.74, 29.52, 11.96, 26.400000000000002, 1158.12, 1.3919999999999997, 44.43, 226.20000000000002, 186.54, 265.85999999999996, 27.9, 31.08, 13.839999999999998, 175.872, 12.96, 208.44, 25.76, 366.74399999999997, 289.24, 69.456, 5.184000000000001, 205.16400000000002, 8.544, 12.828000000000001, 598.458, 25.983999999999998, 17.96, 5.04, 208.16, 148.257, 146.76, 32.96, 587.97, 14.940000000000001, 25.83, 15.552000000000003, 6.800000000000001, 4.224, 143.64000000000001, 31.104000000000006, 223.056, 227.45999999999998, 46.24, 5.22, 33.9, 28.14, 36.0, 92.94, 245.64600000000002, 55.00800000000001, 35.232, 523.392, 479.98400000000004, 12.96, 17.94, 166.72, 24.816000000000003, 124.36, 599.97, 198.744, 9.184000000000001, 9.248000000000001, 99.592, 399.96, 15.552000000000003, 14.576, 209.60000000000002, 23.32, 30.98, 119.96, 363.92, 35.808, 122.688, 892.1360000000001, 50.22, 83.42, 5.872, 12.144, 27.792, 6.208, 32.67, 1261.33, 38.88, 1.9639999999999995, 82.656, 5.98, 9.248000000000001, 4.4479999999999995, 5.184000000000001, 175.92, 4.751999999999999, 13.344000000000001, 54.900000000000006, 22.911000000000005, 309.456, 19.456000000000003, 472.51800000000003, 1012.6800000000001, 17.220000000000006, 3.52, 1626.1920000000002, 8.595000000000002, 190.89600000000002, 99.87, 79.36, 119.96, 106.32, 163.44, 42.76, 51.550000000000004, 479.952, 146.688, 276.78400000000005, 25.32, 318.96, 212.64, 23.472, 19.648, 6.570000000000001, 421.1, 760.1159999999999, 38.784000000000006, 122.32799999999999, 25.98, 3.28, 459.88, 7.76, 71.96, 54.900000000000006, 9.28, 1685.88, 5.728000000000001, 61.96, 1.344, 17.94, 13.904, 67.194, 41.86, 141.96, 10.02, 144.12, 17.94, 13.89, 16.45, 19.92, 35.168, 123.088, 257.94, 1879.96, 27.46, 89.98, 828.5999999999999, 7.230000000000002, 17.44, 62.88000000000001, 290.35200000000003, 113.52, 135.29999999999998, 111.15, 776.8499999999999, 12.294, 154.764, 43.28, 92.94, 52.56, 971.8800000000001, 141.96, 182.55, 88.768, 53.087999999999994, 275.88, 157.89999999999998, 4.91, 87.92, 5.98, 222.38400000000001, 16.0, 21.84, 15.600000000000001, 247.84, 9.912, 69.52, 11.52, 717.72, 236.5, 170.35200000000003, 145.764, 107.97, 143.96, 2399.96, 74.352, 87.16799999999998, 32.232, 2.2020000000000004, 9.396, 89.97, 12.78, 40.0, 23.24, 908.82, 5.5520000000000005, 8.016, 74.592, 16.784000000000002, 38.86399999999999, 203.976, 674.3520000000001, 5.388000000000001, 30.976, 1350.1200000000001, 15.92, 19.54, 21.400000000000002, 12.6, 11.96, 138.0, 116.75999999999999, 331.0230000000001, 756.8000000000001, 8.736, 6.08, 17.46, 369.16, 2.9120000000000004, 20.736000000000004, 9.568000000000001, 30.18, 51.648, 11.232, 14.73, 16.4, 25.92, 8.82, 62.49600000000001, 339.96, 49.568000000000005, 274.49100000000004, 137.94, 40.68, 110.376, 151.62, 30.8, 123.92000000000002, 1319.8, 89.71200000000002, 22.830000000000002, 30.88, 465.16, 27.12, 113.6, 12.96, 69.456, 8.64, 341.99100000000004, 43.96, 39.76, 66.36, 92.88000000000001, 24.14, 4416.174, 49.56, 354.90000000000003, 15.120000000000001, 302.45, 44.672000000000004, 119.98, 989.97, 9.216, 68.52, 364.74, 47.400000000000006, 49.76, 5.56, 629.0999999999999, 14.7, 45.36, 125.99, 14.700000000000001, 32.7, 31.680000000000003, 181.86, 155.37199999999999, 13.428000000000003, 67.13600000000001, 89.568, 315.77600000000007, 273.666, 17.48, 20.608000000000004, 4.095000000000001, 339.96000000000004, 63.980000000000004, 799.9200000000001, 35.984, 389.97, 185.52800000000002, 2541.98, 599.9850000000001, 3.0359999999999996, 25.920000000000005, 66.11200000000001, 46.36, 6.9, 57.69, 559.71, 305.01, 50.784, 26.01, 649.0, 59.99, 20.24, 37.839999999999996, 5.4719999999999995, 77.24000000000001, 292.1, 8.544, 424.116, 2.8919999999999995, 381.72, 97.18400000000001, 10.368000000000002, 890.8409999999999, 72.0, 113.88800000000002, 158.13, 14.129999999999999, 64.75, 1.8720000000000003, 11.214000000000002, 37.376, 286.40000000000003, 43.92, 142.182, 19.608, 4.158, 979.95, 135.29999999999998, 8.904, 100.80000000000001, 41.96, 9.45, 400.79999999999995, 28.792, 111.0, 1279.968, 1856.19, 22.752000000000002, 61.541999999999994, 81.43800000000002, 67.36, 54.52799999999999, 843.9, 449.56800000000004, 15.51, 192.18600000000004, 5.76, 67.88, 162.89, 25.71, 191.88, 721.8750000000001, 73.568, 13.584000000000001, 64.784, 176.77199999999996, 38.82, 21.9, 111.79, 445.44, 16.520000000000003, 29.900000000000002, 116.4, 1.4080000000000001, 169.568, 251.96399999999994, 523.764, 19.44, 194.35200000000003, 36.624, 340.182, 12.672, 6.888000000000002, 32.544000000000004, 347.802, 15.570000000000004, 4.608, 257.98, 153.78, 61.019999999999996, 110.11, 7.89, 36.024, 54.336000000000006, 92.52, 10.272000000000002, 40.74, 14.399999999999999, 149.95, 16.9, 17.61, 378.0, 17.64, 373.08, 1336.4399999999998, 29.97, 390.368, 101.52000000000001, 74.352, 15.700000000000001, 59.519999999999996, 34.4, 313.176, 866.646, 795.4080000000001, 35.856, 23.840000000000003, 43.13, 30.87, 70.12, 509.9574999999999, 122.91, 97.568, 722.3520000000001, 11.52, 167.84, 172.11, 99.98, 156.79200000000003, 35.36000000000001, 13.591999999999999, 386.67999999999995, 379.96000000000004, 539.91, 41.24000000000001, 51.89700000000001, 552.56, 23.160000000000004, 126.08, 449.1, 195.104, 36.672, 85.246, 32.712, 11.43, 30.44, 12.96, 16.0, 32.67, 4.464, 9.345000000000002, 9.144, 23.136000000000003, 99.2, 21.36, 46.900000000000006, 18.72, 236.52800000000002, 18.9, 10.688, 237.09600000000003, 5.184000000000001, 65.584, 22.200000000000003, 419.4, 88.92000000000002, 9.912, 318.43, 5.799999999999999, 1415.76, 148.48, 9.248000000000001, 1036.624, 569.64, 9.14, 1196.86, 523.26, 639.9680000000001, 52.76, 538.9200000000001, 14.88, 34.24, 261.74, 87.84, 34.92, 14.940000000000001, 14.56, 3.5760000000000005, 147.184, 1499.95, 13.568000000000001, 2573.82, 609.98, 5.48, 391.98, 755.96, 31.12, 6.54, 12.78, 18.464, 445.802, 2.48, 25.9, 29.900000000000002, 2249.91, 1053.164, 12.96, 106.68, 119.94, 10.272000000000002, 512.19, 1.5559999999999996, 4.4479999999999995, 276.69, 4.96, 71.92, 18.84, 140.97, 470.3760000000001, 6.08, 164.79200000000003, 23.36, 12.175999999999998, 46.384, 362.92, 9.248000000000001, 1889.946, 62.040000000000006, 396.9200000000001, 239.456, 13.120000000000001, 29.36, 214.89999999999998, 15.92, 146.45, 15.14, 5.76, 1399.98, 8.952000000000002, 8.856000000000002, 85.246, 21.728, 1487.04, 71.88, 9.24, 35.88, 17.04, 931.1760000000002, 266.35200000000003, 483.13599999999997, 196.784, 231.92000000000002, 29.700000000000003, 13.591999999999999, 70.88, 114.28800000000001, 36.624, 242.35200000000003, 49.61600000000001, 508.70400000000006, 57.36, 906.6800000000001, 719.9520000000001, 755.9440000000002, 11.979999999999997, 0.8979999999999998, 21.204000000000004, 34.74, 833.94, 12.96, 25.92, 349.965, 22.32, 158.28, 497.93999999999994, 533.9399999999999, 167.94, 31.68, 170.78599999999997, 198.744, 63.824000000000005, 435.16800000000006, 48.58, 47.976, 20.736000000000004, 26.46, 49.12, 15.0, 194.7, 591.32, 2.84, 221.96, 236.0, 41.94, 52.792, 563.9399999999999, 2625.12, 17.94, 422.856, 127.76400000000001, 3499.9300000000003, 14.399999999999999, 122.97, 9.32, 122.94, 17.31, 128.744, 58.248000000000005, 71.246, 7.872, 887.2709999999998, 146.86, 36.56, 225.57599999999996, 5.248, 38.256, 40.24, 29.925, 148.704, 55.92, 12.96, 25.176000000000002, 5.5840000000000005, 1297.3680000000002, 264.32, 25.92, 22.959999999999997, 19.44, 9.54, 5.81, 5.76, 14.91, 6.642000000000001, 18.54, 679.96, 189.57600000000002, 71.96, 539.92, 725.344, 7.4399999999999995, 39.48, 850.5, 75.33, 325.63200000000006, 23.344, 16.520000000000003, 335.72, 251.94400000000002, 127.30199999999999, 1207.84, 12.53, 34.58, 300.98, 258.75, 59.519999999999996, 57.959999999999994, 441.96, 68.03999999999999, 703.71, 17.904000000000003, 11.976000000000003, 67.96, 892.224, 1299.99, 4.544, 1352.0320000000002, 1548.9900000000002, 19.872, 119.44800000000001, 118.16, 19.56, 80.96, 25.92, 106.96, 187.76, 76.77600000000001, 53.9, 76.72800000000001, 10.429999999999998, 99.2, 15.920000000000002, 129.92, 30.4, 5399.91, 119.10000000000001, 40.08, 59.94, 259.98, 170.98, 38.97, 154.9, 446.068, 152.94, 23.472, 195.64, 14.940000000000001, 1687.8, 341.96, 605.88, 186.732, 3812.9700000000003, 26.424, 625.99, 1568.61, 17.3, 160.0, 179.94, 872.94, 12.96, 88.80000000000001, 319.968, 167.888, 163.96, 5.231999999999998, 1199.98, 73.85, 25.71, 17.28, 526.582, 11.56, 209.96999999999997, 447.84, 479.97, 8.64, 11.68, 40.775999999999996, 13.698000000000002, 87.8, 77.952, 147.184, 47.952000000000005, 250.26, 40.775999999999996, 29.600000000000005, 1.9380000000000002, 159.96, 59.519999999999996, 17.48, 13.168000000000001, 40.74, 179.886, 286.25600000000003, 24.224000000000004, 331.536, 17.52, 17.856, 431.97600000000006, 291.136, 114.84800000000001, 10.688, 15.232, 12.419999999999998, 19.44, 70.368, 12.672, 89.94999999999999, 6.58, 94.99, 35.12, 25.92, 7.96, 566.97, 9.84, 25.488, 7.5600000000000005, 60.84, 450.04, 34.6, 467.97, 33.02, 17.088, 3.008, 268.24, 431.1600000000001, 43.6, 154.95, 15.552000000000003, 42.208, 10.368000000000002, 2.2239999999999998, 74.52, 17.52, 1779.9, 219.89999999999998, 7.151999999999999, 26.720000000000002, 1039.728, 45.96, 456.5880000000001, 4499.985000000001, 59.976, 6.12, 10.98, 7.86, 51.449999999999996, 37.056, 203.92, 29.56, 8.567999999999998, 45.248000000000005, 876.3000000000001, 185.376, 25.06, 2.8899999999999992, 7.896000000000001, 22.608, 30.528, 4.8420000000000005, 1.7999999999999996, 39.984, 32.400000000000006, 97.88, 307.168, 26.9, 47.01, 469.99, 207.84600000000003, 324.744, 40.48, 12.0, 720.0640000000001, 25.424000000000003, 2.8160000000000003, 3.204, 30.828000000000007, 47.616, 108.78399999999999, 4.77, 7.98, 550.431, 10.56, 1497.666, 17.52, 113.22, 35.88, 4535.976000000001, 11.84, 592.74, 111.67200000000001, 8.64, 149.97, 232.88, 90.882, 508.76800000000003, 9.912, 63.93600000000001, 59.519999999999996, 311.97600000000006, 50.352000000000004, 19.136000000000003, 13.120000000000001, 241.56799999999998, 479.92, 307.136, 12.6, 159.98, 6.12, 1184.72, 45.96, 58.050000000000004, 71.28, 124.404, 154.9, 1871.88, 16.192, 18.936, 12.672, 5.04, 8.448, 20.387999999999995, 9.96, 320.64, 52.0, 25.584000000000003, 464.0, 235.95000000000002, 39.96, 18.528000000000002, 17.9, 81.96, 272.736, 18.496000000000002, 441.92, 127.76400000000002, 166.44, 13.38, 24.0, 24.448, 6.16, 915.1360000000001, 8.56, 97.82, 31.104000000000006, 11.176000000000002, 5.04, 242.17600000000004, 337.176, 13.343999999999998, 76.75200000000001, 102.33600000000001, 10.32, 47.32, 23.376, 16.72, 16.192, 32.400000000000006, 19.89, 399.98, 343.84999999999997, 106.32, 13.919999999999998, 82.4, 6.24, 447.84, 272.048, 1614.5820000000003, 24.320000000000004, 1.584, 31.983999999999998, 14.76, 423.64799999999997, 76.64, 4.464, 3.959999999999999, 715.64, 268.704, 21.92, 48.72, 205.666, 30.344, 25.695999999999998, 3404.5, 101.34, 344.37199999999996, 30.384, 22.848, 38.62, 59.98, 174.3, 383.96000000000004, 15.570000000000004, 22.32, 103.60000000000001, 2.9699999999999998, 569.99, 50.97, 298.116, 59.519999999999996, 230.28000000000003, 105.52, 23.36, 71.976, 8.56, 13.919999999999998, 2518.29, 540.5699999999999, 221.056, 81.424, 134.8, 39.58199999999999, 44.688, 31.744, 40.97999999999999, 3.1679999999999993, 18.84, 362.24999999999994, 63.55200000000001, 129.552, 5.984000000000001, 861.76, 66.96, 6.24, 435.16800000000006, 14.9, 15.8, 72.9, 206.35200000000003, 7.992000000000001, 81.36000000000001, 20.232000000000003, 389.05600000000004, 20.736000000000004, 41.47200000000001, 33.36, 90.882, 15.991999999999999, 120.78399999999999, 519.792, 31.176000000000002, 10.368000000000002, 2.7240000000000006, 254.35200000000003, 3.762, 10.272000000000002, 659.97, 113.72999999999999, 5.104, 16.448, 81.92, 254.89999999999998, 15.120000000000001, 7.872, 8.32, 89.94999999999999, 25.2, 37.589999999999996, 14.97, 1.98, 39.93600000000001, 18.464, 4.896000000000001, 145.764, 9.612, 199.75, 1673.1839999999997, 12.18, 57.68, 263.96, 299.94, 25.76, 271.9, 45.839999999999996, 9.82, 93.36, 541.24, 106.32, 1323.8999999999999, 126.624, 125.944, 663.92, 120.0, 3.29, 18.84, 60.67200000000001, 30.816000000000003, 52.792, 83.9, 11.76, 4.991999999999999, 87.92, 657.93, 1.0439999999999998, 210.68, 78.8, 19.99, 772.68, 106.08000000000001, 23.076, 25.920000000000005, 47.952000000000005, 0.9839999999999998, 75.38400000000001, 4.608, 37.68, 41.910000000000004, 435.999, 388.70400000000006, 572.58, 33.18, 63.88, 26.72, 295.056, 393.25, 2.2140000000000004, 16.272000000000002, 706.86, 5.970000000000001, 21.184, 41.376, 17.94, 2.6550000000000002, 892.35, 307.666, 728.82, 41.36, 43.176, 4.16, 61.4, 24.448, 263.96, 359.96999999999997, 12.96, 116.82, 276.78400000000005, 239.96999999999997, 16.02, 454.56000000000006, 141.42, 310.74399999999997, 12.736, 6.469999999999998, 13.747999999999998, 15.223999999999997, 27.42, 165.98, 75.0, 134.27200000000002, 146.544, 131.904, 203.88000000000002, 14.301000000000002, 718.6400000000001, 61.1, 28.08, 10.496, 39.92, 77.58, 269.35999999999996, 5.76, 109.9, 23.88, 26.2, 12.96, 234.95000000000002, 118.25, 4.28, 26.849999999999998, 3357.6000000000004, 8.26, 2973.32, 104.79, 775.7280000000001, 89.06639999999999, 175.44, 438.336, 215.544, 55.584, 127.38599999999998, 248.43, 11.647999999999998, 85.246, 20.64, 148.02, 33.29, 204.95000000000002, 526.3439999999999, 41.96, 451.15199999999993, 31.504000000000005, 30.672, 1079.9759999999999, 161.568, 2.9339999999999993, 18.528000000000002, 670.7520000000001, 64.96, 41.94, 11.96, 13.12, 535.41, 72.78, 36.839999999999996, 87.71, 562.2925000000001, 56.52, 11.264000000000001, 284.08000000000004, 18.496000000000002, 14.73, 186.54, 557.728, 159.96800000000002, 471.90000000000003, 3.52, 49.12, 20.16, 10.68, 141.96, 32.48, 20.04, 13999.96, 238.0, 61.96, 239.37199999999996, 595.0, 16.032, 199.75, 227.96, 293.52, 307.98, 96.96000000000001, 117.48800000000001, 11.952000000000002, 512.499, 863.128, 2036.8600000000001, 449.56800000000004, 108.96000000000001, 264.18, 2.88, 41.904, 23.92, 156.512, 128.34, 474.95, 999.98, 277.5, 1252.704, 110.97, 22.608, 1.8920000000000003, 63.312, 7.824, 170.072, 62.82000000000001, 19.44, 7.38, 38.88, 187.76, 6.048000000000001, 98.352, 335.744, 8.96, 89.568, 71.96, 15.552000000000003, 10.429999999999996, 72.784, 67.15, 549.98, 11.82, 4643.8, 577.764, 191.5155, 2.624, 1369.7640000000001, 294.368, 81.568, 44.46000000000001, 314.088, 6.336000000000001, 10.48, 2.4690000000000003, 3.2640000000000007, 4.344, 31.776000000000003, 4.928000000000001, 1.7879999999999996, 15.072000000000001, 12.624, 185.88, 12.96, 189.7, 40.99, 82.64, 31.02, 89.97, 35.97, 1266.86, 169.45, 40.68, 3.3280000000000003, 933.2620000000001, 2803.92, 4.768, 6.672000000000001, 4.4479999999999995, 43.93600000000001, 23.744, 357.0, 806.336, 85.44, 344.90999999999997, 70.96999999999998, 36.784, 743.9879999999999, 11.211999999999998, 4.712, 180.97999999999996, 60.416, 299.99, 192.16, 242.624, 46.74, 174.95000000000002, 100.70400000000001, 368.91, 8.02, 171.04, 19.44, 13.092000000000002, 122.94, 35.448, 19.98, 69.375, 31.680000000000003, 2003.1680000000001, 9.344, 2563.056, 387.136, 3.4240000000000004, 1085.42, 43.056000000000004, 3.762, 34.86000000000001, 432.456, 675.0600000000001, 65.232, 207.0, 600.53, 59.903999999999996, 637.44, 51.75600000000001, 31.104000000000006, 47.96, 158.928, 211.248, 5.5520000000000005, 2.952, 10.332000000000003, 18.368000000000002, 299.9, 26.55, 111.98, 4.928000000000001, 11.784, 7.98, 180.96, 1649.95, 362.352, 73.584, 486.36800000000005, 32.400000000000006, 41.86, 77.56, 37.17, 137.352, 376.50899999999996, 62.72, 2939.9300000000003, 512.358, 3.4880000000000004, 22.288, 16.032, 1.752, 20.992, 11.21, 45.04, 15.623999999999997, 8.74, 44.75, 61.68, 158.376, 2.8639999999999994, 94.19199999999998, 143.7, 6.48, 7.88, 11.21, 354.90000000000003, 17.94, 51.8, 299.52, 7.7, 23.92, 498.0, 436.70400000000006, 32.400000000000006, 61.44, 73.36, 59.20000000000001, 32.952000000000005, 218.376, 31.400000000000002, 9.48, 209.5, 24.3, 6.48, 32.448, 26.388, 373.4699999999999, 64.2, 8.0, 186.54, 87.08, 105.584, 217.44, 31.744, 5.431999999999999, 913.4300000000001, 372.144, 751.984, 604.768, 27.36, 20.56, 83.92000000000002, 902.712, 120.666, 4.983999999999999, 82.26, 29.74, 87.36, 56.16, 64.384, 64.784, 15.552000000000003, 223.88799999999998, 10.896, 84.784, 241.49999999999997, 59.97, 13.36, 11.808, 16.24, 77.55, 76.12, 17.184, 11.76, 27.46, 137.94, 111.15, 901.9499999999999, 366.00899999999996, 310.688, 7.679999999999998, 155.37199999999999, 10.744, 232.40000000000003, 164.646, 22.68, 105.52, 83.92, 141.9, 39.98, 28.91, 174.95000000000002, 110.528, 630.024, 27.86, 933.408, 51.84000000000001, 165.60000000000002, 106.32, 147.92, 104.28, 286.85, 66.96, 199.98, 45.0, 17.9, 40.48, 2154.9, 18.432000000000002, 10.944, 4.36, 62.352000000000004, 303.92, 129.3, 274.20000000000005, 6.048, 6.848000000000001, 9.96, 8.551999999999998, 45.584, 25.488, 136.96, 49.61600000000001, 10.584000000000001, 84.416, 431.94, 2.043, 68.238, 240.744, 35.0, 210.68, 637.896, 43.44, 2.22, 1679.96, 344.37199999999996, 1554.9360000000001, 127.88, 222.38400000000001, 106.869, 3.563999999999999, 25.679999999999993, 12.383999999999997, 25.299999999999997, 95.94, 7.5, 302.376, 46.688, 17.94, 370.14, 8.928, 2678.94, 387.136, 45.408, 77.952, 3.0, 9.952, 37.896, 65.584, 44.784, 1035.8, 5.76, 19.98, 35.98, 16.656000000000002, 20.7, 83.69999999999999, 199.8, 45.68, 110.96, 11.94, 8749.95, 36.4, 18.689999999999998, 5.9399999999999995, 60.736000000000004, 479.97600000000006, 6.079999999999998, 165.60000000000002, 59.519999999999996, 479.97, 18.62, 49.632000000000005, 97.82, 15.984000000000002, 184.752, 12.96, 366.74399999999997, 8.855999999999998, 27.96, 146.352, 175.23, 125.99, 23.0, 25.584000000000003, 73.784, 20.736000000000004, 17.52, 35.76, 3.64, 30.336000000000006, 12.99, 182.22, 302.94, 54.992000000000004, 12.99, 55.86, 44.376, 51.264, 5.1930000000000005, 159.984, 54.224000000000004, 241.42399999999998, 33.36, 13.76, 496.86, 389.97, 9.82, 56.400000000000006, 18.312, 25.920000000000005, 8.016, 479.98400000000004, 30.84, 33.568000000000005, 422.62499999999994, 199.98, 20.24, 39.92, 32.54, 39.0, 12.6, 24.64, 6.264, 14.432, 719.9760000000001, 239.92, 1056.86, 447.94399999999996, 150.408, 453.576, 45.36, 287.88, 131.88000000000002, 2.3280000000000003, 1454.9, 4.8420000000000005, 220.704, 67.176, 15.232, 31.104000000000006, 968.7440000000001, 222.35199999999998, 479.98400000000004, 10.272000000000002, 998.8499999999999, 24.56, 5.67, 14.336000000000002, 102.3, 607.52, 31.16, 2.61, 10.332, 10.368000000000002, 20.784000000000002, 66.96, 17.248, 11.088000000000003, 1287.45, 168.1, 51.967999999999996, 4.768, 7.98, 18.688, 11.664000000000001, 191.976, 499.16800000000006, 11.88, 35.44, 67.13600000000001, 4.32, 14.940000000000001, 40.54, 7.312000000000001, 475.944, 30.080000000000002, 165.60000000000002, 180.96, 23.18, 56.96, 15.56, 353.568, 13.96, 82.95, 39.68, 479.97, 7.38, 14.256000000000002, 81.98, 39.62400000000001, 399.672, 65.12, 30.560000000000002, 20.768, 39.808, 121.10400000000003, 111.96, 15.696000000000002, 70.26, 90.0, 6.096, 481.176, 7.24, 177.45000000000002, 1369.7640000000001, 9.48, 130.98, 174.95000000000002, 826.0, 139.58, 399.95, 12.39, 760.9799999999998, 67.86000000000001, 31.504000000000005, 5.04, 39.879, 4.712, 194.35200000000003, 97.424, 704.76, 27.396000000000004, 5.699999999999999, 14.190000000000001, 7.3, 199.98, 144.96, 118.0, 48.94, 22.66, 0.8359999999999997, 30.96, 723.92, 21.968000000000004, 619.152, 127.90400000000001, 94.2, 49.5, 16.520000000000003, 55.36000000000001, 11.56, 17.12, 182.35200000000003, 118.16, 18.368000000000002, 600.558, 50.352000000000004, 28.031999999999996, 7.692, 517.4050000000001, 8.607999999999999, 159.56, 2104.5499999999997, 40.7, 47.79, 5.16, 21.209999999999997, 96.35999999999999, 231.72, 17.9, 12.48, 8.016, 259.896, 247.188, 279.96, 450.0, 19.44, 300.904, 239.976, 31.168000000000003, 120.96, 2239.936, 76.608, 142.776, 91.36000000000001, 3.5520000000000005, 115.136, 4.71, 172.764, 3.52, 79.968, 305.9745, 344.90999999999997, 626.3520000000001, 359.49899999999997, 71.952, 29.800000000000004, 1.8240000000000003, 64.38399999999999, 6.984000000000001, 11.264000000000001, 15.552000000000003, 379.372, 67.53600000000002, 1.5239999999999996, 37.408, 25.344, 46.2, 4.728, 53.352000000000004, 131.104, 22.512000000000004, 72.74400000000001, 52.59, 19.44, 126.30000000000001, 1287.45, 64.96, 535.41, 8.100000000000001, 13.248, 83.98799999999999, 73.2, 10.74, 11.032, 53.040000000000006, 17.12, 59.94, 210.58, 30.960000000000004, 239.98400000000004, 3050.376, 133.98, 93.248, 177.48000000000002, 17.712, 4.860000000000001, 6.258000000000001, 37.68, 51.84, 27.42, 5.4, 1270.99, 125.36, 14.03, 27.96, 5.344, 1.6959999999999997, 24.587999999999994, 7.979999999999999, 288.0, 146.952, 83.13600000000001, 942.7840000000001, 74.352, 26.880000000000003, 10.896, 3.536, 528.43, 41.47200000000001, 287.976, 29.304000000000002, 55.328, 1227.9984, 20.416, 1128.3899999999999, 4.608, 195.96000000000004, 15.552000000000003, 271.968, 698.3520000000001, 77.72800000000001, 46.62, 537.544, 14.62, 22.549999999999997, 583.8, 211.168, 12.96, 45.98, 1294.75, 1799.9699999999998, 10.688, 221.98, 341.96, 34.769999999999996, 18.9, 102.72, 40.48, 33.282000000000004, 118.64999999999998, 14.76, 37.52, 207.144, 13.899999999999999, 266.35200000000003, 307.98, 44.099999999999994, 13.12, 16.56, 38.88, 335.52, 959.984, 4.086, 55.98400000000001, 10.688, 8.856, 6.911999999999999, 26.720000000000002, 33.48800000000001, 10.56, 386.34, 33.44, 39.96, 1217.568, 15.51, 89.9, 14.28, 12.72, 15.75, 70.94999999999999, 65.568, 299.96999999999997, 89.97, 31.86, 67.15, 7.236, 4.824, 91.36000000000001, 130.112, 74.24, 159.84000000000003, 2.892000000000001, 9.392000000000001, 123.92, 55.60000000000001, 617.9760000000001, 21.312000000000005, 209.94, 31.983999999999998, 5083.96, 35.96, 31.049999999999997, 8.92, 209.6, 111.04, 38.88, 36.269999999999996, 493.42999999999995, 11.120000000000001, 686.4000000000001, 15.920000000000002, 70.67999999999999, 541.24, 101.99400000000001, 18.264000000000003, 21.989999999999995, 185.376, 58.923999999999985, 480.0, 34.05, 192.72, 239.96999999999997, 50.120000000000005, 15.984000000000002, 14.352000000000002, 6.528000000000001, 2.8620000000000005, 20.856, 276.28, 629.64, 449.97, 1927.5900000000001, 121.78, 2676.672, 489.22999999999996, 312.03000000000003, 17.94, 165.60000000000002, 37.52, 494.97, 25.06, 32.064, 18.496000000000002, 191.07899999999998, 10.368000000000002, 30.53, 30.839999999999996, 75.06, 66.97600000000001, 182.72, 21.93, 95.97600000000001, 143.928, 3.564000000000001, 4.928000000000001, 856.6560000000001, 13.183999999999997, 48.783999999999985, 76.64, 18.527999999999995, 177.68, 159.98, 52.67999999999999, 11.568000000000001, 4.572000000000001, 1439.968, 1.7279999999999995, 626.0999999999999, 99.2, 609.9799999999999, 211.37199999999999, 239.976, 99.94999999999999, 29.339999999999996, 16.74, 12.672, 1119.8880000000001, 204.85, 135.984, 16.4, 92.96000000000001, 7.6320000000000014, 4.158, 179.99100000000004, 239.358, 164.88, 10.95, 19.44, 12.3, 13.97, 934.9559999999999, 46.864000000000004, 26.160000000000004, 23.128, 59.24, 155.45600000000002, 8.56, 21.0, 120.0, 299.96, 67.83999999999999, 853.9299999999998, 18.688, 273.96, 89.97, 756.8000000000001, 1.2479999999999998, 72.0, 470.155, 39.128, 19.728, 151.188, 271.764, 47.496, 344.98099999999994, 36.28800000000001, 78.304, 127.785, 6.103999999999998, 5.76, 1.7199999999999995, 8.951999999999998, 2.3339999999999996, 1.7279999999999998, 159.04, 145.98, 77.952, 95.97000000000001, 105.584, 9.344, 9.68, 4899.93, 104.75, 18.528000000000002, 1875.258, 91.36000000000001, 152.24, 35.184, 56.704, 274.064, 458.42999999999995, 8.226, 5.95, 15.24, 239.94, 23.84, 92.52, 37.76, 7.38, 5.82, 3.816, 26.16, 100.80000000000001, 135.79999999999998, 13.899999999999999, 19.4, 13.488, 11.416, 17.64, 17.04, 99.98, 29.46, 166.92000000000002, 98.328, 117.88199999999999, 20.97, 139.96, 37.74, 14.82, 191.82, 13.904, 314.6, 283.56, 487.96, 1793.98, 2.9919999999999995, 108.76800000000001, 25.92, 22.58, 55.176, 9892.74, 73.915, 337.088, 61.44, 479.97, 5.984000000000001, 189.95000000000002, 149.95, 29.950000000000003, 44.400000000000006, 66.03, 10.86, 3.36, 27.936000000000003, 28.784, 21.96, 21.98, 2621.322, 74.75999999999999, 364.77600000000007, 1115.17, 89.69600000000001, 50.12, 36.480000000000004, 322.192, 2.9459999999999993, 19.136000000000003, 23.08, 90.48, 215.976, 65.94, 11.352000000000002, 24.56, 16.56, 279.95, 828.8399999999999, 7.218, 27.200000000000003, 89.97, 318.08, 5.8, 143.952, 19.44, 5.56, 146.73, 29.900000000000002, 276.78400000000005, 93.03199999999998, 454.965, 246.168, 295.4, 348.56, 15.552000000000003, 482.93999999999994, 299.98, 403.68, 41.9, 28.91, 32.400000000000006, 369.544, 10.368000000000002, 791.8799999999999, 23.64, 84.784, 64.96, 32.059999999999995, 177.64800000000002, 287.90999999999997, 22.368000000000002, 32.368, 207.98400000000004, 36.4, 22.96, 315.2, 15.18, 623.96, 429.59999999999997, 31.968000000000004, 887.2709999999998, 21.696, 22.05, 99.9, 90.86, 7.78, 78.75900000000001, 9.552, 5.344, 8.28, 50.135999999999996, 88.07400000000001, 301.46999999999997, 18.656000000000002, 27.46, 125.13, 555.96, 129.552, 51.98400000000001, 10.272000000000002, 18.336000000000002, 180.96, 475.944, 159.98, 43.6, 8.288, 1123.1280000000002, 64.9, 2.807999999999999, 99.98, 8.040000000000001, 1564.29, 138.56, 65.52000000000001, 14.576, 23.200000000000003, 16.464, 19.312, 40.08, 101.96, 259.74, 255.42, 4.338000000000001, 11.880000000000003, 405.85999999999996, 680.01, 2.3760000000000003, 143.12799999999996, 4476.8, 104.85, 241.44, 319.76, 45.68, 31.96, 47.9, 1112.94, 22.919999999999998, 71.976, 19.44, 31.086000000000006, 13.98, 23.65, 707.88, 11.952000000000002, 31.128000000000004, 55.76, 24.56, 51.75, 207.18400000000003, 1473.1, 3.4880000000000004, 21.728, 663.072, 99.58800000000001, 49.568000000000005, 29.371999999999993, 344.704, 47.992000000000004, 102.24000000000001, 39.96, 1432.0000000000002, 41.04, 256.78400000000005, 120.98, 315.98, 28.752000000000002, 114.94999999999999, 23.04, 15.48, 51.84, 39.816, 16.06, 7.28, 5.4, 19.44, 39.88, 79.44, 20.664, 32.400000000000006, 13.761999999999997, 15.28, 44.688, 301.46999999999997, 11.07, 1504.52, 25.92, 7.535999999999999, 1.4079999999999997, 4.143999999999999, 52.751999999999995, 381.35999999999996, 6.72, 15.192, 58.32000000000001, 946.7640000000002, 94.67999999999999, 23.669999999999998, 1091.1680000000001, 18.689999999999998, 568.7280000000001, 7.312000000000001, 147.568, 56.784, 5.607000000000001, 6.5760000000000005, 14.303999999999998, 119.83299999999998, 5.56, 32.400000000000006, 9.84, 2.78, 3.64, 881.93, 115.84, 107.64800000000001, 199.95000000000002, 12.96, 60.89, 14.940000000000001, 9.64, 332.94, 51.900000000000006, 64.96, 25.5, 215.976, 389.97, 269.90999999999997, 11.673000000000002, 64.84800000000001, 14.56, 102.58200000000001, 20.04, 32.088, 4305.552000000001, 10.02, 631.96, 1577.94, 255.84999999999997, 184.704, 47.92, 15.936000000000002, 8.001000000000001, 398.972, 163.88, 67.9, 72.224, 11.696, 392.93999999999994, 18.176, 6.887999999999998, 457.4849999999999, 1079.316, 48.91, 9.84, 34.5, 0.5559999999999998, 43.8, 13.872000000000002, 115.96, 41.42400000000001, 244.768, 74.352, 4.3119999999999985, 56.686, 97.968, 7.872, 15.552000000000003, 1.4759999999999998, 8.4, 6.56, 14.88, 45.48, 25.44, 146.68800000000002, 4.928000000000001, 63.488, 418.32, 123.858, 118.78199999999998, 769.1840000000001, 47.904, 13.36, 163.764, 183.92, 11.376000000000001, 66.11200000000001, 211.04, 594.816, 72.96000000000001, 80.96, 455.712, 25.98, 45.28, 15.56, 859.2, 195.68, 14.2, 314.352, 4.608, 17.9, 2.9920000000000004, 20.064, 146.73, 18.75, 117.57600000000002, 51.18400000000001, 455.97, 5.715000000000002, 57.593999999999994, 30.144000000000002, 899.43, 842.72, 41.96, 13.216000000000001, 184.752, 520.4639999999999, 11.424, 19.44, 3.64, 18.54, 43.120000000000005, 313.722, 45.98, 428.68, 30.576, 13.020000000000001, 22.14, 359.32, 11.56, 68.48, 1676.88, 37.94, 272.96999999999997, 41.568000000000005, 317.058, 8.04, 419.94399999999996, 61.38, 50.0, 31.799999999999997, 32.56, 7.072, 45.528, 64.784, 424.27200000000005, 1.344, 83.92000000000002, 25.92, 120.57600000000001, 79.92, 12.28, 542.9399999999999, 2.04, 228.92, 7.992000000000001, 582.336, 629.9499999999999, 631.782, 801.5680000000001, 75.17999999999999, 30.98, 1349.91, 14.111999999999998, 31.12, 4.272, 209.148, 1591.02, 7.92, 574.91, 8.448, 1071.0, 12.07, 3.2730000000000006, 87.92, 104.69600000000001, 2803.92, 6.815999999999998, 249.58400000000003, 17.94, 10.11, 10.368000000000002, 11.952000000000002, 15.223999999999997, 21.983999999999995, 604.752, 40.7, 302.376, 45.0, 3785.2920000000004, 35.4, 199.89999999999998, 1212.9599999999998, 1099.96, 103.48100000000001, 5.904, 30.080000000000002, 36.28800000000001, 10.272000000000002, 252.8, 2.9460000000000006, 12.96, 285.57599999999996, 22.240000000000002, 14.62, 48.36, 16.256, 219.18400000000003, 95.84, 12.39, 35.88, 477.29999999999995, 12.32, 8.608, 136.26, 186.14999999999998, 81.792, 47.19, 36.784, 91.475, 27.192, 12.059999999999999, 144.60000000000002, 15.991999999999999, 34.44, 321.552, 701.96, 19.456000000000003, 17.28, 31.96, 164.68800000000002, 166.5, 12.96, 110.96, 99.98, 11.424, 128.12400000000002, 101.4, 5.904, 173.48800000000003, 51.56, 3.563999999999999, 13.16, 3.8279999999999994, 304.98999999999995, 18.16, 319.98400000000004, 19.68, 781.8639999999999, 30.816000000000003, 673.3439999999999, 6.540000000000001, 572.8000000000001, 197.04999999999998, 2022.2720000000002, 9.120000000000001, 38.160000000000004, 1592.8500000000001, 11.88, 120.0, 8.67, 4.41, 167.94, 67.8, 26.94, 32.04, 32.129999999999995, 2.88, 1091.93, 111.96, 26.7, 40.199999999999996, 13.89, 689.8199999999999, 38.339999999999996, 9.263999999999998, 204.66639999999998, 1649.75, 91.056, 54.208, 26.982, 6.911999999999999, 435.504, 81.08, 93.02, 323.97600000000006, 15.552000000000003, 32.592, 83.92000000000002, 199.89999999999998, 31.176000000000002, 172.752, 9.296, 12.768, 52.76, 55.616, 427.644, 40.669999999999995, 33.48, 9.728000000000002, 8.856, 477.666, 16.9, 39.96, 191.96800000000002, 35.52, 6.229999999999999, 56.704, 369.19919999999996, 1.98, 75.88, 6.848000000000001, 4.626, 453.6, 13.847999999999999, 577.5840000000001, 151.96, 68.43200000000002, 71.12, 3.008, 184.66, 5.312, 132.52000000000004, 195.64, 51.967999999999996, 431.97600000000006, 224.93700000000004, 6.0, 11.76, 1125.4879999999998, 12.645000000000001, 4.032, 79.96, 6.732000000000002, 33.568000000000005, 15.840000000000002, 24.424000000000003, 17.12, 31.56, 105.68599999999999, 399.53999999999996, 104.93, 1079.85, 70.98, 29.950000000000003, 589.41, 9.648, 400.78400000000005, 53.72, 31.008, 61.120000000000005, 195.136, 121.536, 17.472, 104.57999999999998, 24.700000000000003, 302.72, 8.56, 11.56, 25.86, 276.78400000000005, 110.352, 60.84, 35.208, 41.47200000000001, 239.5, 34.2, 376.866, 197.72, 70.72000000000001, 194.35200000000003, 21.6, 11.07, 282.84, 27.72, 11.68, 239.98400000000004, 22.98, 102.13, 2033.584, 5.76, 899.982, 86.352, 139.96000000000004, 16.704, 3.152, 32.896, 21.391999999999992, 307.314, 409.9992, 9.248000000000001, 14.669999999999998, 37.408, 3.4380000000000006, 7.151999999999999, 179.7, 90.64, 177.0, 79.45, 1628.82, 137.54, 730.2, 11.56, 4297.644, 20.65, 204.89999999999998, 436.70400000000006, 481.56800000000004, 89.54400000000001, 35.168, 72.58800000000001, 221.16, 281.96999999999997, 3406.664, 37.17, 64.96, 595.38, 95.98400000000001, 4.938000000000001, 97.44, 3.9840000000000004, 13.04, 579.528, 18.75, 3023.9280000000003, 26.96, 477.6, 193.95000000000002, 12.96, 119.94, 12.419999999999998, 18.088, 71.97, 14.940000000000001, 64.68, 22.0, 7.968000000000001, 1499.9699999999998, 26.632, 41.6, 64.02, 6.99, 6.84, 323.1, 668.16, 8.64, 38.88, 201.04, 12.96, 16.59, 35.099999999999994, 11.645999999999997, 32.400000000000006, 503.96, 7.04, 613.9992, 470.35999999999996, 31.08, 7.3, 73.536, 491.55, 30.336000000000002, 22.830000000000002, 54.32, 196.776, 3.62, 11.54, 849.95, 11.01, 39.62400000000001, 242.13600000000002, 12.39, 19.96, 340.92, 273.568, 13.194, 1080.096, 51.56, 58.416, 57.584, 37.312000000000005, 79.96, 223.96, 221.024, 18.96, 326.646, 89.97, 296.71200000000005, 12.224, 89.97, 286.85999999999996, 979.95, 4.36, 10.048000000000002, 807.75, 34.24, 500.23999999999995, 20.12, 896.99, 5.88, 269.98, 310.12, 70.464, 19.68, 140.67000000000002, 4404.9, 62.65, 9.45, 268.576, 364.08000000000004, 71.08800000000001, 10.984000000000002, 797.944, 159.98, 5.344, 27.72, 2.4960000000000004, 8.26, 17.76, 332.94, 292.1, 206.1, 17.64, 1403.9200000000003, 4.3, 239.96999999999997, 81.96, 238.62, 139.8, 9.84, 7.78, 54.900000000000006, 50.04, 339.9200000000001, 10.528, 42.384, 123.92000000000002, 135.95, 2177.5839999999994, 17.496000000000002, 16.783999999999995, 431.136, 8.879999999999999, 4.8359999999999985, 437.84999999999997, 673.5680000000001, 274.8, 62.18, 8.28, 48.81, 149.9, 1023.3319999999999, 600.558, 39.992000000000004, 211.24599999999998, 56.06399999999999, 107.772, 4.832000000000001, 18.239999999999995, 3.797999999999999, 10.368000000000002, 235.188, 26.376, 10.384, 107.118, 97.3, 3.3280000000000003, 135.99, 7.38, 45.568000000000005, 28.752000000000006, 194.848, 2.1119999999999997, 25.920000000000005, 120.76800000000001, 25.92, 34.650000000000006, 204.95000000000002, 79.95, 173.48800000000003, 516.96, 173.208, 4.4479999999999995, 9.0, 42.24, 18.264000000000003, 152.91, 92.94, 17.856, 46.440000000000005, 195.136, 129.3, 11.568000000000001, 242.35200000000003, 319.968, 8.624000000000002, 3.9840000000000004, 895.9440000000002, 14.0, 16.391999999999996, 10.9, 29.6, 4.98, 479.97600000000006, 44.736000000000004, 5.76, 483.13599999999997, 15.936000000000002, 61.544, 132.696, 43.099999999999994, 511.5, 147.92, 39.68, 12.56, 90.48000000000002, 13.08, 214.7, 50.32, 24.56, 43.68, 3393.68, 67.4, 2.52, 67.8, 18.76, 12.12, 11.34, 159.8, 18.96, 1085.42, 13.11, 68.704, 3.132, 22.428000000000004, 290.336, 19.152, 6.48, 63.967999999999996, 6.36, 848.5440000000001, 8.700000000000001, 122.38199999999999, 573.174, 85.056, 14.04, 272.61, 11.16, 62.31, 159.98, 5.9399999999999995, 9.96, 79.99, 8.94, 20.62, 124.25, 297.55, 403.56, 95.19999999999999, 153.824, 62.016, 466.32000000000005, 82.64, 330.588, 237.09600000000003, 22.752000000000002, 6.672000000000001, 25.128000000000004, 127.984, 131.88, 25.031999999999996, 717.72, 207.35, 44.67, 209.7, 115.36, 362.13599999999997, 31.049999999999997, 12.96, 94.85, 13.48, 14.91, 39.98, 528.43, 22.385999999999996, 5.742000000000001, 191.96800000000002, 49.848, 23.99, 1087.9360000000001, 199.98, 83.92, 24.27, 2799.9600000000005, 9.872, 683.332, 29.96, 164.85000000000002, 33.528000000000006, 36.744, 102.93, 71.08800000000001, 60.35, 35.52, 11.200000000000001, 223.58, 998.82, 51.150000000000006, 40.74, 3.4240000000000004, 151.20000000000002, 1925.88, 2405.2, 83.97, 39.89, 17.38, 55.264, 6.48, 34.248000000000005, 273.568, 46.349999999999994, 223.92, 7.3, 9.344, 18.0, 65.584, 383.46559999999994, 10.368000000000002, 13.4, 4.98, 109.69, 40.199999999999996, 735.98, 22.75, 119.56, 140.75, 99.568, 271.96, 18.689999999999998, 13.36, 249.58400000000003, 13.86, 13.376, 437.4720000000001, 85.98, 16.520000000000003, 35.56, 97.98, 31.5, 55.6, 36.24, 79.99, 206.1, 25.248, 91.96, 258.576, 29.6, 243.16], \"yaxis\": \"y\"}],\n",
              "                        {\"barmode\": \"relative\", \"legend\": {\"tracegroupgap\": 0}, \"margin\": {\"t\": 60}, \"template\": {\"data\": {\"bar\": [{\"error_x\": {\"color\": \"#2a3f5f\"}, \"error_y\": {\"color\": \"#2a3f5f\"}, \"marker\": {\"line\": {\"color\": \"#E5ECF6\", \"width\": 0.5}}, \"type\": \"bar\"}], \"barpolar\": [{\"marker\": {\"line\": {\"color\": \"#E5ECF6\", \"width\": 0.5}}, \"type\": \"barpolar\"}], \"carpet\": [{\"aaxis\": {\"endlinecolor\": \"#2a3f5f\", \"gridcolor\": \"white\", \"linecolor\": \"white\", \"minorgridcolor\": \"white\", \"startlinecolor\": \"#2a3f5f\"}, \"baxis\": {\"endlinecolor\": \"#2a3f5f\", \"gridcolor\": \"white\", \"linecolor\": \"white\", \"minorgridcolor\": \"white\", \"startlinecolor\": \"#2a3f5f\"}, \"type\": \"carpet\"}], \"choropleth\": [{\"colorbar\": {\"outlinewidth\": 0, \"ticks\": \"\"}, \"type\": \"choropleth\"}], \"contour\": [{\"colorbar\": {\"outlinewidth\": 0, \"ticks\": \"\"}, \"colorscale\": [[0.0, \"#0d0887\"], [0.1111111111111111, \"#46039f\"], [0.2222222222222222, \"#7201a8\"], [0.3333333333333333, \"#9c179e\"], [0.4444444444444444, \"#bd3786\"], [0.5555555555555556, \"#d8576b\"], [0.6666666666666666, \"#ed7953\"], [0.7777777777777778, \"#fb9f3a\"], [0.8888888888888888, \"#fdca26\"], [1.0, \"#f0f921\"]], \"type\": \"contour\"}], \"contourcarpet\": [{\"colorbar\": {\"outlinewidth\": 0, \"ticks\": \"\"}, \"type\": \"contourcarpet\"}], \"heatmap\": [{\"colorbar\": {\"outlinewidth\": 0, \"ticks\": \"\"}, \"colorscale\": [[0.0, \"#0d0887\"], [0.1111111111111111, \"#46039f\"], [0.2222222222222222, \"#7201a8\"], [0.3333333333333333, \"#9c179e\"], [0.4444444444444444, \"#bd3786\"], [0.5555555555555556, \"#d8576b\"], [0.6666666666666666, \"#ed7953\"], [0.7777777777777778, \"#fb9f3a\"], [0.8888888888888888, \"#fdca26\"], [1.0, \"#f0f921\"]], \"type\": \"heatmap\"}], \"heatmapgl\": [{\"colorbar\": {\"outlinewidth\": 0, \"ticks\": \"\"}, \"colorscale\": [[0.0, \"#0d0887\"], [0.1111111111111111, \"#46039f\"], [0.2222222222222222, \"#7201a8\"], [0.3333333333333333, \"#9c179e\"], [0.4444444444444444, \"#bd3786\"], [0.5555555555555556, \"#d8576b\"], [0.6666666666666666, \"#ed7953\"], [0.7777777777777778, \"#fb9f3a\"], [0.8888888888888888, \"#fdca26\"], [1.0, \"#f0f921\"]], \"type\": \"heatmapgl\"}], \"histogram\": [{\"marker\": {\"colorbar\": {\"outlinewidth\": 0, \"ticks\": \"\"}}, \"type\": \"histogram\"}], \"histogram2d\": [{\"colorbar\": {\"outlinewidth\": 0, \"ticks\": \"\"}, \"colorscale\": [[0.0, \"#0d0887\"], [0.1111111111111111, \"#46039f\"], [0.2222222222222222, \"#7201a8\"], [0.3333333333333333, \"#9c179e\"], [0.4444444444444444, \"#bd3786\"], [0.5555555555555556, \"#d8576b\"], [0.6666666666666666, \"#ed7953\"], [0.7777777777777778, \"#fb9f3a\"], [0.8888888888888888, \"#fdca26\"], [1.0, \"#f0f921\"]], \"type\": \"histogram2d\"}], \"histogram2dcontour\": [{\"colorbar\": {\"outlinewidth\": 0, \"ticks\": \"\"}, \"colorscale\": [[0.0, \"#0d0887\"], [0.1111111111111111, \"#46039f\"], [0.2222222222222222, \"#7201a8\"], [0.3333333333333333, \"#9c179e\"], [0.4444444444444444, \"#bd3786\"], [0.5555555555555556, \"#d8576b\"], [0.6666666666666666, \"#ed7953\"], [0.7777777777777778, \"#fb9f3a\"], [0.8888888888888888, \"#fdca26\"], [1.0, \"#f0f921\"]], \"type\": \"histogram2dcontour\"}], \"mesh3d\": [{\"colorbar\": {\"outlinewidth\": 0, \"ticks\": \"\"}, \"type\": \"mesh3d\"}], \"parcoords\": [{\"line\": {\"colorbar\": {\"outlinewidth\": 0, \"ticks\": \"\"}}, \"type\": \"parcoords\"}], \"pie\": [{\"automargin\": true, \"type\": \"pie\"}], \"scatter\": [{\"marker\": {\"colorbar\": {\"outlinewidth\": 0, \"ticks\": \"\"}}, \"type\": \"scatter\"}], \"scatter3d\": [{\"line\": {\"colorbar\": {\"outlinewidth\": 0, \"ticks\": \"\"}}, \"marker\": {\"colorbar\": {\"outlinewidth\": 0, \"ticks\": \"\"}}, \"type\": \"scatter3d\"}], \"scattercarpet\": [{\"marker\": {\"colorbar\": {\"outlinewidth\": 0, \"ticks\": \"\"}}, \"type\": \"scattercarpet\"}], \"scattergeo\": [{\"marker\": {\"colorbar\": {\"outlinewidth\": 0, \"ticks\": \"\"}}, \"type\": \"scattergeo\"}], \"scattergl\": [{\"marker\": {\"colorbar\": {\"outlinewidth\": 0, \"ticks\": \"\"}}, \"type\": \"scattergl\"}], \"scattermapbox\": [{\"marker\": {\"colorbar\": {\"outlinewidth\": 0, \"ticks\": \"\"}}, \"type\": \"scattermapbox\"}], \"scatterpolar\": [{\"marker\": {\"colorbar\": {\"outlinewidth\": 0, \"ticks\": \"\"}}, \"type\": \"scatterpolar\"}], \"scatterpolargl\": [{\"marker\": {\"colorbar\": {\"outlinewidth\": 0, \"ticks\": \"\"}}, \"type\": \"scatterpolargl\"}], \"scatterternary\": [{\"marker\": {\"colorbar\": {\"outlinewidth\": 0, \"ticks\": \"\"}}, \"type\": \"scatterternary\"}], \"surface\": [{\"colorbar\": {\"outlinewidth\": 0, \"ticks\": \"\"}, \"colorscale\": [[0.0, \"#0d0887\"], [0.1111111111111111, \"#46039f\"], [0.2222222222222222, \"#7201a8\"], [0.3333333333333333, \"#9c179e\"], [0.4444444444444444, \"#bd3786\"], [0.5555555555555556, \"#d8576b\"], [0.6666666666666666, \"#ed7953\"], [0.7777777777777778, \"#fb9f3a\"], [0.8888888888888888, \"#fdca26\"], [1.0, \"#f0f921\"]], \"type\": \"surface\"}], \"table\": [{\"cells\": {\"fill\": {\"color\": \"#EBF0F8\"}, \"line\": {\"color\": \"white\"}}, \"header\": {\"fill\": {\"color\": \"#C8D4E3\"}, \"line\": {\"color\": \"white\"}}, \"type\": \"table\"}]}, \"layout\": {\"annotationdefaults\": {\"arrowcolor\": \"#2a3f5f\", \"arrowhead\": 0, \"arrowwidth\": 1}, \"coloraxis\": {\"colorbar\": {\"outlinewidth\": 0, \"ticks\": \"\"}}, \"colorscale\": {\"diverging\": [[0, \"#8e0152\"], [0.1, \"#c51b7d\"], [0.2, \"#de77ae\"], [0.3, \"#f1b6da\"], [0.4, \"#fde0ef\"], [0.5, \"#f7f7f7\"], [0.6, \"#e6f5d0\"], [0.7, \"#b8e186\"], [0.8, \"#7fbc41\"], [0.9, \"#4d9221\"], [1, \"#276419\"]], \"sequential\": [[0.0, \"#0d0887\"], [0.1111111111111111, \"#46039f\"], [0.2222222222222222, \"#7201a8\"], [0.3333333333333333, \"#9c179e\"], [0.4444444444444444, \"#bd3786\"], [0.5555555555555556, \"#d8576b\"], [0.6666666666666666, \"#ed7953\"], [0.7777777777777778, \"#fb9f3a\"], [0.8888888888888888, \"#fdca26\"], [1.0, \"#f0f921\"]], \"sequentialminus\": [[0.0, \"#0d0887\"], [0.1111111111111111, \"#46039f\"], [0.2222222222222222, \"#7201a8\"], [0.3333333333333333, \"#9c179e\"], [0.4444444444444444, \"#bd3786\"], [0.5555555555555556, \"#d8576b\"], [0.6666666666666666, \"#ed7953\"], [0.7777777777777778, \"#fb9f3a\"], [0.8888888888888888, \"#fdca26\"], [1.0, \"#f0f921\"]]}, \"colorway\": [\"#636efa\", \"#EF553B\", \"#00cc96\", \"#ab63fa\", \"#FFA15A\", \"#19d3f3\", \"#FF6692\", \"#B6E880\", \"#FF97FF\", \"#FECB52\"], \"font\": {\"color\": \"#2a3f5f\"}, \"geo\": {\"bgcolor\": \"white\", \"lakecolor\": \"white\", \"landcolor\": \"#E5ECF6\", \"showlakes\": true, \"showland\": true, \"subunitcolor\": \"white\"}, \"hoverlabel\": {\"align\": \"left\"}, \"hovermode\": \"closest\", \"mapbox\": {\"style\": \"light\"}, \"paper_bgcolor\": \"white\", \"plot_bgcolor\": \"#E5ECF6\", \"polar\": {\"angularaxis\": {\"gridcolor\": \"white\", \"linecolor\": \"white\", \"ticks\": \"\"}, \"bgcolor\": \"#E5ECF6\", \"radialaxis\": {\"gridcolor\": \"white\", \"linecolor\": \"white\", \"ticks\": \"\"}}, \"scene\": {\"xaxis\": {\"backgroundcolor\": \"#E5ECF6\", \"gridcolor\": \"white\", \"gridwidth\": 2, \"linecolor\": \"white\", \"showbackground\": true, \"ticks\": \"\", \"zerolinecolor\": \"white\"}, \"yaxis\": {\"backgroundcolor\": \"#E5ECF6\", \"gridcolor\": \"white\", \"gridwidth\": 2, \"linecolor\": \"white\", \"showbackground\": true, \"ticks\": \"\", \"zerolinecolor\": \"white\"}, \"zaxis\": {\"backgroundcolor\": \"#E5ECF6\", \"gridcolor\": \"white\", \"gridwidth\": 2, \"linecolor\": \"white\", \"showbackground\": true, \"ticks\": \"\", \"zerolinecolor\": \"white\"}}, \"shapedefaults\": {\"line\": {\"color\": \"#2a3f5f\"}}, \"ternary\": {\"aaxis\": {\"gridcolor\": \"white\", \"linecolor\": \"white\", \"ticks\": \"\"}, \"baxis\": {\"gridcolor\": \"white\", \"linecolor\": \"white\", \"ticks\": \"\"}, \"bgcolor\": \"#E5ECF6\", \"caxis\": {\"gridcolor\": \"white\", \"linecolor\": \"white\", \"ticks\": \"\"}}, \"title\": {\"x\": 0.05}, \"xaxis\": {\"automargin\": true, \"gridcolor\": \"white\", \"linecolor\": \"white\", \"ticks\": \"\", \"title\": {\"standoff\": 15}, \"zerolinecolor\": \"white\", \"zerolinewidth\": 2}, \"yaxis\": {\"automargin\": true, \"gridcolor\": \"white\", \"linecolor\": \"white\", \"ticks\": \"\", \"title\": {\"standoff\": 15}, \"zerolinecolor\": \"white\", \"zerolinewidth\": 2}}}, \"xaxis\": {\"anchor\": \"y\", \"domain\": [0.0, 1.0], \"title\": {\"text\": \"Ship_month\"}}, \"yaxis\": {\"anchor\": \"x\", \"domain\": [0.0, 1.0], \"title\": {\"text\": \"count of Sales\"}}},\n",
              "                        {\"responsive\": true}\n",
              "                    ).then(function(){\n",
              "                            \n",
              "var gd = document.getElementById('f6b23436-4449-402a-b701-65878474cef8');\n",
              "var x = new MutationObserver(function (mutations, observer) {{\n",
              "        var display = window.getComputedStyle(gd).display;\n",
              "        if (!display || display === 'none') {{\n",
              "            console.log([gd, 'removed!']);\n",
              "            Plotly.purge(gd);\n",
              "            observer.disconnect();\n",
              "        }}\n",
              "}});\n",
              "\n",
              "// Listen for the removal of the full notebook cells\n",
              "var notebookContainer = gd.closest('#notebook-container');\n",
              "if (notebookContainer) {{\n",
              "    x.observe(notebookContainer, {childList: true});\n",
              "}}\n",
              "\n",
              "// Listen for the clearing of the current output cell\n",
              "var outputEl = gd.closest('.output');\n",
              "if (outputEl) {{\n",
              "    x.observe(outputEl, {childList: true});\n",
              "}}\n",
              "\n",
              "                        })\n",
              "                };\n",
              "                \n",
              "            </script>\n",
              "        </div>\n",
              "</body>\n",
              "</html>"
            ]
          },
          "metadata": {
            "tags": []
          }
        }
      ]
    },
    {
      "cell_type": "markdown",
      "metadata": {
        "id": "kY8jiUUF-Uer"
      },
      "source": [
        "We can clearly see that the max increase in sales ouccured between month 8 and month 9.\n",
        "Sales in month 8= 674\n",
        "Sales in month 9= 1356\n",
        "Increase in Sales= 1356-674= 682"
      ]
    },
    {
      "cell_type": "markdown",
      "metadata": {
        "id": "xdtQPL2L-2KA"
      },
      "source": [
        "To make a genralised observation, we will simply plot the data to see a historic trend"
      ]
    },
    {
      "cell_type": "code",
      "metadata": {
        "id": "dp1zG6t192Bq",
        "outputId": "c0e4a556-6f4a-4f81-8eca-57e41f10b42e",
        "colab": {
          "base_uri": "https://localhost:8080/",
          "height": 297
        }
      },
      "source": [
        "df_temp.groupby('Order_month')['Sales'].agg(['sum']).plot()"
      ],
      "execution_count": null,
      "outputs": [
        {
          "output_type": "execute_result",
          "data": {
            "text/plain": [
              "<matplotlib.axes._subplots.AxesSubplot at 0x7f1c595ec160>"
            ]
          },
          "metadata": {
            "tags": []
          },
          "execution_count": 31
        },
        {
          "output_type": "display_data",
          "data": {
            "image/png": "[encoded data removed]",
            "text/plain": [
              "<Figure size 432x288 with 1 Axes>"
            ]
          },
          "metadata": {
            "tags": [],
            "needs_background": "light"
          }
        }
      ]
    },
    {
      "cell_type": "markdown",
      "metadata": {
        "id": "rJWSLakd_Zmi"
      },
      "source": [
        "We can see that the revenue vs month follows a very uncertain trend. Most online sellers face such a trend but it's very hard to come to a logical conclusion just by this graph. \n",
        "Let's dive a little deeper \n"
      ]
    },
    {
      "cell_type": "code",
      "metadata": {
        "id": "g2p2MYqT_Gtk",
        "outputId": "ed97c88c-4e2b-4cd8-fd95-6ea4644f5dd7",
        "colab": {
          "base_uri": "https://localhost:8080/",
          "height": 297
        }
      },
      "source": [
        "df_temp.groupby('Order_month')['Sales'].agg(['mean']).plot()"
      ],
      "execution_count": null,
      "outputs": [
        {
          "output_type": "execute_result",
          "data": {
            "text/plain": [
              "<matplotlib.axes._subplots.AxesSubplot at 0x7f1c59557278>"
            ]
          },
          "metadata": {
            "tags": []
          },
          "execution_count": 32
        },
        {
          "output_type": "display_data",
          "data": {
            "image/png": "[encoded data removed]",
            "text/plain": [
              "<Figure size 432x288 with 1 Axes>"
            ]
          },
          "metadata": {
            "tags": [],
            "needs_background": "light"
          }
        }
      ]
    },
    {
      "cell_type": "markdown",
      "metadata": {
        "id": "4xseMf82Ae_4"
      },
      "source": [
        "It's clear that the highest jump was during the third month. This doesnt seem to be seasonal as this is the only spike in the data. It could be an indicator of the face that the seller may have reduced the price, offered some discounts or greatly improved upon the product quality for that month(highly unlikely)\n",
        "\n",
        "If we were to dig deeper, it could also be safe to assume that the seller may have run a massive ad campaign as this would have allowed the seller to advertise their product to a much bigger audience and drive up sales.\n",
        "\n",
        "The above however does not seem to be the case as the mean sales for the next month are much poor. And considering that new customers tend to be loyal, if the product is good, it does raise some other questions."
      ]
    },
    {
      "cell_type": "markdown",
      "metadata": {
        "id": "BLTR1RquEVzm"
      },
      "source": [
        "Let us now advance to product analysis\n"
      ]
    },
    {
      "cell_type": "code",
      "metadata": {
        "id": "Z65L8qCMBga1",
        "outputId": "4b1b2764-979d-4071-9cc0-2aa66bfe74a6",
        "colab": {
          "base_uri": "https://localhost:8080/",
          "height": 547
        }
      },
      "source": [
        "#quick look at the dataset\n",
        "df_temp.head()"
      ],
      "execution_count": null,
      "outputs": [
        {
          "output_type": "execute_result",
          "data": {
            "text/html": [
              "<div>\n",
              "<style scoped>\n",
              "    .dataframe tbody tr th:only-of-type {\n",
              "        vertical-align: middle;\n",
              "    }\n",
              "\n",
              "    .dataframe tbody tr th {\n",
              "        vertical-align: top;\n",
              "    }\n",
              "\n",
              "    .dataframe thead th {\n",
              "        text-align: right;\n",
              "    }\n",
              "</style>\n",
              "<table border=\"1\" class=\"dataframe\">\n",
              "  <thead>\n",
              "    <tr style=\"text-align: right;\">\n",
              "      <th></th>\n",
              "      <th>Row ID</th>\n",
              "      <th>Order ID</th>\n",
              "      <th>Order_date</th>\n",
              "      <th>Ship_Date</th>\n",
              "      <th>Ship Mode</th>\n",
              "      <th>Customer ID</th>\n",
              "      <th>Customer Name</th>\n",
              "      <th>Segment</th>\n",
              "      <th>Country</th>\n",
              "      <th>City</th>\n",
              "      <th>State</th>\n",
              "      <th>Postal Code</th>\n",
              "      <th>Region</th>\n",
              "      <th>Product ID</th>\n",
              "      <th>Category</th>\n",
              "      <th>Sub-Category</th>\n",
              "      <th>Product Name</th>\n",
              "      <th>Sales</th>\n",
              "      <th>Quantity</th>\n",
              "      <th>Discount</th>\n",
              "      <th>Profit</th>\n",
              "      <th>Order_year</th>\n",
              "      <th>Order_month</th>\n",
              "      <th>Order_day</th>\n",
              "      <th>Ship_year</th>\n",
              "      <th>Ship_month</th>\n",
              "      <th>Ship_day</th>\n",
              "      <th>Per_unit_price</th>\n",
              "    </tr>\n",
              "  </thead>\n",
              "  <tbody>\n",
              "    <tr>\n",
              "      <th>0</th>\n",
              "      <td>1</td>\n",
              "      <td>CA-2016-152156</td>\n",
              "      <td>2016-11-08</td>\n",
              "      <td>2016-11-11</td>\n",
              "      <td>Second Class</td>\n",
              "      <td>CG-12520</td>\n",
              "      <td>Claire Gute</td>\n",
              "      <td>Consumer</td>\n",
              "      <td>United States</td>\n",
              "      <td>Henderson</td>\n",
              "      <td>Kentucky</td>\n",
              "      <td>42420</td>\n",
              "      <td>South</td>\n",
              "      <td>FUR-BO-10001798</td>\n",
              "      <td>Furniture</td>\n",
              "      <td>Bookcases</td>\n",
              "      <td>Bush Somerset Collection Bookcase</td>\n",
              "      <td>261.9600</td>\n",
              "      <td>2</td>\n",
              "      <td>0.00</td>\n",
              "      <td>41.9136</td>\n",
              "      <td>2016</td>\n",
              "      <td>11</td>\n",
              "      <td>8</td>\n",
              "      <td>2016</td>\n",
              "      <td>11</td>\n",
              "      <td>11</td>\n",
              "      <td>130.9800</td>\n",
              "    </tr>\n",
              "    <tr>\n",
              "      <th>1</th>\n",
              "      <td>2</td>\n",
              "      <td>CA-2016-152156</td>\n",
              "      <td>2016-11-08</td>\n",
              "      <td>2016-11-11</td>\n",
              "      <td>Second Class</td>\n",
              "      <td>CG-12520</td>\n",
              "      <td>Claire Gute</td>\n",
              "      <td>Consumer</td>\n",
              "      <td>United States</td>\n",
              "      <td>Henderson</td>\n",
              "      <td>Kentucky</td>\n",
              "      <td>42420</td>\n",
              "      <td>South</td>\n",
              "      <td>FUR-CH-10000454</td>\n",
              "      <td>Furniture</td>\n",
              "      <td>Chairs</td>\n",
              "      <td>Hon Deluxe Fabric Upholstered Stacking Chairs,...</td>\n",
              "      <td>731.9400</td>\n",
              "      <td>3</td>\n",
              "      <td>0.00</td>\n",
              "      <td>219.5820</td>\n",
              "      <td>2016</td>\n",
              "      <td>11</td>\n",
              "      <td>8</td>\n",
              "      <td>2016</td>\n",
              "      <td>11</td>\n",
              "      <td>11</td>\n",
              "      <td>243.9800</td>\n",
              "    </tr>\n",
              "    <tr>\n",
              "      <th>2</th>\n",
              "      <td>3</td>\n",
              "      <td>CA-2016-138688</td>\n",
              "      <td>2016-06-12</td>\n",
              "      <td>2016-06-16</td>\n",
              "      <td>Second Class</td>\n",
              "      <td>DV-13045</td>\n",
              "      <td>Darrin Van Huff</td>\n",
              "      <td>Corporate</td>\n",
              "      <td>United States</td>\n",
              "      <td>Los Angeles</td>\n",
              "      <td>California</td>\n",
              "      <td>90036</td>\n",
              "      <td>West</td>\n",
              "      <td>OFF-LA-10000240</td>\n",
              "      <td>Office Supplies</td>\n",
              "      <td>Labels</td>\n",
              "      <td>Self-Adhesive Address Labels for Typewriters b...</td>\n",
              "      <td>14.6200</td>\n",
              "      <td>2</td>\n",
              "      <td>0.00</td>\n",
              "      <td>6.8714</td>\n",
              "      <td>2016</td>\n",
              "      <td>6</td>\n",
              "      <td>12</td>\n",
              "      <td>2016</td>\n",
              "      <td>6</td>\n",
              "      <td>16</td>\n",
              "      <td>7.3100</td>\n",
              "    </tr>\n",
              "    <tr>\n",
              "      <th>3</th>\n",
              "      <td>4</td>\n",
              "      <td>US-2015-108966</td>\n",
              "      <td>2015-10-11</td>\n",
              "      <td>2015-10-18</td>\n",
              "      <td>Standard Class</td>\n",
              "      <td>SO-20335</td>\n",
              "      <td>Sean O'Donnell</td>\n",
              "      <td>Consumer</td>\n",
              "      <td>United States</td>\n",
              "      <td>Fort Lauderdale</td>\n",
              "      <td>Florida</td>\n",
              "      <td>33311</td>\n",
              "      <td>South</td>\n",
              "      <td>FUR-TA-10000577</td>\n",
              "      <td>Furniture</td>\n",
              "      <td>Tables</td>\n",
              "      <td>Bretford CR4500 Series Slim Rectangular Table</td>\n",
              "      <td>957.5775</td>\n",
              "      <td>5</td>\n",
              "      <td>0.45</td>\n",
              "      <td>-383.0310</td>\n",
              "      <td>2015</td>\n",
              "      <td>10</td>\n",
              "      <td>11</td>\n",
              "      <td>2015</td>\n",
              "      <td>10</td>\n",
              "      <td>18</td>\n",
              "      <td>191.5155</td>\n",
              "    </tr>\n",
              "    <tr>\n",
              "      <th>4</th>\n",
              "      <td>5</td>\n",
              "      <td>US-2015-108966</td>\n",
              "      <td>2015-10-11</td>\n",
              "      <td>2015-10-18</td>\n",
              "      <td>Standard Class</td>\n",
              "      <td>SO-20335</td>\n",
              "      <td>Sean O'Donnell</td>\n",
              "      <td>Consumer</td>\n",
              "      <td>United States</td>\n",
              "      <td>Fort Lauderdale</td>\n",
              "      <td>Florida</td>\n",
              "      <td>33311</td>\n",
              "      <td>South</td>\n",
              "      <td>OFF-ST-10000760</td>\n",
              "      <td>Office Supplies</td>\n",
              "      <td>Storage</td>\n",
              "      <td>Eldon Fold 'N Roll Cart System</td>\n",
              "      <td>22.3680</td>\n",
              "      <td>2</td>\n",
              "      <td>0.20</td>\n",
              "      <td>2.5164</td>\n",
              "      <td>2015</td>\n",
              "      <td>10</td>\n",
              "      <td>11</td>\n",
              "      <td>2015</td>\n",
              "      <td>10</td>\n",
              "      <td>18</td>\n",
              "      <td>11.1840</td>\n",
              "    </tr>\n",
              "  </tbody>\n",
              "</table>\n",
              "</div>"
            ],
            "text/plain": [
              "   Row ID        Order ID Order_date  ... Ship_month Ship_day Per_unit_price\n",
              "0       1  CA-2016-152156 2016-11-08  ...         11       11       130.9800\n",
              "1       2  CA-2016-152156 2016-11-08  ...         11       11       243.9800\n",
              "2       3  CA-2016-138688 2016-06-12  ...          6       16         7.3100\n",
              "3       4  US-2015-108966 2015-10-11  ...         10       18       191.5155\n",
              "4       5  US-2015-108966 2015-10-11  ...         10       18        11.1840\n",
              "\n",
              "[5 rows x 28 columns]"
            ]
          },
          "metadata": {
            "tags": []
          },
          "execution_count": 33
        }
      ]
    },
    {
      "cell_type": "code",
      "metadata": {
        "id": "9nzpamwBE6ab",
        "outputId": "cb54410b-1f0c-4f8e-a28b-eb26c256985d",
        "colab": {
          "base_uri": "https://localhost:8080/",
          "height": 547
        }
      },
      "source": [
        "#Dropping  Row ID column and assigning to df\n",
        "df_temp=df_temp.drop('Row ID',axis=1)\n",
        "df_temp.head()"
      ],
      "execution_count": null,
      "outputs": [
        {
          "output_type": "execute_result",
          "data": {
            "text/html": [
              "<div>\n",
              "<style scoped>\n",
              "    .dataframe tbody tr th:only-of-type {\n",
              "        vertical-align: middle;\n",
              "    }\n",
              "\n",
              "    .dataframe tbody tr th {\n",
              "        vertical-align: top;\n",
              "    }\n",
              "\n",
              "    .dataframe thead th {\n",
              "        text-align: right;\n",
              "    }\n",
              "</style>\n",
              "<table border=\"1\" class=\"dataframe\">\n",
              "  <thead>\n",
              "    <tr style=\"text-align: right;\">\n",
              "      <th></th>\n",
              "      <th>Order ID</th>\n",
              "      <th>Order_date</th>\n",
              "      <th>Ship_Date</th>\n",
              "      <th>Ship Mode</th>\n",
              "      <th>Customer ID</th>\n",
              "      <th>Customer Name</th>\n",
              "      <th>Segment</th>\n",
              "      <th>Country</th>\n",
              "      <th>City</th>\n",
              "      <th>State</th>\n",
              "      <th>Postal Code</th>\n",
              "      <th>Region</th>\n",
              "      <th>Product ID</th>\n",
              "      <th>Category</th>\n",
              "      <th>Sub-Category</th>\n",
              "      <th>Product Name</th>\n",
              "      <th>Sales</th>\n",
              "      <th>Quantity</th>\n",
              "      <th>Discount</th>\n",
              "      <th>Profit</th>\n",
              "      <th>Order_year</th>\n",
              "      <th>Order_month</th>\n",
              "      <th>Order_day</th>\n",
              "      <th>Ship_year</th>\n",
              "      <th>Ship_month</th>\n",
              "      <th>Ship_day</th>\n",
              "      <th>Per_unit_price</th>\n",
              "    </tr>\n",
              "  </thead>\n",
              "  <tbody>\n",
              "    <tr>\n",
              "      <th>0</th>\n",
              "      <td>CA-2016-152156</td>\n",
              "      <td>2016-11-08</td>\n",
              "      <td>2016-11-11</td>\n",
              "      <td>Second Class</td>\n",
              "      <td>CG-12520</td>\n",
              "      <td>Claire Gute</td>\n",
              "      <td>Consumer</td>\n",
              "      <td>United States</td>\n",
              "      <td>Henderson</td>\n",
              "      <td>Kentucky</td>\n",
              "      <td>42420</td>\n",
              "      <td>South</td>\n",
              "      <td>FUR-BO-10001798</td>\n",
              "      <td>Furniture</td>\n",
              "      <td>Bookcases</td>\n",
              "      <td>Bush Somerset Collection Bookcase</td>\n",
              "      <td>261.9600</td>\n",
              "      <td>2</td>\n",
              "      <td>0.00</td>\n",
              "      <td>41.9136</td>\n",
              "      <td>2016</td>\n",
              "      <td>11</td>\n",
              "      <td>8</td>\n",
              "      <td>2016</td>\n",
              "      <td>11</td>\n",
              "      <td>11</td>\n",
              "      <td>130.9800</td>\n",
              "    </tr>\n",
              "    <tr>\n",
              "      <th>1</th>\n",
              "      <td>CA-2016-152156</td>\n",
              "      <td>2016-11-08</td>\n",
              "      <td>2016-11-11</td>\n",
              "      <td>Second Class</td>\n",
              "      <td>CG-12520</td>\n",
              "      <td>Claire Gute</td>\n",
              "      <td>Consumer</td>\n",
              "      <td>United States</td>\n",
              "      <td>Henderson</td>\n",
              "      <td>Kentucky</td>\n",
              "      <td>42420</td>\n",
              "      <td>South</td>\n",
              "      <td>FUR-CH-10000454</td>\n",
              "      <td>Furniture</td>\n",
              "      <td>Chairs</td>\n",
              "      <td>Hon Deluxe Fabric Upholstered Stacking Chairs,...</td>\n",
              "      <td>731.9400</td>\n",
              "      <td>3</td>\n",
              "      <td>0.00</td>\n",
              "      <td>219.5820</td>\n",
              "      <td>2016</td>\n",
              "      <td>11</td>\n",
              "      <td>8</td>\n",
              "      <td>2016</td>\n",
              "      <td>11</td>\n",
              "      <td>11</td>\n",
              "      <td>243.9800</td>\n",
              "    </tr>\n",
              "    <tr>\n",
              "      <th>2</th>\n",
              "      <td>CA-2016-138688</td>\n",
              "      <td>2016-06-12</td>\n",
              "      <td>2016-06-16</td>\n",
              "      <td>Second Class</td>\n",
              "      <td>DV-13045</td>\n",
              "      <td>Darrin Van Huff</td>\n",
              "      <td>Corporate</td>\n",
              "      <td>United States</td>\n",
              "      <td>Los Angeles</td>\n",
              "      <td>California</td>\n",
              "      <td>90036</td>\n",
              "      <td>West</td>\n",
              "      <td>OFF-LA-10000240</td>\n",
              "      <td>Office Supplies</td>\n",
              "      <td>Labels</td>\n",
              "      <td>Self-Adhesive Address Labels for Typewriters b...</td>\n",
              "      <td>14.6200</td>\n",
              "      <td>2</td>\n",
              "      <td>0.00</td>\n",
              "      <td>6.8714</td>\n",
              "      <td>2016</td>\n",
              "      <td>6</td>\n",
              "      <td>12</td>\n",
              "      <td>2016</td>\n",
              "      <td>6</td>\n",
              "      <td>16</td>\n",
              "      <td>7.3100</td>\n",
              "    </tr>\n",
              "    <tr>\n",
              "      <th>3</th>\n",
              "      <td>US-2015-108966</td>\n",
              "      <td>2015-10-11</td>\n",
              "      <td>2015-10-18</td>\n",
              "      <td>Standard Class</td>\n",
              "      <td>SO-20335</td>\n",
              "      <td>Sean O'Donnell</td>\n",
              "      <td>Consumer</td>\n",
              "      <td>United States</td>\n",
              "      <td>Fort Lauderdale</td>\n",
              "      <td>Florida</td>\n",
              "      <td>33311</td>\n",
              "      <td>South</td>\n",
              "      <td>FUR-TA-10000577</td>\n",
              "      <td>Furniture</td>\n",
              "      <td>Tables</td>\n",
              "      <td>Bretford CR4500 Series Slim Rectangular Table</td>\n",
              "      <td>957.5775</td>\n",
              "      <td>5</td>\n",
              "      <td>0.45</td>\n",
              "      <td>-383.0310</td>\n",
              "      <td>2015</td>\n",
              "      <td>10</td>\n",
              "      <td>11</td>\n",
              "      <td>2015</td>\n",
              "      <td>10</td>\n",
              "      <td>18</td>\n",
              "      <td>191.5155</td>\n",
              "    </tr>\n",
              "    <tr>\n",
              "      <th>4</th>\n",
              "      <td>US-2015-108966</td>\n",
              "      <td>2015-10-11</td>\n",
              "      <td>2015-10-18</td>\n",
              "      <td>Standard Class</td>\n",
              "      <td>SO-20335</td>\n",
              "      <td>Sean O'Donnell</td>\n",
              "      <td>Consumer</td>\n",
              "      <td>United States</td>\n",
              "      <td>Fort Lauderdale</td>\n",
              "      <td>Florida</td>\n",
              "      <td>33311</td>\n",
              "      <td>South</td>\n",
              "      <td>OFF-ST-10000760</td>\n",
              "      <td>Office Supplies</td>\n",
              "      <td>Storage</td>\n",
              "      <td>Eldon Fold 'N Roll Cart System</td>\n",
              "      <td>22.3680</td>\n",
              "      <td>2</td>\n",
              "      <td>0.20</td>\n",
              "      <td>2.5164</td>\n",
              "      <td>2015</td>\n",
              "      <td>10</td>\n",
              "      <td>11</td>\n",
              "      <td>2015</td>\n",
              "      <td>10</td>\n",
              "      <td>18</td>\n",
              "      <td>11.1840</td>\n",
              "    </tr>\n",
              "  </tbody>\n",
              "</table>\n",
              "</div>"
            ],
            "text/plain": [
              "         Order ID Order_date  Ship_Date  ... Ship_month Ship_day Per_unit_price\n",
              "0  CA-2016-152156 2016-11-08 2016-11-11  ...         11       11       130.9800\n",
              "1  CA-2016-152156 2016-11-08 2016-11-11  ...         11       11       243.9800\n",
              "2  CA-2016-138688 2016-06-12 2016-06-16  ...          6       16         7.3100\n",
              "3  US-2015-108966 2015-10-11 2015-10-18  ...         10       18       191.5155\n",
              "4  US-2015-108966 2015-10-11 2015-10-18  ...         10       18        11.1840\n",
              "\n",
              "[5 rows x 27 columns]"
            ]
          },
          "metadata": {
            "tags": []
          },
          "execution_count": 37
        }
      ]
    },
    {
      "cell_type": "markdown",
      "metadata": {
        "id": "IH_Kme2mFwbZ"
      },
      "source": [
        "To find the most sold items, we can easily do so using a variety of plotting methods or, we can simply check the table containing frequency of each item.\n",
        "\n",
        "However, to make our finding more interactive, representable and understandable, we will use a pie chart.\n",
        "\n",
        "There are many advantages to a pie chart. They are quick and easy to understand and they tell us a percent wise division of the feature we want to explore"
      ]
    },
    {
      "cell_type": "code",
      "metadata": {
        "id": "06oMhPDGFPCy",
        "outputId": "27e08ddf-b574-448e-a991-2df36cf82f50",
        "colab": {
          "base_uri": "https://localhost:8080/",
          "height": 575
        }
      },
      "source": [
        "#making the pie chart\n",
        "plt.figure(figsize=(10,10))\n",
        "df_temp['Sub-Category'].value_counts().plot.pie(autopct=\"%1.1f%%\")\n",
        "plt.show()"
      ],
      "execution_count": null,
      "outputs": [
        {
          "output_type": "display_data",
          "data": {
            "image/png": "[encoded data removed]",
            "text/plain": [
              "<Figure size 720x720 with 1 Axes>"
            ]
          },
          "metadata": {
            "tags": []
          }
        }
      ]
    },
    {
      "cell_type": "code",
      "metadata": {
        "id": "yd0gMucaJISF"
      },
      "source": [
        "v"
      ],
      "execution_count": null,
      "outputs": []
    },
    {
      "cell_type": "markdown",
      "metadata": {
        "id": "TkVOVJN-GpYQ"
      },
      "source": [
        "From the above, it is clear that \"Binders\" are the most available product, followed by \"Paper\" and \"Furnishings\"\n",
        "\n",
        "Now, lets find which category takes us most of the inventory\n"
      ]
    },
    {
      "cell_type": "code",
      "metadata": {
        "id": "xe6wP6RkG2ix",
        "outputId": "2046d414-463e-4d77-9ebb-25c42dd2324a",
        "colab": {
          "base_uri": "https://localhost:8080/",
          "height": 575
        }
      },
      "source": [
        "plt.figure(figsize=(10,10))\n",
        "df_temp['Category'].value_counts().plot.pie(autopct=\"%1.1f%%\")\n",
        "plt.show()"
      ],
      "execution_count": null,
      "outputs": [
        {
          "output_type": "display_data",
          "data": {
            "image/png": "[encoded data removed]",
            "text/plain": [
              "<Figure size 720x720 with 1 Axes>"
            ]
          },
          "metadata": {
            "tags": []
          }
        }
      ]
    },
    {
      "cell_type": "markdown",
      "metadata": {
        "id": "6TlyxNSBHgA_"
      },
      "source": [
        "It is clear that the store mainly sells office supplies. This is important because while advertising and running ad campaigns, it gives the seller a better idea of the target audience and helps them fine tune thier advertising pitch to gain more customers"
      ]
    },
    {
      "cell_type": "markdown",
      "metadata": {
        "id": "fYNLzWNpJayP"
      },
      "source": [
        "Let us now see which are the most sold products\n"
      ]
    },
    {
      "cell_type": "code",
      "metadata": {
        "id": "5yMvfuMIJe90",
        "outputId": "102b1952-01b4-410d-bad5-7eeebc39e121",
        "colab": {
          "base_uri": "https://localhost:8080/",
          "height": 592
        }
      },
      "source": [
        "#top 5 products\n",
        "plt.figure(figsize=(12,10))\n",
        "df['Product Name'].value_counts().head(5).plot.pie(autopct=\"%1.1f%%\")"
      ],
      "execution_count": null,
      "outputs": [
        {
          "output_type": "execute_result",
          "data": {
            "text/plain": [
              "<matplotlib.axes._subplots.AxesSubplot at 0x7f1c595615c0>"
            ]
          },
          "metadata": {
            "tags": []
          },
          "execution_count": 40
        },
        {
          "output_type": "display_data",
          "data": {
            "image/png": "[encoded data removed]",
            "text/plain": [
              "<Figure size 864x720 with 1 Axes>"
            ]
          },
          "metadata": {
            "tags": []
          }
        }
      ]
    },
    {
      "cell_type": "markdown",
      "metadata": {
        "id": "91Xu0lbbJ9j5"
      },
      "source": [
        "Let us now explore how customers interact with the supplier"
      ]
    },
    {
      "cell_type": "code",
      "metadata": {
        "id": "F_lYT6N0J3n2",
        "outputId": "fdfcbf60-2308-44a8-eb75-5fd96d30e140",
        "colab": {
          "base_uri": "https://localhost:8080/",
          "height": 289
        }
      },
      "source": [
        "#printing out the top 15 customers (customers who order frequently)\n",
        "df_top_cus=df_temp['Customer Name'].value_counts().head(15)\n",
        "df_top_cus"
      ],
      "execution_count": null,
      "outputs": [
        {
          "output_type": "execute_result",
          "data": {
            "text/plain": [
              "William Brown          37\n",
              "John Lee               34\n",
              "Paul Prost             34\n",
              "Matt Abelman           34\n",
              "Chloris Kastensmidt    32\n",
              "Jonathan Doherty       32\n",
              "Seth Vernon            32\n",
              "Edward Hooks           32\n",
              "Arthur Prichep         31\n",
              "Zuschuss Carroll       31\n",
              "Emily Phan             31\n",
              "Lena Cacioppo          30\n",
              "Brian Moss             29\n",
              "Sally Hughsby          29\n",
              "Ken Lonsdale           29\n",
              "Name: Customer Name, dtype: int64"
            ]
          },
          "metadata": {
            "tags": []
          },
          "execution_count": 41
        }
      ]
    },
    {
      "cell_type": "markdown",
      "metadata": {
        "id": "s0GX_xQsKl2I"
      },
      "source": [
        "The above is a list of customers who seem to be loyal and recurrent customers."
      ]
    },
    {
      "cell_type": "code",
      "metadata": {
        "id": "WMn-uvHwKvBJ",
        "outputId": "f6dbb0dd-3dc6-4116-dbad-05d818e86e01",
        "colab": {
          "base_uri": "https://localhost:8080/",
          "height": 178
        }
      },
      "source": [
        "df_top_city=df_temp['City'].value_counts().head(15)\n",
        "df_top_city"
      ],
      "execution_count": 1,
      "outputs": [
        {
          "output_type": "error",
          "ename": "NameError",
          "evalue": "ignored",
          "traceback": [
            "\u001b[0;31m---------------------------------------------------------------------------\u001b[0m",
            "\u001b[0;31mNameError\u001b[0m                                 Traceback (most recent call last)",
            "\u001b[0;32m<ipython-input-1-3b593b00a3e8>\u001b[0m in \u001b[0;36m<module>\u001b[0;34m()\u001b[0m\n\u001b[0;32m----> 1\u001b[0;31m \u001b[0mdf_top_city\u001b[0m\u001b[0;34m=\u001b[0m\u001b[0mdf_temp\u001b[0m\u001b[0;34m[\u001b[0m\u001b[0;34m'City'\u001b[0m\u001b[0;34m]\u001b[0m\u001b[0;34m.\u001b[0m\u001b[0mvalue_counts\u001b[0m\u001b[0;34m(\u001b[0m\u001b[0;34m)\u001b[0m\u001b[0;34m.\u001b[0m\u001b[0mhead\u001b[0m\u001b[0;34m(\u001b[0m\u001b[0;36m15\u001b[0m\u001b[0;34m)\u001b[0m\u001b[0;34m\u001b[0m\u001b[0;34m\u001b[0m\u001b[0m\n\u001b[0m\u001b[1;32m      2\u001b[0m \u001b[0mdf_top_city\u001b[0m\u001b[0;34m\u001b[0m\u001b[0;34m\u001b[0m\u001b[0m\n",
            "\u001b[0;31mNameError\u001b[0m: name 'df_temp' is not defined"
          ]
        }
      ]
    },
    {
      "cell_type": "code",
      "metadata": {
        "id": "3EgKvay9KW03"
      },
      "source": [
        ""
      ],
      "execution_count": null,
      "outputs": []
    }
  ]
}